{
 "cells": [
  {
   "cell_type": "markdown",
   "metadata": {},
   "source": [
    "# PACEUTILS\n",
    "\n",
    "A package for computing values and data frames from the PACE-RI database. This guide can also be used to define certain calculations. Once the files are downloaded it can be installed using the command below (any updates by the data analyst to paceutils files will need be copied into the folder for the install to be updated);\n",
    "\n",
    "`python -m pip install -e c:\\path_to_paceutils_folder`"
   ]
  },
  {
   "cell_type": "markdown",
   "metadata": {},
   "source": [
    "### Importing All Modules"
   ]
  },
  {
   "cell_type": "code",
   "execution_count": 1,
   "metadata": {},
   "outputs": [],
   "source": [
    "import paceutils as pu"
   ]
  },
  {
   "cell_type": "markdown",
   "metadata": {},
   "source": [
    "### Importing A Single Module"
   ]
  },
  {
   "cell_type": "code",
   "execution_count": 2,
   "metadata": {},
   "outputs": [],
   "source": [
    "from paceutils import Enrollment"
   ]
  },
  {
   "cell_type": "markdown",
   "metadata": {},
   "source": [
    "### Specifying the Database\n",
    "The connection is opened and closed in each function."
   ]
  },
  {
   "cell_type": "code",
   "execution_count": 3,
   "metadata": {},
   "outputs": [],
   "source": [
    "e = Enrollment() #default V:\\Databases\\PaceDashboard.db\n",
    "# or\n",
    "e = Enrollment(\"V:\\\\Databases\\\\PaceDashboard.db\")"
   ]
  },
  {
   "cell_type": "markdown",
   "metadata": {},
   "source": [
    "### Running Functions\n",
    "You can run from the variable the class is initialized to or from the class itself."
   ]
  },
  {
   "cell_type": "code",
   "execution_count": 4,
   "metadata": {},
   "outputs": [
    {
     "data": {
      "text/plain": [
       "307"
      ]
     },
     "execution_count": 4,
     "metadata": {},
     "output_type": "execute_result"
    }
   ],
   "source": [
    "e.census_during_period(params = ('2019-01-01', '2019-01-01'))"
   ]
  },
  {
   "cell_type": "code",
   "execution_count": 5,
   "metadata": {},
   "outputs": [
    {
     "data": {
      "text/plain": [
       "307"
      ]
     },
     "execution_count": 5,
     "metadata": {},
     "output_type": "execute_result"
    }
   ],
   "source": [
    "Enrollment().census_during_period(params = ('2019-01-01', '2019-01-01'))"
   ]
  },
  {
   "cell_type": "markdown",
   "metadata": {},
   "source": [
    "### Common Definitions for Calculations (some of these are reiterated below)\n",
    "**Member Months:** A participant is included in the member month count if they are enrolled as of the first of the month. This means a ppt enrolled on July 1st and disenrolled on September 22nd would have a member month count of 3.\n",
    "\n",
    "**Net Enrollment:** The difference between the new enrollments on the first of a month and the disenrollments from the previous month.\n",
    "\n",
    "**Census as of Date:** Count of ppts who have an enrollment date before or on the date and a disenrollment date on or after the date.\n",
    "\n",
    "**Census Today:** Count of ppts with an enrollment date before or on today and no disenrollment date.\n",
    "\n",
    "**Census Over Period:** Count of participants with a disenrollment date on or after the start date and an enrollment date before or on the end date of the period.\n",
    "\n",
    "**Average Years Enrolled:** The difference between today or the ppts disenrollment date and their enrollment date divided by 365.25.\n",
    "\n",
    "**Growth:** The difference between the census at the end of a period and the census at the start of a period divided by the census at the start of the period.\n",
    "\n",
    "**Churn:** The quotient of disenrollments during a period and the census on the start date of the period.\n",
    "\n",
    "**Adjusted Incident Count:** The count of an incidents minus any incidents attributed to ppts with an incident count 3 standard deviations above the average for ppts with an incident. I.e.: If the average number of falls per faller is 2 with a standard deviation of 0.5, then the falls of any ppts with a count above 2+(0.5\\*3) = 3.5 would be excluded from the adjusted count.\n",
    "\n",
    "**Living in the Community:** Count of ppts not in custodial care. Included respite, skilled, and assisted living ppts.\n",
    "\n",
    "**Days vs LOS**: Length of Stay is only calculated for discharges and will cover the entire stay. Days is calculated for all admissions and if there is no discharge date, the end date of the period is used. When counting days in a month, the first of the month is used as the admission date for any admission with a date before the period."
   ]
  },
  {
   "cell_type": "markdown",
   "metadata": {},
   "source": [
    "## General Use Helpers\n",
    "\n",
    "Functions for querying the database and parsing dates. ***All*** other classes inherit from the Helpers class."
   ]
  },
  {
   "cell_type": "code",
   "execution_count": 6,
   "metadata": {},
   "outputs": [],
   "source": [
    "helpers = pu.Helpers()"
   ]
  },
  {
   "cell_type": "markdown",
   "metadata": {},
   "source": [
    "### Single Value Query\n",
    "\n",
    "Returns a single value from the database, uses .fetchone from the sqlite3 package. Takes a query and any necessary parameters (note: params can be left blank)."
   ]
  },
  {
   "cell_type": "code",
   "execution_count": 7,
   "metadata": {},
   "outputs": [
    {
     "data": {
      "text/plain": [
       "307"
      ]
     },
     "execution_count": 7,
     "metadata": {},
     "output_type": "execute_result"
    }
   ],
   "source": [
    "helpers.single_value_query(q = \"SELECT total FROM monthly_census WHERE month = ?\",\n",
    "                           params = ('2019-01-01',))"
   ]
  },
  {
   "cell_type": "code",
   "execution_count": 8,
   "metadata": {},
   "outputs": [
    {
     "data": {
      "text/plain": [
       "307"
      ]
     },
     "execution_count": 8,
     "metadata": {},
     "output_type": "execute_result"
    }
   ],
   "source": [
    "helpers.single_value_query(q = \"SELECT total FROM monthly_census WHERE month = '2019-01-01'\")"
   ]
  },
  {
   "cell_type": "markdown",
   "metadata": {},
   "source": [
    "### List of Tuple Query\n",
    "\n",
    "Returns a list of tuples from the database, uses .fetchall from the sqlite3 package. Takes a query and any necessary parameters (note: params can be left blank)."
   ]
  },
  {
   "cell_type": "code",
   "execution_count": 9,
   "metadata": {},
   "outputs": [
    {
     "data": {
      "text/plain": [
       "[('2019-01-01', 242, 58, 7, 307),\n",
       " ('2019-02-01', 243, 59, 7, 309),\n",
       " ('2019-03-01', 242, 60, 7, 309),\n",
       " ('2019-04-01', 245, 65, 8, 318),\n",
       " ('2019-05-01', 241, 66, 9, 316)]"
      ]
     },
     "execution_count": 9,
     "metadata": {},
     "output_type": "execute_result"
    }
   ],
   "source": [
    "helpers.fetchall_query(q = \"SELECT * FROM monthly_census WHERE MONTH >= ? LIMIT 5\",\n",
    "                       params = ('2019-01-01',))"
   ]
  },
  {
   "cell_type": "code",
   "execution_count": 10,
   "metadata": {},
   "outputs": [
    {
     "data": {
      "text/plain": [
       "[('2019-01-01', 242, 58, 7, 307),\n",
       " ('2019-02-01', 243, 59, 7, 309),\n",
       " ('2019-03-01', 242, 60, 7, 309),\n",
       " ('2019-04-01', 245, 65, 8, 318),\n",
       " ('2019-05-01', 241, 66, 9, 316)]"
      ]
     },
     "execution_count": 10,
     "metadata": {},
     "output_type": "execute_result"
    }
   ],
   "source": [
    "helpers.fetchall_query(q = \"SELECT * FROM monthly_census WHERE MONTH >= '2019-01-01' LIMIT 5\")"
   ]
  },
  {
   "cell_type": "markdown",
   "metadata": {},
   "source": [
    "### DataFrame Query\n",
    "\n",
    "Returns a pandas DataFrame from the database, uses pd.read_sql. Takes a query and any necessary parameters (note: params can be left blank)."
   ]
  },
  {
   "cell_type": "code",
   "execution_count": 11,
   "metadata": {},
   "outputs": [
    {
     "data": {
      "text/html": [
       "<div>\n",
       "<style scoped>\n",
       "    .dataframe tbody tr th:only-of-type {\n",
       "        vertical-align: middle;\n",
       "    }\n",
       "\n",
       "    .dataframe tbody tr th {\n",
       "        vertical-align: top;\n",
       "    }\n",
       "\n",
       "    .dataframe thead th {\n",
       "        text-align: right;\n",
       "    }\n",
       "</style>\n",
       "<table border=\"1\" class=\"dataframe\">\n",
       "  <thead>\n",
       "    <tr style=\"text-align: right;\">\n",
       "      <th></th>\n",
       "      <th>month</th>\n",
       "      <th>providence</th>\n",
       "      <th>woonsocket</th>\n",
       "      <th>westerly</th>\n",
       "      <th>total</th>\n",
       "    </tr>\n",
       "  </thead>\n",
       "  <tbody>\n",
       "    <tr>\n",
       "      <th>0</th>\n",
       "      <td>2019-01-01</td>\n",
       "      <td>242</td>\n",
       "      <td>58</td>\n",
       "      <td>7</td>\n",
       "      <td>307</td>\n",
       "    </tr>\n",
       "    <tr>\n",
       "      <th>1</th>\n",
       "      <td>2019-02-01</td>\n",
       "      <td>243</td>\n",
       "      <td>59</td>\n",
       "      <td>7</td>\n",
       "      <td>309</td>\n",
       "    </tr>\n",
       "    <tr>\n",
       "      <th>2</th>\n",
       "      <td>2019-03-01</td>\n",
       "      <td>242</td>\n",
       "      <td>60</td>\n",
       "      <td>7</td>\n",
       "      <td>309</td>\n",
       "    </tr>\n",
       "    <tr>\n",
       "      <th>3</th>\n",
       "      <td>2019-04-01</td>\n",
       "      <td>245</td>\n",
       "      <td>65</td>\n",
       "      <td>8</td>\n",
       "      <td>318</td>\n",
       "    </tr>\n",
       "    <tr>\n",
       "      <th>4</th>\n",
       "      <td>2019-05-01</td>\n",
       "      <td>241</td>\n",
       "      <td>66</td>\n",
       "      <td>9</td>\n",
       "      <td>316</td>\n",
       "    </tr>\n",
       "  </tbody>\n",
       "</table>\n",
       "</div>"
      ],
      "text/plain": [
       "        month  providence  woonsocket  westerly  total\n",
       "0  2019-01-01         242          58         7    307\n",
       "1  2019-02-01         243          59         7    309\n",
       "2  2019-03-01         242          60         7    309\n",
       "3  2019-04-01         245          65         8    318\n",
       "4  2019-05-01         241          66         9    316"
      ]
     },
     "execution_count": 11,
     "metadata": {},
     "output_type": "execute_result"
    }
   ],
   "source": [
    "helpers.dataframe_query(q = \"SELECT * FROM monthly_census WHERE MONTH >= ? LIMIT 5\",\n",
    "                        params = ('2019-01-01',))"
   ]
  },
  {
   "cell_type": "code",
   "execution_count": 12,
   "metadata": {},
   "outputs": [
    {
     "data": {
      "text/html": [
       "<div>\n",
       "<style scoped>\n",
       "    .dataframe tbody tr th:only-of-type {\n",
       "        vertical-align: middle;\n",
       "    }\n",
       "\n",
       "    .dataframe tbody tr th {\n",
       "        vertical-align: top;\n",
       "    }\n",
       "\n",
       "    .dataframe thead th {\n",
       "        text-align: right;\n",
       "    }\n",
       "</style>\n",
       "<table border=\"1\" class=\"dataframe\">\n",
       "  <thead>\n",
       "    <tr style=\"text-align: right;\">\n",
       "      <th></th>\n",
       "      <th>month</th>\n",
       "      <th>providence</th>\n",
       "      <th>woonsocket</th>\n",
       "      <th>westerly</th>\n",
       "      <th>total</th>\n",
       "    </tr>\n",
       "  </thead>\n",
       "  <tbody>\n",
       "    <tr>\n",
       "      <th>0</th>\n",
       "      <td>2019-01-01</td>\n",
       "      <td>242</td>\n",
       "      <td>58</td>\n",
       "      <td>7</td>\n",
       "      <td>307</td>\n",
       "    </tr>\n",
       "    <tr>\n",
       "      <th>1</th>\n",
       "      <td>2019-02-01</td>\n",
       "      <td>243</td>\n",
       "      <td>59</td>\n",
       "      <td>7</td>\n",
       "      <td>309</td>\n",
       "    </tr>\n",
       "    <tr>\n",
       "      <th>2</th>\n",
       "      <td>2019-03-01</td>\n",
       "      <td>242</td>\n",
       "      <td>60</td>\n",
       "      <td>7</td>\n",
       "      <td>309</td>\n",
       "    </tr>\n",
       "    <tr>\n",
       "      <th>3</th>\n",
       "      <td>2019-04-01</td>\n",
       "      <td>245</td>\n",
       "      <td>65</td>\n",
       "      <td>8</td>\n",
       "      <td>318</td>\n",
       "    </tr>\n",
       "    <tr>\n",
       "      <th>4</th>\n",
       "      <td>2019-05-01</td>\n",
       "      <td>241</td>\n",
       "      <td>66</td>\n",
       "      <td>9</td>\n",
       "      <td>316</td>\n",
       "    </tr>\n",
       "  </tbody>\n",
       "</table>\n",
       "</div>"
      ],
      "text/plain": [
       "        month  providence  woonsocket  westerly  total\n",
       "0  2019-01-01         242          58         7    307\n",
       "1  2019-02-01         243          59         7    309\n",
       "2  2019-03-01         242          60         7    309\n",
       "3  2019-04-01         245          65         8    318\n",
       "4  2019-05-01         241          66         9    316"
      ]
     },
     "execution_count": 12,
     "metadata": {},
     "output_type": "execute_result"
    }
   ],
   "source": [
    "helpers.dataframe_query(q = \"SELECT * FROM monthly_census WHERE MONTH >= '2019-01-01' LIMIT 5\")"
   ]
  },
  {
   "cell_type": "markdown",
   "metadata": {},
   "source": [
    "### Create a Time/Value DataFrame for Plotting\n",
    "\n",
    "Takes an indicator calculating function and creates a pandas DataFrame of the monthly or quarterly value (based on freq parameter) for this indicator over the provided params. If no params are provided, it will create a DataFrame for the previous year. if the indicator need additional parameters other than date ranges, they can be provided in additional_func_args."
   ]
  },
  {
   "cell_type": "code",
   "execution_count": 13,
   "metadata": {},
   "outputs": [
    {
     "data": {
      "text/html": [
       "<div>\n",
       "<style scoped>\n",
       "    .dataframe tbody tr th:only-of-type {\n",
       "        vertical-align: middle;\n",
       "    }\n",
       "\n",
       "    .dataframe tbody tr th {\n",
       "        vertical-align: top;\n",
       "    }\n",
       "\n",
       "    .dataframe thead th {\n",
       "        text-align: right;\n",
       "    }\n",
       "</style>\n",
       "<table border=\"1\" class=\"dataframe\">\n",
       "  <thead>\n",
       "    <tr style=\"text-align: right;\">\n",
       "      <th></th>\n",
       "      <th>Month</th>\n",
       "      <th>Value</th>\n",
       "    </tr>\n",
       "  </thead>\n",
       "  <tbody>\n",
       "    <tr>\n",
       "      <th>0</th>\n",
       "      <td>2019-01-01</td>\n",
       "      <td>304</td>\n",
       "    </tr>\n",
       "    <tr>\n",
       "      <th>1</th>\n",
       "      <td>2019-02-01</td>\n",
       "      <td>305</td>\n",
       "    </tr>\n",
       "    <tr>\n",
       "      <th>2</th>\n",
       "      <td>2019-03-01</td>\n",
       "      <td>306</td>\n",
       "    </tr>\n",
       "    <tr>\n",
       "      <th>3</th>\n",
       "      <td>2019-04-01</td>\n",
       "      <td>313</td>\n",
       "    </tr>\n",
       "    <tr>\n",
       "      <th>4</th>\n",
       "      <td>2019-05-01</td>\n",
       "      <td>312</td>\n",
       "    </tr>\n",
       "    <tr>\n",
       "      <th>5</th>\n",
       "      <td>2019-06-01</td>\n",
       "      <td>315</td>\n",
       "    </tr>\n",
       "    <tr>\n",
       "      <th>6</th>\n",
       "      <td>2019-07-01</td>\n",
       "      <td>319</td>\n",
       "    </tr>\n",
       "    <tr>\n",
       "      <th>7</th>\n",
       "      <td>2019-08-01</td>\n",
       "      <td>322</td>\n",
       "    </tr>\n",
       "    <tr>\n",
       "      <th>8</th>\n",
       "      <td>2019-09-01</td>\n",
       "      <td>336</td>\n",
       "    </tr>\n",
       "  </tbody>\n",
       "</table>\n",
       "</div>"
      ],
      "text/plain": [
       "        Month  Value\n",
       "0  2019-01-01    304\n",
       "1  2019-02-01    305\n",
       "2  2019-03-01    306\n",
       "3  2019-04-01    313\n",
       "4  2019-05-01    312\n",
       "5  2019-06-01    315\n",
       "6  2019-07-01    319\n",
       "7  2019-08-01    322\n",
       "8  2019-09-01    336"
      ]
     },
     "execution_count": 13,
     "metadata": {},
     "output_type": "execute_result"
    }
   ],
   "source": [
    "helpers.loop_plot_df(indicator_func = e.census_on_end_date,\n",
    "                     params = ('2019-01-01', '2019-09-30'),\n",
    "                     freq=\"MS\",\n",
    "                     additional_func_args=None)"
   ]
  },
  {
   "cell_type": "code",
   "execution_count": 14,
   "metadata": {},
   "outputs": [
    {
     "data": {
      "text/html": [
       "<div>\n",
       "<style scoped>\n",
       "    .dataframe tbody tr th:only-of-type {\n",
       "        vertical-align: middle;\n",
       "    }\n",
       "\n",
       "    .dataframe tbody tr th {\n",
       "        vertical-align: top;\n",
       "    }\n",
       "\n",
       "    .dataframe thead th {\n",
       "        text-align: right;\n",
       "    }\n",
       "</style>\n",
       "<table border=\"1\" class=\"dataframe\">\n",
       "  <thead>\n",
       "    <tr style=\"text-align: right;\">\n",
       "      <th></th>\n",
       "      <th>Month</th>\n",
       "      <th>Value</th>\n",
       "    </tr>\n",
       "  </thead>\n",
       "  <tbody>\n",
       "    <tr>\n",
       "      <th>0</th>\n",
       "      <td>2019-01-01</td>\n",
       "      <td>306</td>\n",
       "    </tr>\n",
       "    <tr>\n",
       "      <th>1</th>\n",
       "      <td>2019-04-01</td>\n",
       "      <td>315</td>\n",
       "    </tr>\n",
       "    <tr>\n",
       "      <th>2</th>\n",
       "      <td>2019-07-01</td>\n",
       "      <td>336</td>\n",
       "    </tr>\n",
       "    <tr>\n",
       "      <th>3</th>\n",
       "      <td>2019-10-01</td>\n",
       "      <td>339</td>\n",
       "    </tr>\n",
       "    <tr>\n",
       "      <th>4</th>\n",
       "      <td>2020-01-01</td>\n",
       "      <td>346</td>\n",
       "    </tr>\n",
       "  </tbody>\n",
       "</table>\n",
       "</div>"
      ],
      "text/plain": [
       "        Month  Value\n",
       "0  2019-01-01    306\n",
       "1  2019-04-01    315\n",
       "2  2019-07-01    336\n",
       "3  2019-10-01    339\n",
       "4  2020-01-01    346"
      ]
     },
     "execution_count": 14,
     "metadata": {},
     "output_type": "execute_result"
    }
   ],
   "source": [
    "helpers.loop_plot_df(indicator_func = e.census_on_end_date, freq=\"QS\")"
   ]
  },
  {
   "cell_type": "markdown",
   "metadata": {},
   "source": [
    "### Date-Related Helper Functions\n",
    "The following require no parameters and return the dates based on today."
   ]
  },
  {
   "cell_type": "code",
   "execution_count": 15,
   "metadata": {},
   "outputs": [
    {
     "name": "stdout",
     "output_type": "stream",
     "text": [
      "('2020-02-01', '2020-02-18')\n",
      "('2020-01-01', '2020-01-31')\n",
      "('2019-11-01', '2020-01-31')\n",
      "('2019-08-01', '2020-01-31')\n",
      "('2019-02-01', '2020-01-31')\n",
      "('2019-10-01', '2019-12-31')\n",
      "('2020-01-01', '2020-03-31')\n"
     ]
    }
   ],
   "source": [
    "print(helpers.month_to_date())\n",
    "print(helpers.last_month())\n",
    "print(helpers.last_three_months())\n",
    "print(helpers.last_six_months())\n",
    "print(helpers.last_year())\n",
    "print(helpers.last_quarter())\n",
    "print(helpers.quarter_to_date())"
   ]
  },
  {
   "cell_type": "markdown",
   "metadata": {},
   "source": [
    "Last quarter can also the number and year of the previous quarter."
   ]
  },
  {
   "cell_type": "code",
   "execution_count": 16,
   "metadata": {},
   "outputs": [
    {
     "data": {
      "text/plain": [
       "(4, 2019)"
      ]
     },
     "execution_count": 16,
     "metadata": {},
     "output_type": "execute_result"
    }
   ],
   "source": [
    "helpers.last_quarter(return_q=True)"
   ]
  },
  {
   "cell_type": "markdown",
   "metadata": {},
   "source": [
    "Returns the date for a given quarter and year."
   ]
  },
  {
   "cell_type": "code",
   "execution_count": 17,
   "metadata": {},
   "outputs": [
    {
     "data": {
      "text/plain": [
       "('2019-04-01', '2019-06-30')"
      ]
     },
     "execution_count": 17,
     "metadata": {},
     "output_type": "execute_result"
    }
   ],
   "source": [
    "helpers.get_quarter_dates(q=2, yr=2019)"
   ]
  },
  {
   "cell_type": "markdown",
   "metadata": {},
   "source": [
    "Takes a tuple of dates as the parameters and returns the dates for either the previous month or quarter."
   ]
  },
  {
   "cell_type": "code",
   "execution_count": 18,
   "metadata": {},
   "outputs": [
    {
     "data": {
      "text/plain": [
       "('2019-12-01', '2019-12-31')"
      ]
     },
     "execution_count": 18,
     "metadata": {},
     "output_type": "execute_result"
    }
   ],
   "source": [
    "helpers.prev_month_dates(params=helpers.last_month())"
   ]
  },
  {
   "cell_type": "code",
   "execution_count": 19,
   "metadata": {},
   "outputs": [
    {
     "data": {
      "text/plain": [
       "('2019-07-01', '2019-09-30')"
      ]
     },
     "execution_count": 19,
     "metadata": {},
     "output_type": "execute_result"
    }
   ],
   "source": [
    "helpers.prev_quarter_dates(params=helpers.last_quarter())"
   ]
  },
  {
   "cell_type": "markdown",
   "metadata": {},
   "source": [
    "## Enrollment"
   ]
  },
  {
   "cell_type": "code",
   "execution_count": 20,
   "metadata": {},
   "outputs": [],
   "source": [
    "enrollment = Enrollment()"
   ]
  },
  {
   "cell_type": "markdown",
   "metadata": {},
   "source": [
    "### Census Today\n",
    "Count of participants in enrollment file with a null disenrollment date."
   ]
  },
  {
   "cell_type": "code",
   "execution_count": 21,
   "metadata": {},
   "outputs": [
    {
     "data": {
      "text/plain": [
       "346"
      ]
     },
     "execution_count": 21,
     "metadata": {},
     "output_type": "execute_result"
    }
   ],
   "source": [
    "enrollment.census_today()"
   ]
  },
  {
   "cell_type": "code",
   "execution_count": 22,
   "metadata": {},
   "outputs": [],
   "source": [
    "params=(\"2019-01-01\", \"2019-03-31\")"
   ]
  },
  {
   "cell_type": "markdown",
   "metadata": {},
   "source": [
    "### Census During A Period\n",
    "Count of ppts with an enrollment date prior to the end date and a disenrollment date that is null or after the start date."
   ]
  },
  {
   "cell_type": "code",
   "execution_count": 23,
   "metadata": {},
   "outputs": [
    {
     "data": {
      "text/plain": [
       "320"
      ]
     },
     "execution_count": 23,
     "metadata": {},
     "output_type": "execute_result"
    }
   ],
   "source": [
    "enrollment.census_during_period(params=params)"
   ]
  },
  {
   "cell_type": "markdown",
   "metadata": {},
   "source": [
    "### Census at the End of a Period\n",
    "Count of ppts with an enrollment date before the start date and a disenrollment date that is null or after the end date."
   ]
  },
  {
   "cell_type": "code",
   "execution_count": 24,
   "metadata": {},
   "outputs": [
    {
     "data": {
      "text/plain": [
       "306"
      ]
     },
     "execution_count": 24,
     "metadata": {},
     "output_type": "execute_result"
    }
   ],
   "source": [
    "enrollment.census_on_end_date(params=params)"
   ]
  },
  {
   "cell_type": "markdown",
   "metadata": {},
   "source": [
    "### Member Months\n",
    "Sum of the first of the month census for each month between the two param dates."
   ]
  },
  {
   "cell_type": "code",
   "execution_count": 25,
   "metadata": {},
   "outputs": [
    {
     "data": {
      "text/plain": [
       "925"
      ]
     },
     "execution_count": 25,
     "metadata": {},
     "output_type": "execute_result"
    }
   ],
   "source": [
    "enrollment.member_months(params=params)"
   ]
  },
  {
   "cell_type": "markdown",
   "metadata": {},
   "source": [
    "### Disenrolled\n",
    "Count of ppts with a disenrollment date between the two param dates."
   ]
  },
  {
   "cell_type": "code",
   "execution_count": 26,
   "metadata": {},
   "outputs": [
    {
     "data": {
      "text/plain": [
       "15"
      ]
     },
     "execution_count": 26,
     "metadata": {},
     "output_type": "execute_result"
    }
   ],
   "source": [
    "enrollment.disenrolled(params=params)"
   ]
  },
  {
   "cell_type": "markdown",
   "metadata": {},
   "source": [
    "### Enrolled\n",
    "Count of ppts with a enrollment date between the two param dates."
   ]
  },
  {
   "cell_type": "code",
   "execution_count": 27,
   "metadata": {},
   "outputs": [
    {
     "data": {
      "text/plain": [
       "19"
      ]
     },
     "execution_count": 27,
     "metadata": {},
     "output_type": "execute_result"
    }
   ],
   "source": [
    "enrollment.enrolled(params=params)"
   ]
  },
  {
   "cell_type": "markdown",
   "metadata": {},
   "source": [
    "### Deaths\n",
    "Count of ppts with a disenrollment date between the two param dates and a disenroll type of 'Deceased'."
   ]
  },
  {
   "cell_type": "code",
   "execution_count": 28,
   "metadata": {},
   "outputs": [
    {
     "data": {
      "text/plain": [
       "10"
      ]
     },
     "execution_count": 28,
     "metadata": {},
     "output_type": "execute_result"
    }
   ],
   "source": [
    "enrollment.deaths(params=params)"
   ]
  },
  {
   "cell_type": "markdown",
   "metadata": {},
   "source": [
    "### Net Enrollment (total during period)\n",
    "`enrolled` - `disenrolled` for the dates between the two param dates."
   ]
  },
  {
   "cell_type": "code",
   "execution_count": 29,
   "metadata": {},
   "outputs": [
    {
     "data": {
      "text/plain": [
       "4"
      ]
     },
     "execution_count": 29,
     "metadata": {},
     "output_type": "execute_result"
    }
   ],
   "source": [
    "enrollment.net_enrollment_during_period(params=params)"
   ]
  },
  {
   "cell_type": "markdown",
   "metadata": {},
   "source": [
    "### Net Enrollment (for month)\n",
    "`enrolled` for the dates between the two param dates - `disenrolled` for the month before the starting date of the params.\n",
    "\n",
    "Difference between ppts enrolled on the first of a month and the disenrollments of the previous month. For a quarter this means we are adding up the number of new ppts on the first of each month in quarter and subtracting the number of disenrollment from the month before the quarter through the middle month of the quarter."
   ]
  },
  {
   "cell_type": "code",
   "execution_count": 30,
   "metadata": {},
   "outputs": [
    {
     "data": {
      "text/plain": [
       "5"
      ]
     },
     "execution_count": 30,
     "metadata": {},
     "output_type": "execute_result"
    }
   ],
   "source": [
    "enrollment.net_enrollment(params=params)"
   ]
  },
  {
   "cell_type": "markdown",
   "metadata": {},
   "source": [
    "### Voluntary Disenrollments\n",
    "Count of ppts with a disenrollment date between the two param dates and a disenroll type of 'Voluntary'."
   ]
  },
  {
   "cell_type": "code",
   "execution_count": 31,
   "metadata": {},
   "outputs": [
    {
     "data": {
      "text/plain": [
       "5"
      ]
     },
     "execution_count": 31,
     "metadata": {},
     "output_type": "execute_result"
    }
   ],
   "source": [
    "enrollment.voluntary_disenrolled(params=params)"
   ]
  },
  {
   "cell_type": "markdown",
   "metadata": {},
   "source": [
    "### Percent of Disenrollments that are Voluntary\n",
    "`voluntary_disenrolled` divided by `disenrolled` multiplied by 100."
   ]
  },
  {
   "cell_type": "code",
   "execution_count": 32,
   "metadata": {},
   "outputs": [
    {
     "data": {
      "text/plain": [
       "33.33"
      ]
     },
     "execution_count": 32,
     "metadata": {},
     "output_type": "execute_result"
    }
   ],
   "source": [
    "enrollment.voluntary_disenrolled_percent(params=params)"
   ]
  },
  {
   "cell_type": "markdown",
   "metadata": {},
   "source": [
    "### Average Years Enrolled in PACE (for ppts enrolled in period)\n",
    "Average of the difference between today's date or the ppt's disenrollment date and their enrollment date divided by 326.25."
   ]
  },
  {
   "cell_type": "code",
   "execution_count": 33,
   "metadata": {},
   "outputs": [
    {
     "data": {
      "text/plain": [
       "4.4"
      ]
     },
     "execution_count": 33,
     "metadata": {},
     "output_type": "execute_result"
    }
   ],
   "source": [
    "enrollment.avg_years_enrolled(params=params)"
   ]
  },
  {
   "cell_type": "markdown",
   "metadata": {},
   "source": [
    "### Growth Rate\n",
    "Census as of the first of the previous month from the given param dates minus the census as of the first of the month for the given params divided bu the census as of the first of the previous month from the given param dates multiplied by 100."
   ]
  },
  {
   "cell_type": "code",
   "execution_count": 34,
   "metadata": {},
   "outputs": [
    {
     "data": {
      "text/plain": [
       "0.99"
      ]
     },
     "execution_count": 34,
     "metadata": {},
     "output_type": "execute_result"
    }
   ],
   "source": [
    "enrollment.growth_rate(params=params)"
   ]
  },
  {
   "cell_type": "markdown",
   "metadata": {},
   "source": [
    "### Churn Rate\n",
    "`disenrolled` for the given params divided by the census as of the first date in params tuple."
   ]
  },
  {
   "cell_type": "code",
   "execution_count": 35,
   "metadata": {},
   "outputs": [
    {
     "data": {
      "text/plain": [
       "4.89"
      ]
     },
     "execution_count": 35,
     "metadata": {},
     "output_type": "execute_result"
    }
   ],
   "source": [
    "enrollment.churn_rate(params=params)"
   ]
  },
  {
   "cell_type": "markdown",
   "metadata": {},
   "source": [
    "### Count of Ppts per Town (for ppts enrolled in period)\n",
    "Count of distinct ppts grouped by town for ppts enrolled during the period. Returned as a pandas dataframe with columns `City/Town` and `Number of Ppts`."
   ]
  },
  {
   "cell_type": "code",
   "execution_count": 36,
   "metadata": {},
   "outputs": [
    {
     "data": {
      "text/html": [
       "<div>\n",
       "<style scoped>\n",
       "    .dataframe tbody tr th:only-of-type {\n",
       "        vertical-align: middle;\n",
       "    }\n",
       "\n",
       "    .dataframe tbody tr th {\n",
       "        vertical-align: top;\n",
       "    }\n",
       "\n",
       "    .dataframe thead th {\n",
       "        text-align: right;\n",
       "    }\n",
       "</style>\n",
       "<table border=\"1\" class=\"dataframe\">\n",
       "  <thead>\n",
       "    <tr style=\"text-align: right;\">\n",
       "      <th></th>\n",
       "      <th>City/Town</th>\n",
       "      <th>Number of Ppts</th>\n",
       "    </tr>\n",
       "  </thead>\n",
       "  <tbody>\n",
       "    <tr>\n",
       "      <th>9</th>\n",
       "      <td>Providence</td>\n",
       "      <td>163</td>\n",
       "    </tr>\n",
       "    <tr>\n",
       "      <th>11</th>\n",
       "      <td>Pawtucket</td>\n",
       "      <td>28</td>\n",
       "    </tr>\n",
       "    <tr>\n",
       "      <th>24</th>\n",
       "      <td>Cranston</td>\n",
       "      <td>26</td>\n",
       "    </tr>\n",
       "    <tr>\n",
       "      <th>0</th>\n",
       "      <td>Woonsocket</td>\n",
       "      <td>23</td>\n",
       "    </tr>\n",
       "    <tr>\n",
       "      <th>3</th>\n",
       "      <td>Warwick</td>\n",
       "      <td>22</td>\n",
       "    </tr>\n",
       "  </tbody>\n",
       "</table>\n",
       "</div>"
      ],
      "text/plain": [
       "     City/Town  Number of Ppts\n",
       "9   Providence             163\n",
       "11   Pawtucket              28\n",
       "24    Cranston              26\n",
       "0   Woonsocket              23\n",
       "3      Warwick              22"
      ]
     },
     "execution_count": 36,
     "metadata": {},
     "output_type": "execute_result"
    }
   ],
   "source": [
    "enrollment.enrollment_by_town_table(params=params).head()"
   ]
  },
  {
   "cell_type": "markdown",
   "metadata": {},
   "source": [
    "### Mapping DataFrame\n",
    "Creates two pandas dataframe with the columns `name`, `full_address`, `lat`, and `lon`, one for ppts enrolled during the period and one for those who are not."
   ]
  },
  {
   "cell_type": "code",
   "execution_count": 37,
   "metadata": {},
   "outputs": [
    {
     "name": "stdout",
     "output_type": "stream",
     "text": [
      "                  name                        full_address        lat  \\\n",
      "0           Mary Ricci  10 Rhodes Avenue, North Smithfield  42.002005   \n",
      "1   M'liss Place-Sloan            568 Child Street, Warren  41.732102   \n",
      "2        Linda Killeen             25 Tobey St, Providence  41.819837   \n",
      "3           Sida Krong         100 Atwells Ave, Providence  41.822834   \n",
      "4          Maria Alves           100 Borden St, Providence  41.812769   \n",
      "\n",
      "         lon  \n",
      "0 -71.538138  \n",
      "1 -71.254934  \n",
      "2 -71.436050  \n",
      "3 -71.421123  \n",
      "4 -71.411593  \n"
     ]
    }
   ],
   "source": [
    "enrolled_df, disenrolled_df = enrollment.address_mapping_df()\n",
    "\n",
    "print(enrolled_df.head())"
   ]
  },
  {
   "cell_type": "markdown",
   "metadata": {},
   "source": [
    "### HPMS Related"
   ]
  },
  {
   "cell_type": "markdown",
   "metadata": {},
   "source": [
    "### Dual Enrolled Enrollments\n",
    "Count of ppts with an enrollment date during the period, medicare status of 1 and a medicaid status of 1."
   ]
  },
  {
   "cell_type": "code",
   "execution_count": 38,
   "metadata": {},
   "outputs": [
    {
     "data": {
      "text/plain": [
       "19"
      ]
     },
     "execution_count": 38,
     "metadata": {},
     "output_type": "execute_result"
    }
   ],
   "source": [
    "enrollment.dual_enrolled(params=params)"
   ]
  },
  {
   "cell_type": "markdown",
   "metadata": {},
   "source": [
    "### Medicare Only Enrollments\n",
    "Count of ppts with an enrollment date during the period, medicare status of 1 and a medicaid status of 0."
   ]
  },
  {
   "cell_type": "code",
   "execution_count": 39,
   "metadata": {},
   "outputs": [
    {
     "data": {
      "text/plain": [
       "0"
      ]
     },
     "execution_count": 39,
     "metadata": {},
     "output_type": "execute_result"
    }
   ],
   "source": [
    "enrollment.medicare_only_enrolled(params=params)"
   ]
  },
  {
   "cell_type": "markdown",
   "metadata": {},
   "source": [
    "### medicaid Only Enrollments\n",
    "Count of ppts with an enrollment date during the period, medicare status of 0 and a medicaid status of 1."
   ]
  },
  {
   "cell_type": "code",
   "execution_count": 40,
   "metadata": {},
   "outputs": [
    {
     "data": {
      "text/plain": [
       "0"
      ]
     },
     "execution_count": 40,
     "metadata": {},
     "output_type": "execute_result"
    }
   ],
   "source": [
    "enrollment.medicaid_only_enrolled(params=params)"
   ]
  },
  {
   "cell_type": "markdown",
   "metadata": {},
   "source": [
    "### Private Pay Enrollments\n",
    "Count of ppts with an enrollment date during the period, medicare status of 0 and a medicaid status of 0."
   ]
  },
  {
   "cell_type": "code",
   "execution_count": 41,
   "metadata": {},
   "outputs": [
    {
     "data": {
      "text/plain": [
       "0"
      ]
     },
     "execution_count": 41,
     "metadata": {},
     "output_type": "execute_result"
    }
   ],
   "source": [
    "enrollment.private_pay_enrolled(params=params)"
   ]
  },
  {
   "cell_type": "markdown",
   "metadata": {},
   "source": [
    "### Dual Enrolled Disenrollments\n",
    "Count of ppts with an disenrollment date during the period, medicare status of 1 and a medicaid status of 1."
   ]
  },
  {
   "cell_type": "code",
   "execution_count": 42,
   "metadata": {},
   "outputs": [
    {
     "data": {
      "text/plain": [
       "15"
      ]
     },
     "execution_count": 42,
     "metadata": {},
     "output_type": "execute_result"
    }
   ],
   "source": [
    "enrollment.dual_disenrolled(params=params)"
   ]
  },
  {
   "cell_type": "markdown",
   "metadata": {},
   "source": [
    "### Medicare Only Disenrollments\n",
    "Count of ppts with an disenrollment date during the period, medicare status of 1 and a medicaid status of 0."
   ]
  },
  {
   "cell_type": "code",
   "execution_count": 43,
   "metadata": {},
   "outputs": [
    {
     "data": {
      "text/plain": [
       "0"
      ]
     },
     "execution_count": 43,
     "metadata": {},
     "output_type": "execute_result"
    }
   ],
   "source": [
    "enrollment.medicare_only_disenrolled(params=params)"
   ]
  },
  {
   "cell_type": "markdown",
   "metadata": {},
   "source": [
    "### medicaid Only Disenrollments\n",
    "Count of ppts with an disenrollment date during the period, medicare status of 0 and a medicaid status of 1."
   ]
  },
  {
   "cell_type": "code",
   "execution_count": 44,
   "metadata": {},
   "outputs": [
    {
     "data": {
      "text/plain": [
       "0"
      ]
     },
     "execution_count": 44,
     "metadata": {},
     "output_type": "execute_result"
    }
   ],
   "source": [
    "enrollment.medicaid_only_disenrolled(params=params)"
   ]
  },
  {
   "cell_type": "markdown",
   "metadata": {},
   "source": [
    "### Private Pay Disenrollments\n",
    "Count of ppts with an disenrollment date during the period, medicare status of 0 and a medicaid status of 0."
   ]
  },
  {
   "cell_type": "code",
   "execution_count": 45,
   "metadata": {},
   "outputs": [
    {
     "data": {
      "text/plain": [
       "0"
      ]
     },
     "execution_count": 45,
     "metadata": {},
     "output_type": "execute_result"
    }
   ],
   "source": [
    "enrollment.private_pay_disenrolled(params=params)"
   ]
  },
  {
   "cell_type": "markdown",
   "metadata": {},
   "source": [
    "### Marketing/Enrollment Referral Related"
   ]
  },
  {
   "cell_type": "markdown",
   "metadata": {},
   "source": [
    "### Inquiries/Referrals\n",
    "Count of rows from the referral table where the referral_date is between the param dates."
   ]
  },
  {
   "cell_type": "code",
   "execution_count": 46,
   "metadata": {},
   "outputs": [
    {
     "data": {
      "text/plain": [
       "116"
      ]
     },
     "execution_count": 46,
     "metadata": {},
     "output_type": "execute_result"
    }
   ],
   "source": [
    "enrollment.inquiries(params=params)"
   ]
  },
  {
   "cell_type": "markdown",
   "metadata": {},
   "source": [
    "### Average Days to Enrollment\n",
    "Average difference of the enrollment_effective date and the referral date for referrals with an enrollment_effective date between the param dates."
   ]
  },
  {
   "cell_type": "code",
   "execution_count": 47,
   "metadata": {},
   "outputs": [
    {
     "data": {
      "text/plain": [
       "114.56"
      ]
     },
     "execution_count": 47,
     "metadata": {},
     "output_type": "execute_result"
    }
   ],
   "source": [
    "enrollment.avg_days_to_enrollment(params=params)"
   ]
  },
  {
   "cell_type": "markdown",
   "metadata": {},
   "source": [
    "### 180 Day Enrollment Conversion Rate for Referrals\n",
    "Count of all referrals with a referral date between 180 days before the param start date and the param end date with a non-null enrollment effective date divided by the count of all referrals with a referral date between 180 days before the param start date and the param end date."
   ]
  },
  {
   "cell_type": "code",
   "execution_count": 48,
   "metadata": {},
   "outputs": [
    {
     "data": {
      "text/plain": [
       "0.26"
      ]
     },
     "execution_count": 48,
     "metadata": {},
     "output_type": "execute_result"
    }
   ],
   "source": [
    "enrollment.conversion_rate_180_days(params=params)"
   ]
  },
  {
   "cell_type": "markdown",
   "metadata": {},
   "source": [
    "### Count of Referrals by Source\n",
    "Count of referrals grouped by source for referrals with a referral date during the period. Returned as a pandas dataframe with columns `referral_source` and `referrals`."
   ]
  },
  {
   "cell_type": "code",
   "execution_count": 49,
   "metadata": {},
   "outputs": [
    {
     "data": {
      "text/html": [
       "<div>\n",
       "<style scoped>\n",
       "    .dataframe tbody tr th:only-of-type {\n",
       "        vertical-align: middle;\n",
       "    }\n",
       "\n",
       "    .dataframe tbody tr th {\n",
       "        vertical-align: top;\n",
       "    }\n",
       "\n",
       "    .dataframe thead th {\n",
       "        text-align: right;\n",
       "    }\n",
       "</style>\n",
       "<table border=\"1\" class=\"dataframe\">\n",
       "  <thead>\n",
       "    <tr style=\"text-align: right;\">\n",
       "      <th></th>\n",
       "      <th>referral_source</th>\n",
       "      <th>referrals</th>\n",
       "    </tr>\n",
       "  </thead>\n",
       "  <tbody>\n",
       "    <tr>\n",
       "      <th>0</th>\n",
       "      <td>TV/Ad/Media</td>\n",
       "      <td>16</td>\n",
       "    </tr>\n",
       "    <tr>\n",
       "      <th>1</th>\n",
       "      <td>Blackstone Valley Community Health Center</td>\n",
       "      <td>15</td>\n",
       "    </tr>\n",
       "    <tr>\n",
       "      <th>2</th>\n",
       "      <td>Thundermist-Woonsocket</td>\n",
       "      <td>8</td>\n",
       "    </tr>\n",
       "    <tr>\n",
       "      <th>3</th>\n",
       "      <td>PACE participant</td>\n",
       "      <td>8</td>\n",
       "    </tr>\n",
       "    <tr>\n",
       "      <th>4</th>\n",
       "      <td>Thundermist-West Warwick</td>\n",
       "      <td>7</td>\n",
       "    </tr>\n",
       "  </tbody>\n",
       "</table>\n",
       "</div>"
      ],
      "text/plain": [
       "                             referral_source  referrals\n",
       "0                                TV/Ad/Media         16\n",
       "1  Blackstone Valley Community Health Center         15\n",
       "2                     Thundermist-Woonsocket          8\n",
       "3                           PACE participant          8\n",
       "4                   Thundermist-West Warwick          7"
      ]
     },
     "execution_count": 49,
     "metadata": {},
     "output_type": "execute_result"
    }
   ],
   "source": [
    "enrollment.referral_source_count(params=params).head()"
   ]
  },
  {
   "cell_type": "markdown",
   "metadata": {},
   "source": [
    "### Most Common Referral Source\n",
    "Creates the `referral_source_count` table and returns the first row as a tuple."
   ]
  },
  {
   "cell_type": "code",
   "execution_count": 50,
   "metadata": {},
   "outputs": [
    {
     "data": {
      "text/plain": [
       "('TV/Ad/Media', 16)"
      ]
     },
     "execution_count": 50,
     "metadata": {},
     "output_type": "execute_result"
    }
   ],
   "source": [
    "enrollment.most_common_referral_source(params=params)"
   ]
  },
  {
   "cell_type": "markdown",
   "metadata": {},
   "source": [
    "### Enrollment Conversion Rate by Referral Source\n",
    "Count of referrals with a non-null enrollment_effective date divided by the count of referrals grouped by source for referrals with a referral date during the period. Returned as a pandas dataframe with columns `referral_source` and `enrollment_rate`."
   ]
  },
  {
   "cell_type": "code",
   "execution_count": 51,
   "metadata": {},
   "outputs": [
    {
     "data": {
      "text/html": [
       "<div>\n",
       "<style scoped>\n",
       "    .dataframe tbody tr th:only-of-type {\n",
       "        vertical-align: middle;\n",
       "    }\n",
       "\n",
       "    .dataframe tbody tr th {\n",
       "        vertical-align: top;\n",
       "    }\n",
       "\n",
       "    .dataframe thead th {\n",
       "        text-align: right;\n",
       "    }\n",
       "</style>\n",
       "<table border=\"1\" class=\"dataframe\">\n",
       "  <thead>\n",
       "    <tr style=\"text-align: right;\">\n",
       "      <th></th>\n",
       "      <th>referral_source</th>\n",
       "      <th>enrollment_rate</th>\n",
       "    </tr>\n",
       "  </thead>\n",
       "  <tbody>\n",
       "    <tr>\n",
       "      <th>0</th>\n",
       "      <td>The Highlands</td>\n",
       "      <td>1.0</td>\n",
       "    </tr>\n",
       "    <tr>\n",
       "      <th>1</th>\n",
       "      <td>Sisters Of Mercy</td>\n",
       "      <td>1.0</td>\n",
       "    </tr>\n",
       "    <tr>\n",
       "      <th>2</th>\n",
       "      <td>PACE Van</td>\n",
       "      <td>1.0</td>\n",
       "    </tr>\n",
       "    <tr>\n",
       "      <th>3</th>\n",
       "      <td>Neighborhood Health Plan</td>\n",
       "      <td>1.0</td>\n",
       "    </tr>\n",
       "    <tr>\n",
       "      <th>4</th>\n",
       "      <td>Lifespan Primary Care Clinic</td>\n",
       "      <td>1.0</td>\n",
       "    </tr>\n",
       "  </tbody>\n",
       "</table>\n",
       "</div>"
      ],
      "text/plain": [
       "                referral_source  enrollment_rate\n",
       "0                 The Highlands              1.0\n",
       "1              Sisters Of Mercy              1.0\n",
       "2                      PACE Van              1.0\n",
       "3      Neighborhood Health Plan              1.0\n",
       "4  Lifespan Primary Care Clinic              1.0"
      ]
     },
     "execution_count": 51,
     "metadata": {},
     "output_type": "execute_result"
    }
   ],
   "source": [
    "enrollment.referral_enrollment_rates_df(params=params).head()"
   ]
  },
  {
   "cell_type": "markdown",
   "metadata": {},
   "source": [
    "### Source with the Highest Enrollment Conversion Rate\n",
    "Creates the `referral_enrollment_rates_df` table and returns the first row as a tuple."
   ]
  },
  {
   "cell_type": "code",
   "execution_count": 52,
   "metadata": {},
   "outputs": [
    {
     "data": {
      "text/plain": [
       "('The Highlands', 1.0)"
      ]
     },
     "execution_count": 52,
     "metadata": {},
     "output_type": "execute_result"
    }
   ],
   "source": [
    "enrollment.highest_enrollment_rate_referral_source(params=params)"
   ]
  },
  {
   "cell_type": "markdown",
   "metadata": {},
   "source": [
    "## Demographics"
   ]
  },
  {
   "cell_type": "code",
   "execution_count": 53,
   "metadata": {},
   "outputs": [],
   "source": [
    "demographics = pu.Demographics()"
   ]
  },
  {
   "cell_type": "markdown",
   "metadata": {},
   "source": [
    "### Number of Dual Enrolled Ppts\n",
    "Count of ppts enrolled in the period with a medicare value of 1 and a medicaid value of 1."
   ]
  },
  {
   "cell_type": "code",
   "execution_count": 54,
   "metadata": {},
   "outputs": [
    {
     "data": {
      "text/plain": [
       "301"
      ]
     },
     "execution_count": 54,
     "metadata": {},
     "output_type": "execute_result"
    }
   ],
   "source": [
    "demographics.dual_count(params=params)"
   ]
  },
  {
   "cell_type": "markdown",
   "metadata": {},
   "source": [
    "### Percent of Ppts that are Dual Enrolled \n",
    "`dual_count` divided by `census_during_period`."
   ]
  },
  {
   "cell_type": "code",
   "execution_count": 55,
   "metadata": {},
   "outputs": [
    {
     "data": {
      "text/plain": [
       "94.0"
      ]
     },
     "execution_count": 55,
     "metadata": {},
     "output_type": "execute_result"
    }
   ],
   "source": [
    "demographics.percent_dual(params=params)"
   ]
  },
  {
   "cell_type": "markdown",
   "metadata": {},
   "source": [
    "### Number of Medicare Only Ppts\n",
    "Count of ppts enrolled in the period with a medicare value of 1 and a medicaid value of 0."
   ]
  },
  {
   "cell_type": "code",
   "execution_count": 56,
   "metadata": {},
   "outputs": [
    {
     "data": {
      "text/plain": [
       "1"
      ]
     },
     "execution_count": 56,
     "metadata": {},
     "output_type": "execute_result"
    }
   ],
   "source": [
    "demographics.medicare_only_count(params=params)"
   ]
  },
  {
   "cell_type": "markdown",
   "metadata": {},
   "source": [
    "### Percent of Ppts that are Medicare Only\n",
    "`medicare_only_count` divided by `census_during_period`."
   ]
  },
  {
   "cell_type": "code",
   "execution_count": 57,
   "metadata": {},
   "outputs": [
    {
     "data": {
      "text/plain": [
       "0.0"
      ]
     },
     "execution_count": 57,
     "metadata": {},
     "output_type": "execute_result"
    }
   ],
   "source": [
    "demographics.percent_medicare_only(params=params)"
   ]
  },
  {
   "cell_type": "markdown",
   "metadata": {},
   "source": [
    "### Number of medicaid Only Ppts\n",
    "Count of ppts enrolled in the period with a medicare value of 0 and a medicaid value of 1."
   ]
  },
  {
   "cell_type": "code",
   "execution_count": 58,
   "metadata": {},
   "outputs": [
    {
     "data": {
      "text/plain": [
       "18"
      ]
     },
     "execution_count": 58,
     "metadata": {},
     "output_type": "execute_result"
    }
   ],
   "source": [
    "demographics.medicaid_only_count(params=params)"
   ]
  },
  {
   "cell_type": "markdown",
   "metadata": {},
   "source": [
    "### Percent of Ppts that are medicaid Only\n",
    "\n",
    "`medicaid_only_count` divided by `census_during_period`."
   ]
  },
  {
   "cell_type": "code",
   "execution_count": 59,
   "metadata": {},
   "outputs": [
    {
     "data": {
      "text/plain": [
       "6.0"
      ]
     },
     "execution_count": 59,
     "metadata": {},
     "output_type": "execute_result"
    }
   ],
   "source": [
    "demographics.percent_medicaid_only(params=params)"
   ]
  },
  {
   "cell_type": "markdown",
   "metadata": {},
   "source": [
    "### Number of Private Pay Ppts\n",
    "Count of ppts enrolled in the period with a medicare value of 0 and a medicaid value of 0."
   ]
  },
  {
   "cell_type": "code",
   "execution_count": 60,
   "metadata": {},
   "outputs": [
    {
     "data": {
      "text/plain": [
       "0"
      ]
     },
     "execution_count": 60,
     "metadata": {},
     "output_type": "execute_result"
    }
   ],
   "source": [
    "demographics.private_pay_count(params=params)"
   ]
  },
  {
   "cell_type": "markdown",
   "metadata": {},
   "source": [
    "### Percent of Ppts that are Private Pay\n",
    "`private_pay_count` divided by `census_during_period`."
   ]
  },
  {
   "cell_type": "code",
   "execution_count": 61,
   "metadata": {},
   "outputs": [
    {
     "data": {
      "text/plain": [
       "0.0"
      ]
     },
     "execution_count": 61,
     "metadata": {},
     "output_type": "execute_result"
    }
   ],
   "source": [
    "demographics.percent_private_pay(params=params)"
   ]
  },
  {
   "cell_type": "markdown",
   "metadata": {},
   "source": [
    "### Average Age\n",
    "Age is calculated as the difference between the end date and the ppt's date of birth.\n",
    "Average of age for ppts enrolled in the period."
   ]
  },
  {
   "cell_type": "code",
   "execution_count": 62,
   "metadata": {},
   "outputs": [
    {
     "data": {
      "text/plain": [
       "76.34"
      ]
     },
     "execution_count": 62,
     "metadata": {},
     "output_type": "execute_result"
    }
   ],
   "source": [
    "demographics.avg_age(params=params)"
   ]
  },
  {
   "cell_type": "markdown",
   "metadata": {},
   "source": [
    "### Number of Ppts Below Age 65\n",
    "Count of ppts with an age below 65 as of the end date in the params."
   ]
  },
  {
   "cell_type": "code",
   "execution_count": 63,
   "metadata": {},
   "outputs": [
    {
     "data": {
      "text/plain": [
       "45"
      ]
     },
     "execution_count": 63,
     "metadata": {},
     "output_type": "execute_result"
    }
   ],
   "source": [
    "demographics.age_below_65(params=params)"
   ]
  },
  {
   "cell_type": "markdown",
   "metadata": {},
   "source": [
    "### Percent of Ppts Below Age 65\n",
    "`age_below_65` divided by `census_during_period`."
   ]
  },
  {
   "cell_type": "code",
   "execution_count": 64,
   "metadata": {},
   "outputs": [
    {
     "data": {
      "text/plain": [
       "14.06"
      ]
     },
     "execution_count": 64,
     "metadata": {},
     "output_type": "execute_result"
    }
   ],
   "source": [
    "demographics.percent_age_below_65(params=params)"
   ]
  },
  {
   "cell_type": "markdown",
   "metadata": {},
   "source": [
    "### Number of Ppts Above Age 65\n",
    "Difference between `census_during_period` and `age_below_65`."
   ]
  },
  {
   "cell_type": "code",
   "execution_count": 65,
   "metadata": {},
   "outputs": [
    {
     "data": {
      "text/plain": [
       "275"
      ]
     },
     "execution_count": 65,
     "metadata": {},
     "output_type": "execute_result"
    }
   ],
   "source": [
    "demographics.age_above_65(params=params)"
   ]
  },
  {
   "cell_type": "markdown",
   "metadata": {},
   "source": [
    "### Percent Ppts with a Primary Language that is not English\n",
    "Count of rows in demographic table where the language is 'English' divided by the count of ppts enrolled in the period."
   ]
  },
  {
   "cell_type": "code",
   "execution_count": 66,
   "metadata": {},
   "outputs": [
    {
     "data": {
      "text/plain": [
       "39.69"
      ]
     },
     "execution_count": 66,
     "metadata": {},
     "output_type": "execute_result"
    }
   ],
   "source": [
    "demographics.percent_primary_non_english(params=params)"
   ]
  },
  {
   "cell_type": "markdown",
   "metadata": {},
   "source": [
    "### Percent of Ppts with a race that is not Caucasian/White\n",
    "Count of rows in demographic table where the race is 'Caucasian/White' divided by the count of ppts enrolled in the period."
   ]
  },
  {
   "cell_type": "code",
   "execution_count": 67,
   "metadata": {},
   "outputs": [
    {
     "data": {
      "text/plain": [
       "50.31"
      ]
     },
     "execution_count": 67,
     "metadata": {},
     "output_type": "execute_result"
    }
   ],
   "source": [
    "demographics.percent_non_white(params=params)"
   ]
  },
  {
   "cell_type": "markdown",
   "metadata": {},
   "source": [
    "### Number of Female Ppts\n",
    "Count of ppts in the demographics table where the gender is 1 and the ppt is enrolled."
   ]
  },
  {
   "cell_type": "code",
   "execution_count": 68,
   "metadata": {},
   "outputs": [
    {
     "data": {
      "text/plain": [
       "222"
      ]
     },
     "execution_count": 68,
     "metadata": {},
     "output_type": "execute_result"
    }
   ],
   "source": [
    "demographics.female_count(params=params)"
   ]
  },
  {
   "cell_type": "markdown",
   "metadata": {},
   "source": [
    "### Percent of Ppts that are Female\n",
    "`female_count` divided by `census_during_period`"
   ]
  },
  {
   "cell_type": "code",
   "execution_count": 69,
   "metadata": {},
   "outputs": [
    {
     "data": {
      "text/plain": [
       "69.38"
      ]
     },
     "execution_count": 69,
     "metadata": {},
     "output_type": "execute_result"
    }
   ],
   "source": [
    "demographics.percent_female(params=params)"
   ]
  },
  {
   "cell_type": "markdown",
   "metadata": {},
   "source": [
    "### Number of Ppts with a Behavioral Health Diagnosis\n",
    "Count of distinct ppts from dx table where the ICD10 code is in F2, F31, F32, F33, F4, or F6 and the ppt is enrolled during the period."
   ]
  },
  {
   "cell_type": "code",
   "execution_count": 70,
   "metadata": {},
   "outputs": [
    {
     "data": {
      "text/plain": [
       "252"
      ]
     },
     "execution_count": 70,
     "metadata": {},
     "output_type": "execute_result"
    }
   ],
   "source": [
    "demographics.behavorial_dx_count(params=params)"
   ]
  },
  {
   "cell_type": "markdown",
   "metadata": {},
   "source": [
    "### Percent of Ppts with a Behavioral Health Diagnosis\n",
    "`behavorial_dx_count` divided by `census_during_period`"
   ]
  },
  {
   "cell_type": "code",
   "execution_count": 71,
   "metadata": {},
   "outputs": [
    {
     "data": {
      "text/plain": [
       "78.75"
      ]
     },
     "execution_count": 71,
     "metadata": {},
     "output_type": "execute_result"
    }
   ],
   "source": [
    "demographics.behavorial_dx_percent(params=params)"
   ]
  },
  {
   "cell_type": "markdown",
   "metadata": {},
   "source": [
    "### Number of Ppts with a Dementia Related Diagnosis\n",
    "Count of distinct ppts from dx table where the ICD10 code is in F01.50, F01.51, F02.80, F02.81, F03.90, F03.91, F10.27, F10.97, \n",
    "F13.27, F13.97, F18.17, F18.27, F19.27, F19.97, G31.09, G31.83, G30.00, G30.10, G30.08, G30.09 and the ppt is enrolled during the period."
   ]
  },
  {
   "cell_type": "code",
   "execution_count": 72,
   "metadata": {},
   "outputs": [
    {
     "data": {
      "text/plain": [
       "130"
      ]
     },
     "execution_count": 72,
     "metadata": {},
     "output_type": "execute_result"
    }
   ],
   "source": [
    "demographics.dementia_dx_count(params=params)"
   ]
  },
  {
   "cell_type": "markdown",
   "metadata": {},
   "source": [
    "### Percent of Ppts with a Dementia Related Diagnosis\n",
    "Count of distinct ppts from dx table where the ICD10 code is in the chronic condition list (see code for full list) and the ppt is enrolled during the period."
   ]
  },
  {
   "cell_type": "code",
   "execution_count": 73,
   "metadata": {},
   "outputs": [
    {
     "data": {
      "text/plain": [
       "318"
      ]
     },
     "execution_count": 73,
     "metadata": {},
     "output_type": "execute_result"
    }
   ],
   "source": [
    "demographics.at_least_one_chronic_condition_count(params=params)"
   ]
  },
  {
   "cell_type": "markdown",
   "metadata": {},
   "source": [
    "### Count of Chronic Conditions per Ppt\n",
    "\n",
    "Counts the number of distinct icd10 codes in the chronic condition list grouped by ppt enrolled during the period. Returns a dataframe with the columns `member_id` and `count`."
   ]
  },
  {
   "cell_type": "code",
   "execution_count": 74,
   "metadata": {},
   "outputs": [
    {
     "data": {
      "text/html": [
       "<div>\n",
       "<style scoped>\n",
       "    .dataframe tbody tr th:only-of-type {\n",
       "        vertical-align: middle;\n",
       "    }\n",
       "\n",
       "    .dataframe tbody tr th {\n",
       "        vertical-align: top;\n",
       "    }\n",
       "\n",
       "    .dataframe thead th {\n",
       "        text-align: right;\n",
       "    }\n",
       "</style>\n",
       "<table border=\"1\" class=\"dataframe\">\n",
       "  <thead>\n",
       "    <tr style=\"text-align: right;\">\n",
       "      <th></th>\n",
       "      <th>member_id</th>\n",
       "      <th>count</th>\n",
       "    </tr>\n",
       "  </thead>\n",
       "  <tbody>\n",
       "    <tr>\n",
       "      <th>0</th>\n",
       "      <td>100113</td>\n",
       "      <td>7</td>\n",
       "    </tr>\n",
       "    <tr>\n",
       "      <th>1</th>\n",
       "      <td>100116</td>\n",
       "      <td>4</td>\n",
       "    </tr>\n",
       "    <tr>\n",
       "      <th>2</th>\n",
       "      <td>100121</td>\n",
       "      <td>15</td>\n",
       "    </tr>\n",
       "    <tr>\n",
       "      <th>3</th>\n",
       "      <td>100128</td>\n",
       "      <td>4</td>\n",
       "    </tr>\n",
       "    <tr>\n",
       "      <th>4</th>\n",
       "      <td>100131</td>\n",
       "      <td>5</td>\n",
       "    </tr>\n",
       "  </tbody>\n",
       "</table>\n",
       "</div>"
      ],
      "text/plain": [
       "   member_id  count\n",
       "0     100113      7\n",
       "1     100116      4\n",
       "2     100121     15\n",
       "3     100128      4\n",
       "4     100131      5"
      ]
     },
     "execution_count": 74,
     "metadata": {},
     "output_type": "execute_result"
    }
   ],
   "source": [
    "demographics.chronic_condition_df(params=params).head()"
   ]
  },
  {
   "cell_type": "markdown",
   "metadata": {},
   "source": [
    "### Number of Ppts with more than 6 Chronic Conditions\n",
    "Creates the dataframe from `chronic_condition_df` and reutnrs the count of those rows with a count above 6."
   ]
  },
  {
   "cell_type": "code",
   "execution_count": 75,
   "metadata": {},
   "outputs": [
    {
     "data": {
      "text/plain": [
       "163"
      ]
     },
     "execution_count": 75,
     "metadata": {},
     "output_type": "execute_result"
    }
   ],
   "source": [
    "demographics.over_six_chronic_conditions_count(params=params)"
   ]
  },
  {
   "cell_type": "markdown",
   "metadata": {},
   "source": [
    "### Percent of Ppts with more than 6 Chronic Conditions\n",
    "`over_six_chronic_conditions_count` divided by `census_during_period`"
   ]
  },
  {
   "cell_type": "code",
   "execution_count": 76,
   "metadata": {},
   "outputs": [
    {
     "data": {
      "text/plain": [
       "50.94"
      ]
     },
     "execution_count": 76,
     "metadata": {},
     "output_type": "execute_result"
    }
   ],
   "source": [
    "demographics.over_six_chronic_conditions_percent(params=params)"
   ]
  },
  {
   "cell_type": "markdown",
   "metadata": {},
   "source": [
    "### Number of Ppts Living in the Community\n",
    "Count of ppts enrolled during the period who do not have a custodial admission date during the period."
   ]
  },
  {
   "cell_type": "code",
   "execution_count": 77,
   "metadata": {},
   "outputs": [
    {
     "data": {
      "text/plain": [
       "285"
      ]
     },
     "execution_count": 77,
     "metadata": {},
     "output_type": "execute_result"
    }
   ],
   "source": [
    "demographics.living_in_community(params=params)"
   ]
  },
  {
   "cell_type": "markdown",
   "metadata": {},
   "source": [
    "### Percent of Ppts Living in the Community\n",
    "`living_in_community` divided by `census_during_period`."
   ]
  },
  {
   "cell_type": "code",
   "execution_count": 78,
   "metadata": {},
   "outputs": [
    {
     "data": {
      "text/plain": [
       "89.06"
      ]
     },
     "execution_count": 78,
     "metadata": {},
     "output_type": "execute_result"
    }
   ],
   "source": [
    "demographics.living_in_community_percent(params=params)"
   ]
  },
  {
   "cell_type": "markdown",
   "metadata": {},
   "source": [
    "### Number of Ppts Indicated to Attend the Day Center\n",
    "Count of distinct ppts from the center_days table enrolled during the period and the days column is not equal to 'PRN'."
   ]
  },
  {
   "cell_type": "code",
   "execution_count": 79,
   "metadata": {},
   "outputs": [
    {
     "data": {
      "text/plain": [
       "229"
      ]
     },
     "execution_count": 79,
     "metadata": {},
     "output_type": "execute_result"
    }
   ],
   "source": [
    "demographics.attending_day_center(params=params)"
   ]
  },
  {
   "cell_type": "markdown",
   "metadata": {},
   "source": [
    "### Percent of Ppts Indicated to Attend the Day Center\n",
    "`attending_day_center` divided by `census_during_period`."
   ]
  },
  {
   "cell_type": "code",
   "execution_count": 80,
   "metadata": {},
   "outputs": [
    {
     "data": {
      "text/plain": [
       "71.56"
      ]
     },
     "execution_count": 80,
     "metadata": {},
     "output_type": "execute_result"
    }
   ],
   "source": [
    "demographics.percent_attending_dc(params=params)"
   ]
  },
  {
   "cell_type": "markdown",
   "metadata": {},
   "source": [
    "## Incidents\n",
    "There are 5 incidents tables;\n",
    "+ falls\n",
    "+ med_errors\n",
    "+ wounds\n",
    "+ burns\n",
    "+ infections\n",
    "\n",
    "Some methods in the Incident class require an incident_table parameter to specify which type of incident the statistic is being calculated for."
   ]
  },
  {
   "cell_type": "code",
   "execution_count": 81,
   "metadata": {},
   "outputs": [],
   "source": [
    "incidents = pu.Incidents()"
   ]
  },
  {
   "cell_type": "markdown",
   "metadata": {},
   "source": [
    "### Incidents per 100 Member Months (Falls/Med Errors/Wounds/Burns/Infections) \n",
    "Count of incidents with a date_time_occured date during the period divided by the sum of the first of the month census for each month during the period multiplied by 100."
   ]
  },
  {
   "cell_type": "code",
   "execution_count": 82,
   "metadata": {},
   "outputs": [
    {
     "data": {
      "text/plain": [
       "13.08"
      ]
     },
     "execution_count": 82,
     "metadata": {},
     "output_type": "execute_result"
    }
   ],
   "source": [
    "incidents.incident_per_100MM(params=params, incident_table=\"falls\")"
   ]
  },
  {
   "cell_type": "code",
   "execution_count": 83,
   "metadata": {},
   "outputs": [
    {
     "data": {
      "text/plain": [
       "0.54"
      ]
     },
     "execution_count": 83,
     "metadata": {},
     "output_type": "execute_result"
    }
   ],
   "source": [
    "incidents.incident_per_100MM(params=params, incident_table=\"med_errors\")"
   ]
  },
  {
   "cell_type": "markdown",
   "metadata": {},
   "source": [
    "### Number of Incidents (Falls/Med Errors/Wounds/Burns/Infections) \n",
    "Count of incidents with a date_time_occured date during the period."
   ]
  },
  {
   "cell_type": "code",
   "execution_count": 84,
   "metadata": {},
   "outputs": [
    {
     "data": {
      "text/plain": [
       "121"
      ]
     },
     "execution_count": 84,
     "metadata": {},
     "output_type": "execute_result"
    }
   ],
   "source": [
    "incidents.total_incidents(params=params, incident_table=\"falls\")"
   ]
  },
  {
   "cell_type": "code",
   "execution_count": 85,
   "metadata": {},
   "outputs": [
    {
     "data": {
      "text/plain": [
       "116"
      ]
     },
     "execution_count": 85,
     "metadata": {},
     "output_type": "execute_result"
    }
   ],
   "source": [
    "incidents.total_incidents(params=incidents.last_quarter(), incident_table=\"falls\")"
   ]
  },
  {
   "cell_type": "markdown",
   "metadata": {},
   "source": [
    "### Number of Ppts with more than 1 Incident in Period (Falls/Med Errors/Wounds/Burns/Infections) \n",
    "Count of ppts with more than 1 incident during period."
   ]
  },
  {
   "cell_type": "code",
   "execution_count": 86,
   "metadata": {},
   "outputs": [
    {
     "data": {
      "text/plain": [
       "23"
      ]
     },
     "execution_count": 86,
     "metadata": {},
     "output_type": "execute_result"
    }
   ],
   "source": [
    "incidents.num_of_incident_repeaters(params=params, incident_table=\"falls\")"
   ]
  },
  {
   "cell_type": "markdown",
   "metadata": {},
   "source": [
    "### Number of Incidents by Ppts with more than 1 Incident in Period (Falls/Med Errors/Wounds/Burns/Infections) \n",
    "Sum of the count of incidents attributed to ppts with more than 1 incident in the period."
   ]
  },
  {
   "cell_type": "code",
   "execution_count": 87,
   "metadata": {},
   "outputs": [
    {
     "data": {
      "text/plain": [
       "60"
      ]
     },
     "execution_count": 87,
     "metadata": {},
     "output_type": "execute_result"
    }
   ],
   "source": [
    "incidents.incidents_by_repeaters(params=params, incident_table=\"falls\")"
   ]
  },
  {
   "cell_type": "markdown",
   "metadata": {},
   "source": [
    "### Number of Unique Ppts with an Incident in Period (Falls/Med Errors/Wounds/Burns/Infections) \n",
    "Count of distinct ppts with an incident in the period."
   ]
  },
  {
   "cell_type": "code",
   "execution_count": 88,
   "metadata": {},
   "outputs": [
    {
     "data": {
      "text/plain": [
       "84"
      ]
     },
     "execution_count": 88,
     "metadata": {},
     "output_type": "execute_result"
    }
   ],
   "source": [
    "incidents.ppts_w_incident(params=params, incident_table=\"falls\")"
   ]
  },
  {
   "cell_type": "markdown",
   "metadata": {},
   "source": [
    "### Percent of Incidents Attributed to Ppts with more than 1 Incident in the Period \n",
    "`incidents_by_repeaters` divided by `total_incidents`."
   ]
  },
  {
   "cell_type": "code",
   "execution_count": 89,
   "metadata": {},
   "outputs": [
    {
     "data": {
      "text/plain": [
       "49.59"
      ]
     },
     "execution_count": 89,
     "metadata": {},
     "output_type": "execute_result"
    }
   ],
   "source": [
    "incidents.percent_by_repeaters(params=params, incident_table=\"falls\")"
   ]
  },
  {
   "cell_type": "markdown",
   "metadata": {},
   "source": [
    "### Rate of Ppts with more than 1 Incident of Ppts with an Incident\n",
    "`num_of_incident_repeaters` divided by `ppts_w_incident`."
   ]
  },
  {
   "cell_type": "code",
   "execution_count": 90,
   "metadata": {},
   "outputs": [
    {
     "data": {
      "text/plain": [
       "27.38"
      ]
     },
     "execution_count": 90,
     "metadata": {},
     "output_type": "execute_result"
    }
   ],
   "source": [
    "incidents.repeat_ppts_rate(params=params, incident_table=\"falls\")"
   ]
  },
  {
   "cell_type": "markdown",
   "metadata": {},
   "source": [
    "### Average Number of Incidents of Ppts with an Incident in the Period\n",
    "Average number of incidents for participants who have had an incident in the period."
   ]
  },
  {
   "cell_type": "code",
   "execution_count": 91,
   "metadata": {},
   "outputs": [
    {
     "data": {
      "text/plain": [
       "1.4404761904761905"
      ]
     },
     "execution_count": 91,
     "metadata": {},
     "output_type": "execute_result"
    }
   ],
   "source": [
    "incidents.incident_avg_value(params=params, incident_table=\"falls\")"
   ]
  },
  {
   "cell_type": "markdown",
   "metadata": {},
   "source": [
    "### Ppts with more Incidents than the Average During the Period\n",
    "Ppts with more incidents during the period than the calculated average during the period."
   ]
  },
  {
   "cell_type": "code",
   "execution_count": 92,
   "metadata": {},
   "outputs": [
    {
     "data": {
      "text/plain": [
       "23"
      ]
     },
     "execution_count": 92,
     "metadata": {},
     "output_type": "execute_result"
    }
   ],
   "source": [
    "incidents.ppts_above_avg(params=params, incident_table=\"falls\")"
   ]
  },
  {
   "cell_type": "markdown",
   "metadata": {},
   "source": [
    "### Rate of Ppts with an Above Average Incident Count out of Ppts with an Incident\n",
    "`ppts_above_avg` divided by `ppts_w_incident`."
   ]
  },
  {
   "cell_type": "code",
   "execution_count": 93,
   "metadata": {},
   "outputs": [
    {
     "data": {
      "text/plain": [
       "27.38"
      ]
     },
     "execution_count": 93,
     "metadata": {},
     "output_type": "execute_result"
    }
   ],
   "source": [
    "incidents.percent_of_ppts_over_avg(params=params, incident_table=\"falls\")"
   ]
  },
  {
   "cell_type": "markdown",
   "metadata": {},
   "source": [
    "### List of Ppts with More Than 1 Incident (Member Id, Incident Count)\n",
    "Creates a list of member_id and incident count tuples for ppts with more than 1 incident in the period."
   ]
  },
  {
   "cell_type": "code",
   "execution_count": 94,
   "metadata": {},
   "outputs": [
    {
     "data": {
      "text/plain": [
       "[(100121, 3),\n",
       " (100263, 2),\n",
       " (100408, 2),\n",
       " (100422, 2),\n",
       " (100454, 2),\n",
       " (100541, 5),\n",
       " (100597, 2),\n",
       " (100605, 5),\n",
       " (100611, 2),\n",
       " (100751, 3),\n",
       " (100754, 4),\n",
       " (100757, 2),\n",
       " (100814, 2),\n",
       " (100815, 2),\n",
       " (100951, 2),\n",
       " (1000832, 2),\n",
       " (1000851, 2),\n",
       " (2000959, 2),\n",
       " (2000974, 3),\n",
       " (2001010, 2),\n",
       " (2001013, 3),\n",
       " (2001025, 4),\n",
       " (2001044, 2)]"
      ]
     },
     "execution_count": 94,
     "metadata": {},
     "output_type": "execute_result"
    }
   ],
   "source": [
    "incidents.ppts_w_multiple_incidents(params=params, incident_table=\"falls\")"
   ]
  },
  {
   "cell_type": "markdown",
   "metadata": {},
   "source": [
    "### Adjusted Incident Count (Falls/Med Errors/Wounds/Burns/Infections)\n",
    "Count of incidents during period minus any incidents by ppts with an incidents count greater than the mean plus 3 standard deviations."
   ]
  },
  {
   "cell_type": "code",
   "execution_count": 95,
   "metadata": {},
   "outputs": [
    {
     "data": {
      "text/plain": [
       "111"
      ]
     },
     "execution_count": 95,
     "metadata": {},
     "output_type": "execute_result"
    }
   ],
   "source": [
    "incidents.adjusted_incident_count(params=params, incident_table=\"falls\")"
   ]
  },
  {
   "cell_type": "markdown",
   "metadata": {},
   "source": [
    "### Percent of Ppts without an Incident Ever\n",
    "Count of ppts enrolled during period who do not have an incident divided by `census_during_period`."
   ]
  },
  {
   "cell_type": "code",
   "execution_count": 96,
   "metadata": {},
   "outputs": [
    {
     "data": {
      "text/plain": [
       "32.19"
      ]
     },
     "execution_count": 96,
     "metadata": {},
     "output_type": "execute_result"
    }
   ],
   "source": [
    "incidents.percent_without_incident_overall(params=params, incident_table=\"falls\")"
   ]
  },
  {
   "cell_type": "markdown",
   "metadata": {},
   "source": [
    "### Percent of Ppts without an Incident in the Period\n",
    "Count of ppts enrolled during period who do not have an incident during the period divided by `census_during_period`."
   ]
  },
  {
   "cell_type": "code",
   "execution_count": 97,
   "metadata": {},
   "outputs": [
    {
     "data": {
      "text/plain": [
       "73.75"
      ]
     },
     "execution_count": 97,
     "metadata": {},
     "output_type": "execute_result"
    }
   ],
   "source": [
    "incidents.percent_without_incident_in_period(params=params, incident_table=\"falls\")"
   ]
  },
  {
   "cell_type": "markdown",
   "metadata": {},
   "source": [
    "### Number of Wounds Above Stage 1\n",
    "Count of wounds with a date_time_occured during the period and an ulcer stage of Stage 2, Stage 3, Stage 4, or Unstageable."
   ]
  },
  {
   "cell_type": "code",
   "execution_count": 98,
   "metadata": {},
   "outputs": [
    {
     "data": {
      "text/plain": [
       "7"
      ]
     },
     "execution_count": 98,
     "metadata": {},
     "output_type": "execute_result"
    }
   ],
   "source": [
    "incidents.wounds_above_stage1(params=params)"
   ]
  },
  {
   "cell_type": "markdown",
   "metadata": {},
   "source": [
    "### Number of Wounds that are Unstageable\n",
    "Count of wounds with a date_time_occured during the period and an ulcer stage of Unstageable."
   ]
  },
  {
   "cell_type": "code",
   "execution_count": 99,
   "metadata": {},
   "outputs": [
    {
     "data": {
      "text/plain": [
       "1"
      ]
     },
     "execution_count": 99,
     "metadata": {},
     "output_type": "execute_result"
    }
   ],
   "source": [
    "incidents.unstageable_wounds_count(params=params)"
   ]
  },
  {
   "cell_type": "markdown",
   "metadata": {},
   "source": [
    "### Number of Pressure Ulcers\n",
    "Count of wounds with a date_time_occured during the period and a wound_type of Pressure Ulcer."
   ]
  },
  {
   "cell_type": "code",
   "execution_count": 100,
   "metadata": {},
   "outputs": [
    {
     "data": {
      "text/plain": [
       "10"
      ]
     },
     "execution_count": 100,
     "metadata": {},
     "output_type": "execute_result"
    }
   ],
   "source": [
    "incidents.pressure_ulcer_count(params=params)"
   ]
  },
  {
   "cell_type": "markdown",
   "metadata": {},
   "source": [
    "### Pressure Ulcers per 100 Member Months\n",
    "`pressure_ulcer_count` divided by `member_months` multiplied by 100."
   ]
  },
  {
   "cell_type": "code",
   "execution_count": 101,
   "metadata": {},
   "outputs": [
    {
     "data": {
      "text/plain": [
       "1.08"
      ]
     },
     "execution_count": 101,
     "metadata": {},
     "output_type": "execute_result"
    }
   ],
   "source": [
    "incidents.pressure_ulcer_per_100(params=params)"
   ]
  },
  {
   "cell_type": "markdown",
   "metadata": {},
   "source": [
    "### Average Wound Healing Time\n",
    "Average of the difference between the date_healed and the date_time_occured for wounds with a date_healed during the period."
   ]
  },
  {
   "cell_type": "code",
   "execution_count": 102,
   "metadata": {},
   "outputs": [
    {
     "data": {
      "text/plain": [
       "45.97"
      ]
     },
     "execution_count": 102,
     "metadata": {},
     "output_type": "execute_result"
    }
   ],
   "source": [
    "incidents.avg_wound_healing_time(params=params)"
   ]
  },
  {
   "cell_type": "markdown",
   "metadata": {},
   "source": [
    "### Number of UTIs\n",
    "Counts of infections during the period with an infection_type of UTI, URI, or Sepsis-Urinary."
   ]
  },
  {
   "cell_type": "code",
   "execution_count": 103,
   "metadata": {},
   "outputs": [
    {
     "data": {
      "text/plain": [
       "44"
      ]
     },
     "execution_count": 103,
     "metadata": {},
     "output_type": "execute_result"
    }
   ],
   "source": [
    "incidents.uti_count(params=params)"
   ]
  },
  {
   "cell_type": "markdown",
   "metadata": {},
   "source": [
    "### UTIs per 100 Member Months\n",
    "`uti_count` divided by `member_months` multiplied by 100."
   ]
  },
  {
   "cell_type": "code",
   "execution_count": 104,
   "metadata": {},
   "outputs": [
    {
     "data": {
      "text/plain": [
       "4.76"
      ]
     },
     "execution_count": 104,
     "metadata": {},
     "output_type": "execute_result"
    }
   ],
   "source": [
    "incidents.uti_per_100(params=params)"
   ]
  },
  {
   "cell_type": "markdown",
   "metadata": {},
   "source": [
    "### Number of Sepsis Infections\n",
    "Count of infections during the period where 'sepsis' is in the infection_type."
   ]
  },
  {
   "cell_type": "code",
   "execution_count": 105,
   "metadata": {},
   "outputs": [
    {
     "data": {
      "text/plain": [
       "0"
      ]
     },
     "execution_count": 105,
     "metadata": {},
     "output_type": "execute_result"
    }
   ],
   "source": [
    "incidents.sepsis_count(params=params)"
   ]
  },
  {
   "cell_type": "markdown",
   "metadata": {},
   "source": [
    "### Sepsis Infection per 100 Member Months\n",
    "`sepsis_count` divided by `member_months` multiplied by 100."
   ]
  },
  {
   "cell_type": "code",
   "execution_count": 106,
   "metadata": {},
   "outputs": [
    {
     "data": {
      "text/plain": [
       "0.0"
      ]
     },
     "execution_count": 106,
     "metadata": {},
     "output_type": "execute_result"
    }
   ],
   "source": [
    "incidents.sepsis_per_100(params=params)"
   ]
  },
  {
   "cell_type": "markdown",
   "metadata": {},
   "source": [
    "### Number of Burns with Degree 3rd Degree of Higher\n",
    "Count of burns during period with a burn_degree of Third or Fourth."
   ]
  },
  {
   "cell_type": "code",
   "execution_count": 107,
   "metadata": {},
   "outputs": [
    {
     "data": {
      "text/plain": [
       "0"
      ]
     },
     "execution_count": 107,
     "metadata": {},
     "output_type": "execute_result"
    }
   ],
   "source": [
    "incidents.third_degree_burn_count(params=params)"
   ]
  },
  {
   "cell_type": "markdown",
   "metadata": {},
   "source": [
    "### Count of Burns Grouped by Degree\n",
    "Count of burns during period grouped by degree."
   ]
  },
  {
   "cell_type": "code",
   "execution_count": 108,
   "metadata": {},
   "outputs": [
    {
     "data": {
      "text/plain": [
       "[('Second', 2)]"
      ]
     },
     "execution_count": 108,
     "metadata": {},
     "output_type": "execute_result"
    }
   ],
   "source": [
    "incidents.burn_degree_counts(params=params)"
   ]
  },
  {
   "cell_type": "markdown",
   "metadata": {},
   "source": [
    "### Number of Incidents with Major Harm or Death (Falls/Med Errors)\n",
    "Count of incidents during period where the severity is equal to Major Harm or Death."
   ]
  },
  {
   "cell_type": "code",
   "execution_count": 109,
   "metadata": {},
   "outputs": [
    {
     "data": {
      "text/plain": [
       "4"
      ]
     },
     "execution_count": 109,
     "metadata": {},
     "output_type": "execute_result"
    }
   ],
   "source": [
    "incidents.major_harm_or_death_count(params=params, incident_table=\"falls\")"
   ]
  },
  {
   "cell_type": "markdown",
   "metadata": {},
   "source": [
    "### Count of Med Error Responsibility by Type\n",
    "The sum of each of the responsibility columns (responsibility_pharmacy, responsibility _clinic, responsibility _home_care, responsibility _facility) in the med_errors table for med_errors occurring during the period. Returns a pandas dataframe with the columns `responsibility` and `count`."
   ]
  },
  {
   "cell_type": "code",
   "execution_count": 110,
   "metadata": {},
   "outputs": [
    {
     "data": {
      "text/html": [
       "<div>\n",
       "<style scoped>\n",
       "    .dataframe tbody tr th:only-of-type {\n",
       "        vertical-align: middle;\n",
       "    }\n",
       "\n",
       "    .dataframe tbody tr th {\n",
       "        vertical-align: top;\n",
       "    }\n",
       "\n",
       "    .dataframe thead th {\n",
       "        text-align: right;\n",
       "    }\n",
       "</style>\n",
       "<table border=\"1\" class=\"dataframe\">\n",
       "  <thead>\n",
       "    <tr style=\"text-align: right;\">\n",
       "      <th></th>\n",
       "      <th>responsibility</th>\n",
       "      <th>count</th>\n",
       "    </tr>\n",
       "  </thead>\n",
       "  <tbody>\n",
       "    <tr>\n",
       "      <th>0</th>\n",
       "      <td>Pharmacy</td>\n",
       "      <td>2</td>\n",
       "    </tr>\n",
       "    <tr>\n",
       "      <th>1</th>\n",
       "      <td>Clinic</td>\n",
       "      <td>1</td>\n",
       "    </tr>\n",
       "    <tr>\n",
       "      <th>2</th>\n",
       "      <td>Home Care</td>\n",
       "      <td>0</td>\n",
       "    </tr>\n",
       "    <tr>\n",
       "      <th>3</th>\n",
       "      <td>Facility</td>\n",
       "      <td>0</td>\n",
       "    </tr>\n",
       "  </tbody>\n",
       "</table>\n",
       "</div>"
      ],
      "text/plain": [
       "  responsibility  count\n",
       "0       Pharmacy      2\n",
       "1         Clinic      1\n",
       "2      Home Care      0\n",
       "3       Facility      0"
      ]
     },
     "execution_count": 110,
     "metadata": {},
     "output_type": "execute_result"
    }
   ],
   "source": [
    "incidents.med_errors_responsibility_counts(params=params)"
   ]
  },
  {
   "cell_type": "markdown",
   "metadata": {},
   "source": [
    "### Most Common Med Error Responsibility Type\n",
    "Creates the `med_errors_responsibility_counts` table and returns the first row as a tuple."
   ]
  },
  {
   "cell_type": "code",
   "execution_count": 111,
   "metadata": {},
   "outputs": [
    {
     "data": {
      "text/plain": [
       "('Pharmacy', 2)"
      ]
     },
     "execution_count": 111,
     "metadata": {},
     "output_type": "execute_result"
    }
   ],
   "source": [
    "incidents.most_common_med_errors_responsibility(params=params)"
   ]
  },
  {
   "cell_type": "markdown",
   "metadata": {},
   "source": [
    "### Number of Burns with an RN Assessment as a Follow Up\n",
    "Sum of the assessment_rn column from burns for burns occurring during the period."
   ]
  },
  {
   "cell_type": "code",
   "execution_count": 112,
   "metadata": {},
   "outputs": [
    {
     "data": {
      "text/plain": [
       "2.0"
      ]
     },
     "execution_count": 112,
     "metadata": {},
     "output_type": "execute_result"
    }
   ],
   "source": [
    "incidents.rn_assessment_following_burn_count(params=params)"
   ]
  },
  {
   "cell_type": "markdown",
   "metadata": {},
   "source": [
    "### Number of Med Errors Related to a High Risk Medication\n",
    "Finds descriptions that contain a high risk medication."
   ]
  },
  {
   "cell_type": "code",
   "execution_count": 113,
   "metadata": {},
   "outputs": [
    {
     "data": {
      "text/plain": [
       "0"
      ]
     },
     "execution_count": 113,
     "metadata": {},
     "output_type": "execute_result"
    }
   ],
   "source": [
    "incidents.high_risk_med_error_count(params=params)"
   ]
  },
  {
   "cell_type": "markdown",
   "metadata": {},
   "source": [
    "### Percent of Incidents Resulting in Major Harm or Death (Falls/Med Errors)\n",
    "`major_harm_or_death_count` divided by `num_incident` multiplied by 100."
   ]
  },
  {
   "cell_type": "code",
   "execution_count": 114,
   "metadata": {},
   "outputs": [
    {
     "data": {
      "text/plain": [
       "3.31"
      ]
     },
     "execution_count": 114,
     "metadata": {},
     "output_type": "execute_result"
    }
   ],
   "source": [
    "incidents.major_harm_percent(params=params, incident_table=\"falls\")"
   ]
  },
  {
   "cell_type": "markdown",
   "metadata": {},
   "source": [
    "### Adjusted Incidents per 100 Member Months (Falls/Med Errors/Wounds/Burns/Infections)\n",
    "`adjusted_incident_count` divided by `member_months` "
   ]
  },
  {
   "cell_type": "code",
   "execution_count": 115,
   "metadata": {},
   "outputs": [
    {
     "data": {
      "text/plain": [
       "12.0"
      ]
     },
     "execution_count": 115,
     "metadata": {},
     "output_type": "execute_result"
    }
   ],
   "source": [
    "incidents.adjusted_per_100MM(params=params, incident_table=\"falls\")"
   ]
  },
  {
   "cell_type": "markdown",
   "metadata": {},
   "source": [
    "### Percent of Wound that are Unstageable\n",
    "`unstageable_wounds_count` divided by `total_incidents` (with parameter of \"wounds\")"
   ]
  },
  {
   "cell_type": "code",
   "execution_count": 116,
   "metadata": {},
   "outputs": [
    {
     "data": {
      "text/plain": [
       "0.03"
      ]
     },
     "execution_count": 116,
     "metadata": {},
     "output_type": "execute_result"
    }
   ],
   "source": [
    "incidents.unstageable_wound_percent(params=params)"
   ]
  },
  {
   "cell_type": "markdown",
   "metadata": {},
   "source": [
    "### Percent of Burns with Degree 3rd Degree of Higher\n",
    "`third_degree_burn_count` divided by `total_incidents` (with parameter of \"burns\")"
   ]
  },
  {
   "cell_type": "code",
   "execution_count": 117,
   "metadata": {},
   "outputs": [
    {
     "data": {
      "text/plain": [
       "0.0"
      ]
     },
     "execution_count": 117,
     "metadata": {},
     "output_type": "execute_result"
    }
   ],
   "source": [
    "incidents.third_degree_burn_rate(params=params)"
   ]
  },
  {
   "cell_type": "markdown",
   "metadata": {},
   "source": [
    "### Percent of Burns that have an RN Assessment as Follow Up\n",
    "`rn_assessment_following_burn_count` divided by `total_incidents` (with parameter of \"burns\")"
   ]
  },
  {
   "cell_type": "code",
   "execution_count": 118,
   "metadata": {},
   "outputs": [
    {
     "data": {
      "text/plain": [
       "100.0"
      ]
     },
     "execution_count": 118,
     "metadata": {},
     "output_type": "execute_result"
    }
   ],
   "source": [
    "incidents.rn_assessment_following_burn_percent(params=params)"
   ]
  },
  {
   "cell_type": "markdown",
   "metadata": {},
   "source": [
    "## Utilization\n",
    "\n",
    "There are two utilization tables (inpatient and er_only). There are also 6 views of the inpatient table;\n",
    "+ acute\n",
    "+ psych\n",
    "+ nursing_home\n",
    "+ skilled\n",
    "+ respite\n",
    "+ custodial\n",
    "\n",
    "Some methods in the Utilization class require a utilization_table parameter to specify which type of utilization the statistic is being calculated for."
   ]
  },
  {
   "cell_type": "code",
   "execution_count": 119,
   "metadata": {},
   "outputs": [],
   "source": [
    "utilization = pu.Utilization()"
   ]
  },
  {
   "cell_type": "markdown",
   "metadata": {},
   "source": [
    "### Admissions (Acute/Psych/Nursing Home/Custodial/Respite/Skilled)\n",
    "Count of admissions with an admission_date in the period."
   ]
  },
  {
   "cell_type": "code",
   "execution_count": 120,
   "metadata": {},
   "outputs": [
    {
     "data": {
      "text/plain": [
       "88"
      ]
     },
     "execution_count": 120,
     "metadata": {},
     "output_type": "execute_result"
    }
   ],
   "source": [
    "utilization.admissions_count(params=params, utilization_table=\"acute\")"
   ]
  },
  {
   "cell_type": "markdown",
   "metadata": {},
   "source": [
    "### Discharges (Acute/Psych/Nursing Home/Custodial/Respite/Skilled)\n",
    "Count of admissions with a discharge_date in the period."
   ]
  },
  {
   "cell_type": "code",
   "execution_count": 121,
   "metadata": {},
   "outputs": [
    {
     "data": {
      "text/plain": [
       "90"
      ]
     },
     "execution_count": 121,
     "metadata": {},
     "output_type": "execute_result"
    }
   ],
   "source": [
    "utilization.discharges_count(params=params, utilization_table=\"acute\")"
   ]
  },
  {
   "cell_type": "markdown",
   "metadata": {},
   "source": [
    "### Average Length of Stay  (Acute/Psych/Nursing Home/Custodial/Respite/Skilled)\n",
    "Average los (length of stay) for admissions with a discharge_date in the period."
   ]
  },
  {
   "cell_type": "code",
   "execution_count": 122,
   "metadata": {},
   "outputs": [
    {
     "data": {
      "text/plain": [
       "4.5"
      ]
     },
     "execution_count": 122,
     "metadata": {},
     "output_type": "execute_result"
    }
   ],
   "source": [
    "utilization.alos(params=params, utilization_table=\"acute\")"
   ]
  },
  {
   "cell_type": "markdown",
   "metadata": {},
   "source": [
    "### ER to Acute Admission Rate\n",
    "Sum of the er column from the acute view divided by the sum of that value and the count of er_only admissions during the period."
   ]
  },
  {
   "cell_type": "code",
   "execution_count": 123,
   "metadata": {},
   "outputs": [
    {
     "data": {
      "text/plain": [
       "0.69"
      ]
     },
     "execution_count": 123,
     "metadata": {},
     "output_type": "execute_result"
    }
   ],
   "source": [
    "utilization.er_to_inp_rate(params=params)"
   ]
  },
  {
   "cell_type": "markdown",
   "metadata": {},
   "source": [
    "### Average Length of Stay for Acute Admissions from the ER\n",
    "Average los for admissions in the acute with an er value of 1 and an admission_date during the period."
   ]
  },
  {
   "cell_type": "code",
   "execution_count": 124,
   "metadata": {},
   "outputs": [
    {
     "data": {
      "text/plain": [
       "4.4"
      ]
     },
     "execution_count": 124,
     "metadata": {},
     "output_type": "execute_result"
    }
   ],
   "source": [
    "utilization.alos_for_er_admissions(params=params)"
   ]
  },
  {
   "cell_type": "markdown",
   "metadata": {},
   "source": [
    "### Length of Stay per 100 Member Months\n",
    "Sum of los for admissions with an admission_date during the period divided by the sum of the first of the month census for each month during the period multiplied by 100."
   ]
  },
  {
   "cell_type": "code",
   "execution_count": 125,
   "metadata": {},
   "outputs": [
    {
     "data": {
      "text/plain": [
       "41.08"
      ]
     },
     "execution_count": 125,
     "metadata": {},
     "output_type": "execute_result"
    }
   ],
   "source": [
    "utilization.los_per_100mm(params=params, utilization_table=\"acute\")"
   ]
  },
  {
   "cell_type": "markdown",
   "metadata": {},
   "source": [
    "### Number of 30 Day Readmits\n",
    "Count of admissions during the period with a day_since_last_admission value below 30."
   ]
  },
  {
   "cell_type": "code",
   "execution_count": 126,
   "metadata": {},
   "outputs": [
    {
     "data": {
      "text/plain": [
       "25"
      ]
     },
     "execution_count": 126,
     "metadata": {},
     "output_type": "execute_result"
    }
   ],
   "source": [
    "utilization.readmits_30day(params=params, utilization_table=\"acute\")"
   ]
  },
  {
   "cell_type": "markdown",
   "metadata": {},
   "source": [
    "### 30 Day Readmit Rate\n",
    "`readmits_30_day` divided by `admissions_count`"
   ]
  },
  {
   "cell_type": "code",
   "execution_count": 127,
   "metadata": {},
   "outputs": [
    {
     "data": {
      "text/plain": [
       "0.28"
      ]
     },
     "execution_count": 127,
     "metadata": {},
     "output_type": "execute_result"
    }
   ],
   "source": [
    "utilization.readmits_30day_rate(params=params, utilization_table=\"acute\")"
   ]
  },
  {
   "cell_type": "markdown",
   "metadata": {},
   "source": [
    "### Number of Ppts in a Utilization Type During the Period (Acute/Psych/Nursing Home/Custodial/Respite/Skilled)\n",
    "Count of admissions with a discharge date that is null or greater than the start date and an admission_date less than the end date."
   ]
  },
  {
   "cell_type": "code",
   "execution_count": 128,
   "metadata": {},
   "outputs": [
    {
     "data": {
      "text/plain": [
       "92"
      ]
     },
     "execution_count": 128,
     "metadata": {},
     "output_type": "execute_result"
    }
   ],
   "source": [
    "utilization.ppts_in_utl(params=params, utilization_table=\"acute\")"
   ]
  },
  {
   "cell_type": "markdown",
   "metadata": {},
   "source": [
    "### Ppts in Utilization Type per 100 Member Months  (Acute/Psych/Nursing Home/Custodial/Respite/Skilled)\n",
    "`ppts_in_utl` divided by `member_months` multiplied by 100. "
   ]
  },
  {
   "cell_type": "code",
   "execution_count": 129,
   "metadata": {},
   "outputs": [
    {
     "data": {
      "text/plain": [
       "9.95"
      ]
     },
     "execution_count": 129,
     "metadata": {},
     "output_type": "execute_result"
    }
   ],
   "source": [
    "utilization.ppts_in_utl_per_100MM(params=params, utilization_table=\"acute\")"
   ]
  },
  {
   "cell_type": "markdown",
   "metadata": {},
   "source": [
    "### Percent of Ppts in a Utilization Type\n",
    "`ppts_in_utl` divided by `census_during_period`."
   ]
  },
  {
   "cell_type": "code",
   "execution_count": 130,
   "metadata": {},
   "outputs": [
    {
     "data": {
      "text/plain": [
       "28.75"
      ]
     },
     "execution_count": 130,
     "metadata": {},
     "output_type": "execute_result"
    }
   ],
   "source": [
    "utilization.ppts_in_utl_percent(params=params, utilization_table=\"acute\")"
   ]
  },
  {
   "cell_type": "markdown",
   "metadata": {},
   "source": [
    "### Discharge 30 Days or Less before Death\n",
    "Checks for an admission with a discharge date between the decease_date and the date 30 days prior, returns 1 if an admission exists, 0 otherwise."
   ]
  },
  {
   "cell_type": "code",
   "execution_count": 131,
   "metadata": {},
   "outputs": [
    {
     "data": {
      "text/plain": [
       "0"
      ]
     },
     "execution_count": 131,
     "metadata": {},
     "output_type": "execute_result"
    }
   ],
   "source": [
    "utilization.check_for_admission_30days_before_death(member_id=100122, deceased_date=\"2007-03-26\")"
   ]
  },
  {
   "cell_type": "markdown",
   "metadata": {},
   "source": [
    "### Utilization Related to Condition or Diagnosis\n",
    "Searches through the acute, er_only, admitting_claims, and claims_detail tables for any dx where the condition or condition_abr appear. Returns a pandas dataframe."
   ]
  },
  {
   "cell_type": "code",
   "execution_count": 132,
   "metadata": {},
   "outputs": [
    {
     "data": {
      "text/html": [
       "<div>\n",
       "<style scoped>\n",
       "    .dataframe tbody tr th:only-of-type {\n",
       "        vertical-align: middle;\n",
       "    }\n",
       "\n",
       "    .dataframe tbody tr th {\n",
       "        vertical-align: top;\n",
       "    }\n",
       "\n",
       "    .dataframe thead th {\n",
       "        text-align: right;\n",
       "    }\n",
       "</style>\n",
       "<table border=\"1\" class=\"dataframe\">\n",
       "  <thead>\n",
       "    <tr style=\"text-align: right;\">\n",
       "      <th></th>\n",
       "      <th>member_id</th>\n",
       "      <th>admission_date</th>\n",
       "      <th>discharge_date</th>\n",
       "      <th>los</th>\n",
       "      <th>facility</th>\n",
       "      <th>discharge_disposition</th>\n",
       "      <th>admission_scheduled</th>\n",
       "      <th>admit_reason</th>\n",
       "      <th>diagnosis</th>\n",
       "      <th>readmit</th>\n",
       "      <th>...</th>\n",
       "      <th>principle_diag_desc</th>\n",
       "      <th>diagnosis68_desc</th>\n",
       "      <th>diagnosis69_desc</th>\n",
       "      <th>diagnosis70_desc</th>\n",
       "      <th>diagnosis71_desc</th>\n",
       "      <th>diagnosis72_desc</th>\n",
       "      <th>diagnosis73_desc</th>\n",
       "      <th>diagnosis74_desc</th>\n",
       "      <th>diagnosis75_desc</th>\n",
       "      <th>visit_type</th>\n",
       "    </tr>\n",
       "  </thead>\n",
       "  <tbody>\n",
       "    <tr>\n",
       "      <th>0</th>\n",
       "      <td>2000906</td>\n",
       "      <td>2019-01-03</td>\n",
       "      <td>2019-01-09</td>\n",
       "      <td>6.0</td>\n",
       "      <td>Roger Williams Medical Center</td>\n",
       "      <td>Home with home health nursing or rehabilitation</td>\n",
       "      <td>Emergent Unscheduled</td>\n",
       "      <td>None</td>\n",
       "      <td>None</td>\n",
       "      <td>No</td>\n",
       "      <td>...</td>\n",
       "      <td>Secondary malignant neoplasm of mediastinum</td>\n",
       "      <td>Myocardial infarction type 2</td>\n",
       "      <td>Malignant neoplasm of unspecified part of unsp...</td>\n",
       "      <td>Chronic obstructive pulmonary disease with (ac...</td>\n",
       "      <td>Unspecified hydronephrosis</td>\n",
       "      <td>Hemiplegia and hemiparesis following cerebral ...</td>\n",
       "      <td>Periapical abscess without sinus</td>\n",
       "      <td>Acute respiratory distress</td>\n",
       "      <td>Essential (primary) hypertension</td>\n",
       "      <td>inpatient</td>\n",
       "    </tr>\n",
       "    <tr>\n",
       "      <th>27</th>\n",
       "      <td>100785</td>\n",
       "      <td>2019-01-07</td>\n",
       "      <td>2019-01-11</td>\n",
       "      <td>4.0</td>\n",
       "      <td>Roger Williams Medical Center</td>\n",
       "      <td>Home with home health nursing or rehabilitation</td>\n",
       "      <td>Emergent Unscheduled</td>\n",
       "      <td>COPD exac</td>\n",
       "      <td>None</td>\n",
       "      <td>No</td>\n",
       "      <td>...</td>\n",
       "      <td>Unspecified atrial fibrillation</td>\n",
       "      <td>Pneumonia, unspecified organism</td>\n",
       "      <td>Chronic obstructive pulmonary disease with acu...</td>\n",
       "      <td>Chronic obstructive pulmonary disease with (ac...</td>\n",
       "      <td>Atelectasis</td>\n",
       "      <td>Chronic diastolic (congestive) heart failure</td>\n",
       "      <td>Hemiplegia and hemiparesis following unspecifi...</td>\n",
       "      <td>Other epilepsy, not intractable, without statu...</td>\n",
       "      <td>Urinary tract infection, site not specified</td>\n",
       "      <td>inpatient</td>\n",
       "    </tr>\n",
       "    <tr>\n",
       "      <th>28</th>\n",
       "      <td>100785</td>\n",
       "      <td>2019-01-16</td>\n",
       "      <td>2019-01-20</td>\n",
       "      <td>4.0</td>\n",
       "      <td>Roger Williams Medical Center</td>\n",
       "      <td>Deceased</td>\n",
       "      <td>Emergent Unscheduled</td>\n",
       "      <td>CVA/embolism</td>\n",
       "      <td>None</td>\n",
       "      <td>Yes</td>\n",
       "      <td>...</td>\n",
       "      <td>Unspecified atrial fibrillation</td>\n",
       "      <td>Pneumonia, unspecified organism</td>\n",
       "      <td>Chronic obstructive pulmonary disease with acu...</td>\n",
       "      <td>Chronic obstructive pulmonary disease with (ac...</td>\n",
       "      <td>Atelectasis</td>\n",
       "      <td>Chronic diastolic (congestive) heart failure</td>\n",
       "      <td>Hemiplegia and hemiparesis following unspecifi...</td>\n",
       "      <td>Other epilepsy, not intractable, without statu...</td>\n",
       "      <td>Urinary tract infection, site not specified</td>\n",
       "      <td>inpatient</td>\n",
       "    </tr>\n",
       "    <tr>\n",
       "      <th>57</th>\n",
       "      <td>1000822</td>\n",
       "      <td>2019-01-22</td>\n",
       "      <td>2019-01-26</td>\n",
       "      <td>4.0</td>\n",
       "      <td>Kent County Memorial Hospital</td>\n",
       "      <td>Home with home health nursing or rehabilitation</td>\n",
       "      <td>Emergent Unscheduled</td>\n",
       "      <td>CHF</td>\n",
       "      <td>None</td>\n",
       "      <td>No</td>\n",
       "      <td>...</td>\n",
       "      <td>Hypertensive heart disease with heart failure</td>\n",
       "      <td>Chronic obstructive pulmonary disease with (ac...</td>\n",
       "      <td>Acute kidney failure, unspecified</td>\n",
       "      <td>Acute on chronic diastolic (congestive) heart ...</td>\n",
       "      <td>Atherosclerotic heart disease of native corona...</td>\n",
       "      <td>Presence of aortocoronary bypass graft</td>\n",
       "      <td>Personal history of transient ischemic attack ...</td>\n",
       "      <td>Nonrheumatic mitral (valve) insufficiency</td>\n",
       "      <td>Presence of automatic (implantable) cardiac de...</td>\n",
       "      <td>inpatient</td>\n",
       "    </tr>\n",
       "    <tr>\n",
       "      <th>67</th>\n",
       "      <td>100811</td>\n",
       "      <td>2019-01-10</td>\n",
       "      <td>2019-01-14</td>\n",
       "      <td>4.0</td>\n",
       "      <td>Roger Williams Medical Center</td>\n",
       "      <td>Nursing home or rehabilitation facility</td>\n",
       "      <td>Emergent Unscheduled</td>\n",
       "      <td>chest pain</td>\n",
       "      <td>None</td>\n",
       "      <td>Yes</td>\n",
       "      <td>...</td>\n",
       "      <td>Non-ST elevation (NSTEMI) myocardial infarction</td>\n",
       "      <td>Obstructive sleep apnea (adult) (pediatric)</td>\n",
       "      <td>Atherosclerotic heart disease of native corona...</td>\n",
       "      <td>Paroxysmal atrial fibrillation</td>\n",
       "      <td>Hypertensive heart disease with heart failure</td>\n",
       "      <td>Heart failure, unspecified</td>\n",
       "      <td>Hypokalemia</td>\n",
       "      <td>Type 2 diabetes mellitus with diabetic neuropa...</td>\n",
       "      <td>Chronic obstructive pulmonary disease, unspeci...</td>\n",
       "      <td>inpatient</td>\n",
       "    </tr>\n",
       "    <tr>\n",
       "      <th>...</th>\n",
       "      <td>...</td>\n",
       "      <td>...</td>\n",
       "      <td>...</td>\n",
       "      <td>...</td>\n",
       "      <td>...</td>\n",
       "      <td>...</td>\n",
       "      <td>...</td>\n",
       "      <td>...</td>\n",
       "      <td>...</td>\n",
       "      <td>...</td>\n",
       "      <td>...</td>\n",
       "      <td>...</td>\n",
       "      <td>...</td>\n",
       "      <td>...</td>\n",
       "      <td>...</td>\n",
       "      <td>...</td>\n",
       "      <td>...</td>\n",
       "      <td>...</td>\n",
       "      <td>...</td>\n",
       "      <td>...</td>\n",
       "      <td>...</td>\n",
       "    </tr>\n",
       "    <tr>\n",
       "      <th>946</th>\n",
       "      <td>100958</td>\n",
       "      <td>2019-01-01</td>\n",
       "      <td>NaN</td>\n",
       "      <td>NaN</td>\n",
       "      <td>Rhode Island Hospital</td>\n",
       "      <td>NaN</td>\n",
       "      <td>NaN</td>\n",
       "      <td>NaN</td>\n",
       "      <td>None</td>\n",
       "      <td>NaN</td>\n",
       "      <td>...</td>\n",
       "      <td>Hemorrhage due to vascular prosthetic devices,...</td>\n",
       "      <td>Vomiting, unspecified</td>\n",
       "      <td>Hypothyroidism, unspecified</td>\n",
       "      <td>Hypertensive chronic kidney disease with stage...</td>\n",
       "      <td>Chronic obstructive pulmonary disease, unspeci...</td>\n",
       "      <td>Chronic kidney disease, unspecified</td>\n",
       "      <td>Pure hypercholesterolemia, unspecified</td>\n",
       "      <td>Nicotine dependence, cigarettes, uncomplicated</td>\n",
       "      <td>Other specified postprocedural states</td>\n",
       "      <td>er_only</td>\n",
       "    </tr>\n",
       "    <tr>\n",
       "      <th>954</th>\n",
       "      <td>100422</td>\n",
       "      <td>2019-03-01</td>\n",
       "      <td>NaN</td>\n",
       "      <td>NaN</td>\n",
       "      <td>Roger Williams Medical Center</td>\n",
       "      <td>NaN</td>\n",
       "      <td>NaN</td>\n",
       "      <td>NaN</td>\n",
       "      <td>None</td>\n",
       "      <td>NaN</td>\n",
       "      <td>...</td>\n",
       "      <td>Dehydration</td>\n",
       "      <td>Syncope and collapse</td>\n",
       "      <td>Influenza due to unidentified influenza virus ...</td>\n",
       "      <td>Hypertensive heart disease with heart failure</td>\n",
       "      <td>Heart failure, unspecified</td>\n",
       "      <td>Chronic obstructive pulmonary disease, unspeci...</td>\n",
       "      <td>Combined rheumatic disorders of mitral, aortic...</td>\n",
       "      <td>Rheumatoid arthritis, unspecified</td>\n",
       "      <td>Hypokalemia</td>\n",
       "      <td>er_only</td>\n",
       "    </tr>\n",
       "    <tr>\n",
       "      <th>966</th>\n",
       "      <td>1000851</td>\n",
       "      <td>2019-02-04</td>\n",
       "      <td>NaN</td>\n",
       "      <td>NaN</td>\n",
       "      <td>South County Hospital</td>\n",
       "      <td>NaN</td>\n",
       "      <td>NaN</td>\n",
       "      <td>NaN</td>\n",
       "      <td>None</td>\n",
       "      <td>NaN</td>\n",
       "      <td>...</td>\n",
       "      <td>Alcohol dependence with intoxication, uncompli...</td>\n",
       "      <td>Nicotine dependence, cigarettes, uncomplicated</td>\n",
       "      <td>Chronic obstructive pulmonary disease, unspeci...</td>\n",
       "      <td>Pure hypercholesterolemia, unspecified</td>\n",
       "      <td>None</td>\n",
       "      <td>None</td>\n",
       "      <td>None</td>\n",
       "      <td>None</td>\n",
       "      <td>None</td>\n",
       "      <td>er_only</td>\n",
       "    </tr>\n",
       "    <tr>\n",
       "      <th>967</th>\n",
       "      <td>1000851</td>\n",
       "      <td>2019-02-27</td>\n",
       "      <td>NaN</td>\n",
       "      <td>NaN</td>\n",
       "      <td>South County Hospital</td>\n",
       "      <td>NaN</td>\n",
       "      <td>NaN</td>\n",
       "      <td>NaN</td>\n",
       "      <td>None</td>\n",
       "      <td>NaN</td>\n",
       "      <td>...</td>\n",
       "      <td>Alcohol dependence with intoxication, uncompli...</td>\n",
       "      <td>Nicotine dependence, cigarettes, uncomplicated</td>\n",
       "      <td>Chronic obstructive pulmonary disease, unspeci...</td>\n",
       "      <td>Pure hypercholesterolemia, unspecified</td>\n",
       "      <td>None</td>\n",
       "      <td>None</td>\n",
       "      <td>None</td>\n",
       "      <td>None</td>\n",
       "      <td>None</td>\n",
       "      <td>er_only</td>\n",
       "    </tr>\n",
       "    <tr>\n",
       "      <th>1029</th>\n",
       "      <td>100785</td>\n",
       "      <td>2019-01-07</td>\n",
       "      <td>2019-01-11</td>\n",
       "      <td>4.0</td>\n",
       "      <td>Roger Williams Medical Center</td>\n",
       "      <td>Home with home health nursing or rehabilitation</td>\n",
       "      <td>Emergent Unscheduled</td>\n",
       "      <td>COPD exac</td>\n",
       "      <td>None</td>\n",
       "      <td>No</td>\n",
       "      <td>...</td>\n",
       "      <td>Cerebral infarction due to embolism of left mi...</td>\n",
       "      <td>Coma scale, best motor response, flexion withd...</td>\n",
       "      <td>Coma scale, best verbal response, incomprehens...</td>\n",
       "      <td>Pneumonitis due to inhalation of food and vomit</td>\n",
       "      <td>Hemiplegia, unspecified affecting right domina...</td>\n",
       "      <td>Encounter for palliative care</td>\n",
       "      <td>NIHSS score 23</td>\n",
       "      <td>Unspecified atrial fibrillation</td>\n",
       "      <td>Epilepsy, unspecified, not intractable, withou...</td>\n",
       "      <td>inpatient</td>\n",
       "    </tr>\n",
       "  </tbody>\n",
       "</table>\n",
       "<p>67 rows × 49 columns</p>\n",
       "</div>"
      ],
      "text/plain": [
       "      member_id admission_date discharge_date  los  \\\n",
       "0       2000906     2019-01-03     2019-01-09  6.0   \n",
       "27       100785     2019-01-07     2019-01-11  4.0   \n",
       "28       100785     2019-01-16     2019-01-20  4.0   \n",
       "57      1000822     2019-01-22     2019-01-26  4.0   \n",
       "67       100811     2019-01-10     2019-01-14  4.0   \n",
       "...         ...            ...            ...  ...   \n",
       "946      100958     2019-01-01            NaN  NaN   \n",
       "954      100422     2019-03-01            NaN  NaN   \n",
       "966     1000851     2019-02-04            NaN  NaN   \n",
       "967     1000851     2019-02-27            NaN  NaN   \n",
       "1029     100785     2019-01-07     2019-01-11  4.0   \n",
       "\n",
       "                           facility  \\\n",
       "0     Roger Williams Medical Center   \n",
       "27    Roger Williams Medical Center   \n",
       "28    Roger Williams Medical Center   \n",
       "57    Kent County Memorial Hospital   \n",
       "67    Roger Williams Medical Center   \n",
       "...                             ...   \n",
       "946           Rhode Island Hospital   \n",
       "954   Roger Williams Medical Center   \n",
       "966           South County Hospital   \n",
       "967           South County Hospital   \n",
       "1029  Roger Williams Medical Center   \n",
       "\n",
       "                                discharge_disposition   admission_scheduled  \\\n",
       "0     Home with home health nursing or rehabilitation  Emergent Unscheduled   \n",
       "27    Home with home health nursing or rehabilitation  Emergent Unscheduled   \n",
       "28                                           Deceased  Emergent Unscheduled   \n",
       "57    Home with home health nursing or rehabilitation  Emergent Unscheduled   \n",
       "67            Nursing home or rehabilitation facility  Emergent Unscheduled   \n",
       "...                                               ...                   ...   \n",
       "946                                               NaN                   NaN   \n",
       "954                                               NaN                   NaN   \n",
       "966                                               NaN                   NaN   \n",
       "967                                               NaN                   NaN   \n",
       "1029  Home with home health nursing or rehabilitation  Emergent Unscheduled   \n",
       "\n",
       "      admit_reason diagnosis readmit  ...  \\\n",
       "0             None      None      No  ...   \n",
       "27       COPD exac      None      No  ...   \n",
       "28    CVA/embolism      None     Yes  ...   \n",
       "57             CHF      None      No  ...   \n",
       "67      chest pain      None     Yes  ...   \n",
       "...            ...       ...     ...  ...   \n",
       "946            NaN      None     NaN  ...   \n",
       "954            NaN      None     NaN  ...   \n",
       "966            NaN      None     NaN  ...   \n",
       "967            NaN      None     NaN  ...   \n",
       "1029     COPD exac      None      No  ...   \n",
       "\n",
       "                                    principle_diag_desc  \\\n",
       "0           Secondary malignant neoplasm of mediastinum   \n",
       "27                      Unspecified atrial fibrillation   \n",
       "28                      Unspecified atrial fibrillation   \n",
       "57        Hypertensive heart disease with heart failure   \n",
       "67      Non-ST elevation (NSTEMI) myocardial infarction   \n",
       "...                                                 ...   \n",
       "946   Hemorrhage due to vascular prosthetic devices,...   \n",
       "954                                         Dehydration   \n",
       "966   Alcohol dependence with intoxication, uncompli...   \n",
       "967   Alcohol dependence with intoxication, uncompli...   \n",
       "1029  Cerebral infarction due to embolism of left mi...   \n",
       "\n",
       "                                       diagnosis68_desc  \\\n",
       "0                          Myocardial infarction type 2   \n",
       "27                      Pneumonia, unspecified organism   \n",
       "28                      Pneumonia, unspecified organism   \n",
       "57    Chronic obstructive pulmonary disease with (ac...   \n",
       "67          Obstructive sleep apnea (adult) (pediatric)   \n",
       "...                                                 ...   \n",
       "946                               Vomiting, unspecified   \n",
       "954                                Syncope and collapse   \n",
       "966      Nicotine dependence, cigarettes, uncomplicated   \n",
       "967      Nicotine dependence, cigarettes, uncomplicated   \n",
       "1029  Coma scale, best motor response, flexion withd...   \n",
       "\n",
       "                                       diagnosis69_desc  \\\n",
       "0     Malignant neoplasm of unspecified part of unsp...   \n",
       "27    Chronic obstructive pulmonary disease with acu...   \n",
       "28    Chronic obstructive pulmonary disease with acu...   \n",
       "57                    Acute kidney failure, unspecified   \n",
       "67    Atherosclerotic heart disease of native corona...   \n",
       "...                                                 ...   \n",
       "946                         Hypothyroidism, unspecified   \n",
       "954   Influenza due to unidentified influenza virus ...   \n",
       "966   Chronic obstructive pulmonary disease, unspeci...   \n",
       "967   Chronic obstructive pulmonary disease, unspeci...   \n",
       "1029  Coma scale, best verbal response, incomprehens...   \n",
       "\n",
       "                                       diagnosis70_desc  \\\n",
       "0     Chronic obstructive pulmonary disease with (ac...   \n",
       "27    Chronic obstructive pulmonary disease with (ac...   \n",
       "28    Chronic obstructive pulmonary disease with (ac...   \n",
       "57    Acute on chronic diastolic (congestive) heart ...   \n",
       "67                       Paroxysmal atrial fibrillation   \n",
       "...                                                 ...   \n",
       "946   Hypertensive chronic kidney disease with stage...   \n",
       "954       Hypertensive heart disease with heart failure   \n",
       "966              Pure hypercholesterolemia, unspecified   \n",
       "967              Pure hypercholesterolemia, unspecified   \n",
       "1029    Pneumonitis due to inhalation of food and vomit   \n",
       "\n",
       "                                       diagnosis71_desc  \\\n",
       "0                            Unspecified hydronephrosis   \n",
       "27                                          Atelectasis   \n",
       "28                                          Atelectasis   \n",
       "57    Atherosclerotic heart disease of native corona...   \n",
       "67        Hypertensive heart disease with heart failure   \n",
       "...                                                 ...   \n",
       "946   Chronic obstructive pulmonary disease, unspeci...   \n",
       "954                          Heart failure, unspecified   \n",
       "966                                                None   \n",
       "967                                                None   \n",
       "1029  Hemiplegia, unspecified affecting right domina...   \n",
       "\n",
       "                                       diagnosis72_desc  \\\n",
       "0     Hemiplegia and hemiparesis following cerebral ...   \n",
       "27         Chronic diastolic (congestive) heart failure   \n",
       "28         Chronic diastolic (congestive) heart failure   \n",
       "57               Presence of aortocoronary bypass graft   \n",
       "67                           Heart failure, unspecified   \n",
       "...                                                 ...   \n",
       "946                 Chronic kidney disease, unspecified   \n",
       "954   Chronic obstructive pulmonary disease, unspeci...   \n",
       "966                                                None   \n",
       "967                                                None   \n",
       "1029                      Encounter for palliative care   \n",
       "\n",
       "                                       diagnosis73_desc  \\\n",
       "0                      Periapical abscess without sinus   \n",
       "27    Hemiplegia and hemiparesis following unspecifi...   \n",
       "28    Hemiplegia and hemiparesis following unspecifi...   \n",
       "57    Personal history of transient ischemic attack ...   \n",
       "67                                          Hypokalemia   \n",
       "...                                                 ...   \n",
       "946              Pure hypercholesterolemia, unspecified   \n",
       "954   Combined rheumatic disorders of mitral, aortic...   \n",
       "966                                                None   \n",
       "967                                                None   \n",
       "1029                                     NIHSS score 23   \n",
       "\n",
       "                                       diagnosis74_desc  \\\n",
       "0                            Acute respiratory distress   \n",
       "27    Other epilepsy, not intractable, without statu...   \n",
       "28    Other epilepsy, not intractable, without statu...   \n",
       "57            Nonrheumatic mitral (valve) insufficiency   \n",
       "67    Type 2 diabetes mellitus with diabetic neuropa...   \n",
       "...                                                 ...   \n",
       "946      Nicotine dependence, cigarettes, uncomplicated   \n",
       "954                   Rheumatoid arthritis, unspecified   \n",
       "966                                                None   \n",
       "967                                                None   \n",
       "1029                    Unspecified atrial fibrillation   \n",
       "\n",
       "                                       diagnosis75_desc visit_type  \n",
       "0                      Essential (primary) hypertension  inpatient  \n",
       "27          Urinary tract infection, site not specified  inpatient  \n",
       "28          Urinary tract infection, site not specified  inpatient  \n",
       "57    Presence of automatic (implantable) cardiac de...  inpatient  \n",
       "67    Chronic obstructive pulmonary disease, unspeci...  inpatient  \n",
       "...                                                 ...        ...  \n",
       "946               Other specified postprocedural states    er_only  \n",
       "954                                         Hypokalemia    er_only  \n",
       "966                                                None    er_only  \n",
       "967                                                None    er_only  \n",
       "1029  Epilepsy, unspecified, not intractable, withou...  inpatient  \n",
       "\n",
       "[67 rows x 49 columns]"
      ]
     },
     "execution_count": 132,
     "metadata": {},
     "output_type": "execute_result"
    }
   ],
   "source": [
    "utilization.utilization_related_to_condition(params=params,\n",
    "                                             condition=\"Chronic Obstructive Pulmonary Disease\",\n",
    "                                             condition_abr=\"COPD\")"
   ]
  },
  {
   "cell_type": "markdown",
   "metadata": {},
   "source": [
    "### LOS Over X During Period DataFrame\n",
    "Finds admissions with a discharge_date during the period and a los values above the provided *x*."
   ]
  },
  {
   "cell_type": "code",
   "execution_count": 133,
   "metadata": {},
   "outputs": [
    {
     "data": {
      "text/html": [
       "<div>\n",
       "<style scoped>\n",
       "    .dataframe tbody tr th:only-of-type {\n",
       "        vertical-align: middle;\n",
       "    }\n",
       "\n",
       "    .dataframe tbody tr th {\n",
       "        vertical-align: top;\n",
       "    }\n",
       "\n",
       "    .dataframe thead th {\n",
       "        text-align: right;\n",
       "    }\n",
       "</style>\n",
       "<table border=\"1\" class=\"dataframe\">\n",
       "  <thead>\n",
       "    <tr style=\"text-align: right;\">\n",
       "      <th></th>\n",
       "      <th>member_id</th>\n",
       "      <th>admission_date</th>\n",
       "      <th>discharge_date</th>\n",
       "      <th>los</th>\n",
       "      <th>facility</th>\n",
       "      <th>discharge_disposition</th>\n",
       "      <th>admission_scheduled</th>\n",
       "      <th>admit_reason</th>\n",
       "      <th>diagnosis</th>\n",
       "      <th>readmit</th>\n",
       "      <th>admission_type</th>\n",
       "      <th>w_six_months</th>\n",
       "      <th>dow</th>\n",
       "      <th>er</th>\n",
       "      <th>days_since_last_admission</th>\n",
       "      <th>visit_id</th>\n",
       "    </tr>\n",
       "  </thead>\n",
       "  <tbody>\n",
       "    <tr>\n",
       "      <th>0</th>\n",
       "      <td>100541</td>\n",
       "      <td>2018-12-31</td>\n",
       "      <td>2019-01-09</td>\n",
       "      <td>9</td>\n",
       "      <td>Rhode Island Hospital</td>\n",
       "      <td>Nursing home or rehabilitation facility</td>\n",
       "      <td>Emergent Unscheduled</td>\n",
       "      <td>AKI/Anemia</td>\n",
       "      <td>None</td>\n",
       "      <td>Yes</td>\n",
       "      <td>Acute Hospital</td>\n",
       "      <td>0</td>\n",
       "      <td>Monday</td>\n",
       "      <td>1</td>\n",
       "      <td>6.0</td>\n",
       "      <td>20281772</td>\n",
       "    </tr>\n",
       "    <tr>\n",
       "      <th>1</th>\n",
       "      <td>100811</td>\n",
       "      <td>2018-12-27</td>\n",
       "      <td>2019-01-09</td>\n",
       "      <td>13</td>\n",
       "      <td>Rhode Island Hospital</td>\n",
       "      <td>Nursing home or rehabilitation facility</td>\n",
       "      <td>Emergent Unscheduled</td>\n",
       "      <td>PNA</td>\n",
       "      <td>None</td>\n",
       "      <td>Yes</td>\n",
       "      <td>Acute Hospital</td>\n",
       "      <td>0</td>\n",
       "      <td>Thursday</td>\n",
       "      <td>1</td>\n",
       "      <td>0.0</td>\n",
       "      <td>20282038</td>\n",
       "    </tr>\n",
       "    <tr>\n",
       "      <th>2</th>\n",
       "      <td>100348</td>\n",
       "      <td>2019-02-06</td>\n",
       "      <td>2019-02-14</td>\n",
       "      <td>8</td>\n",
       "      <td>Roger Williams Medical Center</td>\n",
       "      <td>Nursing home or rehabilitation facility</td>\n",
       "      <td>Emergent Unscheduled</td>\n",
       "      <td>influenza, PNA</td>\n",
       "      <td>None</td>\n",
       "      <td>No</td>\n",
       "      <td>Acute Hospital</td>\n",
       "      <td>0</td>\n",
       "      <td>Wednesday</td>\n",
       "      <td>1</td>\n",
       "      <td>62.0</td>\n",
       "      <td>20290554</td>\n",
       "    </tr>\n",
       "    <tr>\n",
       "      <th>3</th>\n",
       "      <td>100454</td>\n",
       "      <td>2019-01-15</td>\n",
       "      <td>2019-01-22</td>\n",
       "      <td>7</td>\n",
       "      <td>Rhode Island Hospital</td>\n",
       "      <td>Nursing home or rehabilitation facility</td>\n",
       "      <td>Emergent Unscheduled</td>\n",
       "      <td>Metapneumovirus</td>\n",
       "      <td>None</td>\n",
       "      <td>No</td>\n",
       "      <td>Acute Hospital</td>\n",
       "      <td>0</td>\n",
       "      <td>Tuesday</td>\n",
       "      <td>1</td>\n",
       "      <td>29.0</td>\n",
       "      <td>20290569</td>\n",
       "    </tr>\n",
       "    <tr>\n",
       "      <th>4</th>\n",
       "      <td>100540</td>\n",
       "      <td>2019-01-31</td>\n",
       "      <td>2019-02-14</td>\n",
       "      <td>14</td>\n",
       "      <td>Rhode Island Hospital</td>\n",
       "      <td>Nursing home or rehabilitation facility</td>\n",
       "      <td>Emergent Unscheduled</td>\n",
       "      <td>urosepsis/hypotension</td>\n",
       "      <td>None</td>\n",
       "      <td>Yes</td>\n",
       "      <td>Acute Hospital</td>\n",
       "      <td>0</td>\n",
       "      <td>Thursday</td>\n",
       "      <td>1</td>\n",
       "      <td>27.0</td>\n",
       "      <td>20290671</td>\n",
       "    </tr>\n",
       "  </tbody>\n",
       "</table>\n",
       "</div>"
      ],
      "text/plain": [
       "   member_id admission_date discharge_date  los  \\\n",
       "0     100541     2018-12-31     2019-01-09    9   \n",
       "1     100811     2018-12-27     2019-01-09   13   \n",
       "2     100348     2019-02-06     2019-02-14    8   \n",
       "3     100454     2019-01-15     2019-01-22    7   \n",
       "4     100540     2019-01-31     2019-02-14   14   \n",
       "\n",
       "                        facility                    discharge_disposition  \\\n",
       "0          Rhode Island Hospital  Nursing home or rehabilitation facility   \n",
       "1          Rhode Island Hospital  Nursing home or rehabilitation facility   \n",
       "2  Roger Williams Medical Center  Nursing home or rehabilitation facility   \n",
       "3          Rhode Island Hospital  Nursing home or rehabilitation facility   \n",
       "4          Rhode Island Hospital  Nursing home or rehabilitation facility   \n",
       "\n",
       "    admission_scheduled           admit_reason diagnosis readmit  \\\n",
       "0  Emergent Unscheduled             AKI/Anemia      None     Yes   \n",
       "1  Emergent Unscheduled                    PNA      None     Yes   \n",
       "2  Emergent Unscheduled         influenza, PNA      None      No   \n",
       "3  Emergent Unscheduled        Metapneumovirus      None      No   \n",
       "4  Emergent Unscheduled  urosepsis/hypotension      None     Yes   \n",
       "\n",
       "   admission_type  w_six_months        dow  er  days_since_last_admission  \\\n",
       "0  Acute Hospital             0     Monday   1                        6.0   \n",
       "1  Acute Hospital             0   Thursday   1                        0.0   \n",
       "2  Acute Hospital             0  Wednesday   1                       62.0   \n",
       "3  Acute Hospital             0    Tuesday   1                       29.0   \n",
       "4  Acute Hospital             0   Thursday   1                       27.0   \n",
       "\n",
       "   visit_id  \n",
       "0  20281772  \n",
       "1  20282038  \n",
       "2  20290554  \n",
       "3  20290569  \n",
       "4  20290671  "
      ]
     },
     "execution_count": 133,
     "metadata": {},
     "output_type": "execute_result"
    }
   ],
   "source": [
    "utilization.los_over_x_df(params=params, x=7, utilization_table=\"acute\").head()"
   ]
  },
  {
   "cell_type": "markdown",
   "metadata": {},
   "source": [
    "### Number of Admissions with a LOS Over X During Period\n",
    "Count of admissions with a discharge_date during the period and a los values above the provided *x*."
   ]
  },
  {
   "cell_type": "code",
   "execution_count": 134,
   "metadata": {},
   "outputs": [
    {
     "data": {
      "text/plain": [
       "17"
      ]
     },
     "execution_count": 134,
     "metadata": {},
     "output_type": "execute_result"
    }
   ],
   "source": [
    "utilization.los_over_x_count(params=params, x=7, utilization_table=\"acute\")"
   ]
  },
  {
   "cell_type": "markdown",
   "metadata": {},
   "source": [
    "### Days Over X During Period DataFrame\n",
    "Days are calculated by subtracting the admission date from either the discharge date or the end date. This function then returns the admissions during the period with days above *x*."
   ]
  },
  {
   "cell_type": "code",
   "execution_count": 135,
   "metadata": {},
   "outputs": [
    {
     "data": {
      "text/html": [
       "<div>\n",
       "<style scoped>\n",
       "    .dataframe tbody tr th:only-of-type {\n",
       "        vertical-align: middle;\n",
       "    }\n",
       "\n",
       "    .dataframe tbody tr th {\n",
       "        vertical-align: top;\n",
       "    }\n",
       "\n",
       "    .dataframe thead th {\n",
       "        text-align: right;\n",
       "    }\n",
       "</style>\n",
       "<table border=\"1\" class=\"dataframe\">\n",
       "  <thead>\n",
       "    <tr style=\"text-align: right;\">\n",
       "      <th></th>\n",
       "      <th>member_id</th>\n",
       "      <th>admission_date</th>\n",
       "      <th>discharge_date</th>\n",
       "      <th>facility</th>\n",
       "      <th>days</th>\n",
       "    </tr>\n",
       "  </thead>\n",
       "  <tbody>\n",
       "    <tr>\n",
       "      <th>0</th>\n",
       "      <td>100541</td>\n",
       "      <td>2018-12-31</td>\n",
       "      <td>2019-01-09</td>\n",
       "      <td>Rhode Island Hospital</td>\n",
       "      <td>9.0</td>\n",
       "    </tr>\n",
       "    <tr>\n",
       "      <th>1</th>\n",
       "      <td>100811</td>\n",
       "      <td>2018-12-27</td>\n",
       "      <td>2019-01-09</td>\n",
       "      <td>Rhode Island Hospital</td>\n",
       "      <td>13.0</td>\n",
       "    </tr>\n",
       "    <tr>\n",
       "      <th>2</th>\n",
       "      <td>100348</td>\n",
       "      <td>2019-02-06</td>\n",
       "      <td>2019-02-14</td>\n",
       "      <td>Roger Williams Medical Center</td>\n",
       "      <td>8.0</td>\n",
       "    </tr>\n",
       "    <tr>\n",
       "      <th>3</th>\n",
       "      <td>100454</td>\n",
       "      <td>2019-01-15</td>\n",
       "      <td>2019-01-22</td>\n",
       "      <td>Rhode Island Hospital</td>\n",
       "      <td>7.0</td>\n",
       "    </tr>\n",
       "    <tr>\n",
       "      <th>4</th>\n",
       "      <td>100540</td>\n",
       "      <td>2019-01-31</td>\n",
       "      <td>2019-02-14</td>\n",
       "      <td>Rhode Island Hospital</td>\n",
       "      <td>14.0</td>\n",
       "    </tr>\n",
       "  </tbody>\n",
       "</table>\n",
       "</div>"
      ],
      "text/plain": [
       "   member_id admission_date discharge_date                       facility  \\\n",
       "0     100541     2018-12-31     2019-01-09          Rhode Island Hospital   \n",
       "1     100811     2018-12-27     2019-01-09          Rhode Island Hospital   \n",
       "2     100348     2019-02-06     2019-02-14  Roger Williams Medical Center   \n",
       "3     100454     2019-01-15     2019-01-22          Rhode Island Hospital   \n",
       "4     100540     2019-01-31     2019-02-14          Rhode Island Hospital   \n",
       "\n",
       "   days  \n",
       "0   9.0  \n",
       "1  13.0  \n",
       "2   8.0  \n",
       "3   7.0  \n",
       "4  14.0  "
      ]
     },
     "execution_count": 135,
     "metadata": {},
     "output_type": "execute_result"
    }
   ],
   "source": [
    "utilization.days_over_x_df(params=params, x=7, utilization_table=\"acute\").head()"
   ]
  },
  {
   "cell_type": "markdown",
   "metadata": {},
   "source": [
    "### Number of Days for Utilization Type in Period\n",
    "First the days for admissions that occur during the params is calculated. Next the days for admissions occurring before the period are calculated using the start date of the period as the admissions date. The sum of these two values are returned as the total utilization days during a given period."
   ]
  },
  {
   "cell_type": "code",
   "execution_count": 136,
   "metadata": {},
   "outputs": [
    {
     "data": {
      "text/plain": [
       "451.0"
      ]
     },
     "execution_count": 136,
     "metadata": {},
     "output_type": "execute_result"
    }
   ],
   "source": [
    "utilization.utilization_days(params=params, utilization_table=\"acute\")"
   ]
  },
  {
   "cell_type": "markdown",
   "metadata": {},
   "source": [
    "### Days for Utilization Type per 100 Member Months\n",
    "`utilization_days` divided by `member_months`."
   ]
  },
  {
   "cell_type": "code",
   "execution_count": 137,
   "metadata": {},
   "outputs": [
    {
     "data": {
      "text/plain": [
       "48.76"
      ]
     },
     "execution_count": 137,
     "metadata": {},
     "output_type": "execute_result"
    }
   ],
   "source": [
    "utilization.days_per_100MM(params=params, utilization_table=\"acute\")"
   ]
  },
  {
   "cell_type": "markdown",
   "metadata": {},
   "source": [
    "### Admit Reasons by LOS\n",
    "Finds admissions with a discharge_date during the period, orders them by los and then returns the *top_x* number of rows from that query as a pandas dataframe."
   ]
  },
  {
   "cell_type": "code",
   "execution_count": 138,
   "metadata": {},
   "outputs": [
    {
     "data": {
      "text/html": [
       "<div>\n",
       "<style scoped>\n",
       "    .dataframe tbody tr th:only-of-type {\n",
       "        vertical-align: middle;\n",
       "    }\n",
       "\n",
       "    .dataframe tbody tr th {\n",
       "        vertical-align: top;\n",
       "    }\n",
       "\n",
       "    .dataframe thead th {\n",
       "        text-align: right;\n",
       "    }\n",
       "</style>\n",
       "<table border=\"1\" class=\"dataframe\">\n",
       "  <thead>\n",
       "    <tr style=\"text-align: right;\">\n",
       "      <th></th>\n",
       "      <th>admit_reason</th>\n",
       "      <th>los</th>\n",
       "      <th>facility</th>\n",
       "      <th>admission_date</th>\n",
       "      <th>visit_id</th>\n",
       "    </tr>\n",
       "  </thead>\n",
       "  <tbody>\n",
       "    <tr>\n",
       "      <th>0</th>\n",
       "      <td>URI</td>\n",
       "      <td>26</td>\n",
       "      <td>Rhode Island Hospital</td>\n",
       "      <td>2019-02-01</td>\n",
       "      <td>20290770</td>\n",
       "    </tr>\n",
       "    <tr>\n",
       "      <th>1</th>\n",
       "      <td>anemia, GI bleed</td>\n",
       "      <td>15</td>\n",
       "      <td>Kent County Memorial Hospital</td>\n",
       "      <td>2019-01-22</td>\n",
       "      <td>22191105</td>\n",
       "    </tr>\n",
       "    <tr>\n",
       "      <th>2</th>\n",
       "      <td>urosepsis/hypotension</td>\n",
       "      <td>14</td>\n",
       "      <td>Rhode Island Hospital</td>\n",
       "      <td>2019-01-31</td>\n",
       "      <td>20290671</td>\n",
       "    </tr>\n",
       "    <tr>\n",
       "      <th>3</th>\n",
       "      <td>PNA</td>\n",
       "      <td>13</td>\n",
       "      <td>Rhode Island Hospital</td>\n",
       "      <td>2018-12-27</td>\n",
       "      <td>20282038</td>\n",
       "    </tr>\n",
       "    <tr>\n",
       "      <th>4</th>\n",
       "      <td>COPD ex,RSV,PNA</td>\n",
       "      <td>11</td>\n",
       "      <td>The Miriam Hospital</td>\n",
       "      <td>2019-01-16</td>\n",
       "      <td>20290963</td>\n",
       "    </tr>\n",
       "    <tr>\n",
       "      <th>5</th>\n",
       "      <td>aggression and anxiety</td>\n",
       "      <td>10</td>\n",
       "      <td>Rhode Island Hospital</td>\n",
       "      <td>2019-01-20</td>\n",
       "      <td>20290725</td>\n",
       "    </tr>\n",
       "    <tr>\n",
       "      <th>6</th>\n",
       "      <td>AKI/Anemia</td>\n",
       "      <td>9</td>\n",
       "      <td>Rhode Island Hospital</td>\n",
       "      <td>2018-12-31</td>\n",
       "      <td>20281772</td>\n",
       "    </tr>\n",
       "    <tr>\n",
       "      <th>7</th>\n",
       "      <td>influenza, PNA</td>\n",
       "      <td>8</td>\n",
       "      <td>Roger Williams Medical Center</td>\n",
       "      <td>2019-02-06</td>\n",
       "      <td>20290554</td>\n",
       "    </tr>\n",
       "    <tr>\n",
       "      <th>8</th>\n",
       "      <td>FAll/ LOC/Severe Anemia</td>\n",
       "      <td>8</td>\n",
       "      <td>Landmark Medical Center</td>\n",
       "      <td>2019-01-19</td>\n",
       "      <td>22191138</td>\n",
       "    </tr>\n",
       "    <tr>\n",
       "      <th>9</th>\n",
       "      <td>Metapneumovirus</td>\n",
       "      <td>7</td>\n",
       "      <td>Rhode Island Hospital</td>\n",
       "      <td>2019-01-15</td>\n",
       "      <td>20290569</td>\n",
       "    </tr>\n",
       "  </tbody>\n",
       "</table>\n",
       "</div>"
      ],
      "text/plain": [
       "              admit_reason  los                       facility admission_date  \\\n",
       "0                      URI   26          Rhode Island Hospital     2019-02-01   \n",
       "1         anemia, GI bleed   15  Kent County Memorial Hospital     2019-01-22   \n",
       "2    urosepsis/hypotension   14          Rhode Island Hospital     2019-01-31   \n",
       "3                      PNA   13          Rhode Island Hospital     2018-12-27   \n",
       "4          COPD ex,RSV,PNA   11            The Miriam Hospital     2019-01-16   \n",
       "5   aggression and anxiety   10          Rhode Island Hospital     2019-01-20   \n",
       "6               AKI/Anemia    9          Rhode Island Hospital     2018-12-31   \n",
       "7           influenza, PNA    8  Roger Williams Medical Center     2019-02-06   \n",
       "8  FAll/ LOC/Severe Anemia    8        Landmark Medical Center     2019-01-19   \n",
       "9          Metapneumovirus    7          Rhode Island Hospital     2019-01-15   \n",
       "\n",
       "   visit_id  \n",
       "0  20290770  \n",
       "1  22191105  \n",
       "2  20290671  \n",
       "3  20282038  \n",
       "4  20290963  \n",
       "5  20290725  \n",
       "6  20281772  \n",
       "7  20290554  \n",
       "8  22191138  \n",
       "9  20290569  "
      ]
     },
     "execution_count": 138,
     "metadata": {},
     "output_type": "execute_result"
    }
   ],
   "source": [
    "utilization.top_admit_reason_by_los(params=params, top_x=10)"
   ]
  },
  {
   "cell_type": "markdown",
   "metadata": {},
   "source": [
    "### Top 10 ER Users\n",
    "Counts the numbers of visits with an admission_date during the period grouped by participants and returns the top 10 rows as a pandas dataframe."
   ]
  },
  {
   "cell_type": "code",
   "execution_count": 139,
   "metadata": {},
   "outputs": [
    {
     "data": {
      "text/html": [
       "<div>\n",
       "<style scoped>\n",
       "    .dataframe tbody tr th:only-of-type {\n",
       "        vertical-align: middle;\n",
       "    }\n",
       "\n",
       "    .dataframe tbody tr th {\n",
       "        vertical-align: top;\n",
       "    }\n",
       "\n",
       "    .dataframe thead th {\n",
       "        text-align: right;\n",
       "    }\n",
       "</style>\n",
       "<table border=\"1\" class=\"dataframe\">\n",
       "  <thead>\n",
       "    <tr style=\"text-align: right;\">\n",
       "      <th></th>\n",
       "      <th>member_id</th>\n",
       "      <th>last</th>\n",
       "      <th>first</th>\n",
       "      <th>visits</th>\n",
       "    </tr>\n",
       "  </thead>\n",
       "  <tbody>\n",
       "    <tr>\n",
       "      <th>0</th>\n",
       "      <td>2001012</td>\n",
       "      <td>Alvarez</td>\n",
       "      <td>Raquel</td>\n",
       "      <td>6</td>\n",
       "    </tr>\n",
       "    <tr>\n",
       "      <th>1</th>\n",
       "      <td>100814</td>\n",
       "      <td>Pasela</td>\n",
       "      <td>John</td>\n",
       "      <td>3</td>\n",
       "    </tr>\n",
       "    <tr>\n",
       "      <th>2</th>\n",
       "      <td>2001025</td>\n",
       "      <td>Poole</td>\n",
       "      <td>Chester</td>\n",
       "      <td>2</td>\n",
       "    </tr>\n",
       "    <tr>\n",
       "      <th>3</th>\n",
       "      <td>1000851</td>\n",
       "      <td>McGowan</td>\n",
       "      <td>Charles</td>\n",
       "      <td>2</td>\n",
       "    </tr>\n",
       "    <tr>\n",
       "      <th>4</th>\n",
       "      <td>1000824</td>\n",
       "      <td>Barclay</td>\n",
       "      <td>Elizabeth</td>\n",
       "      <td>2</td>\n",
       "    </tr>\n",
       "    <tr>\n",
       "      <th>5</th>\n",
       "      <td>100701</td>\n",
       "      <td>Gonsalez</td>\n",
       "      <td>Efrain</td>\n",
       "      <td>2</td>\n",
       "    </tr>\n",
       "    <tr>\n",
       "      <th>6</th>\n",
       "      <td>2001045</td>\n",
       "      <td>Vargas</td>\n",
       "      <td>Marcelino</td>\n",
       "      <td>1</td>\n",
       "    </tr>\n",
       "    <tr>\n",
       "      <th>7</th>\n",
       "      <td>2001020</td>\n",
       "      <td>Horton</td>\n",
       "      <td>Walter</td>\n",
       "      <td>1</td>\n",
       "    </tr>\n",
       "    <tr>\n",
       "      <th>8</th>\n",
       "      <td>2001018</td>\n",
       "      <td>Moisan</td>\n",
       "      <td>Rose</td>\n",
       "      <td>1</td>\n",
       "    </tr>\n",
       "    <tr>\n",
       "      <th>9</th>\n",
       "      <td>2000972</td>\n",
       "      <td>Flores</td>\n",
       "      <td>Marie</td>\n",
       "      <td>1</td>\n",
       "    </tr>\n",
       "  </tbody>\n",
       "</table>\n",
       "</div>"
      ],
      "text/plain": [
       "   member_id      last       first  visits\n",
       "0    2001012   Alvarez      Raquel       6\n",
       "1     100814    Pasela        John       3\n",
       "2    2001025     Poole     Chester       2\n",
       "3    1000851   McGowan     Charles       2\n",
       "4    1000824   Barclay   Elizabeth       2\n",
       "5     100701  Gonsalez      Efrain       2\n",
       "6    2001045    Vargas   Marcelino       1\n",
       "7    2001020    Horton      Walter       1\n",
       "8    2001018    Moisan        Rose       1\n",
       "9    2000972    Flores       Marie       1"
      ]
     },
     "execution_count": 139,
     "metadata": {},
     "output_type": "execute_result"
    }
   ],
   "source": [
    "utilization.top_10_er_users(params=params)"
   ]
  },
  {
   "cell_type": "markdown",
   "metadata": {},
   "source": [
    "### 30 Day Readmission DataFrame\n",
    "Returns a pandas dataframe of any admissions with an admission_date during the period and a day_since_last_admission value less than or equal to 30."
   ]
  },
  {
   "cell_type": "code",
   "execution_count": 140,
   "metadata": {},
   "outputs": [
    {
     "data": {
      "text/html": [
       "<div>\n",
       "<style scoped>\n",
       "    .dataframe tbody tr th:only-of-type {\n",
       "        vertical-align: middle;\n",
       "    }\n",
       "\n",
       "    .dataframe tbody tr th {\n",
       "        vertical-align: top;\n",
       "    }\n",
       "\n",
       "    .dataframe thead th {\n",
       "        text-align: right;\n",
       "    }\n",
       "</style>\n",
       "<table border=\"1\" class=\"dataframe\">\n",
       "  <thead>\n",
       "    <tr style=\"text-align: right;\">\n",
       "      <th></th>\n",
       "      <th>member_id</th>\n",
       "      <th>admission_date</th>\n",
       "      <th>discharge_date</th>\n",
       "      <th>los</th>\n",
       "      <th>facility</th>\n",
       "      <th>discharge_disposition</th>\n",
       "      <th>admission_scheduled</th>\n",
       "      <th>admit_reason</th>\n",
       "      <th>diagnosis</th>\n",
       "      <th>readmit</th>\n",
       "      <th>admission_type</th>\n",
       "      <th>w_six_months</th>\n",
       "      <th>dow</th>\n",
       "      <th>er</th>\n",
       "      <th>days_since_last_admission</th>\n",
       "      <th>visit_id</th>\n",
       "    </tr>\n",
       "  </thead>\n",
       "  <tbody>\n",
       "    <tr>\n",
       "      <th>0</th>\n",
       "      <td>100303</td>\n",
       "      <td>2019-01-25</td>\n",
       "      <td>2019-01-27</td>\n",
       "      <td>2</td>\n",
       "      <td>Rhode Island Hospital</td>\n",
       "      <td>Home with home health nursing or rehabilitation</td>\n",
       "      <td>Emergent Unscheduled</td>\n",
       "      <td>FLU</td>\n",
       "      <td>None</td>\n",
       "      <td>No</td>\n",
       "      <td>Acute Hospital</td>\n",
       "      <td>0</td>\n",
       "      <td>Friday</td>\n",
       "      <td>1</td>\n",
       "      <td>30.0</td>\n",
       "      <td>20290428</td>\n",
       "    </tr>\n",
       "    <tr>\n",
       "      <th>1</th>\n",
       "      <td>100395</td>\n",
       "      <td>2019-01-08</td>\n",
       "      <td>2019-01-10</td>\n",
       "      <td>2</td>\n",
       "      <td>Landmark Medical Center</td>\n",
       "      <td>Home with home health nursing or rehabilitation</td>\n",
       "      <td>Emergent Unscheduled</td>\n",
       "      <td>COPD Exacerbation</td>\n",
       "      <td>None</td>\n",
       "      <td>Yes</td>\n",
       "      <td>Acute Hospital</td>\n",
       "      <td>0</td>\n",
       "      <td>Tuesday</td>\n",
       "      <td>1</td>\n",
       "      <td>11.0</td>\n",
       "      <td>20290503</td>\n",
       "    </tr>\n",
       "    <tr>\n",
       "      <th>2</th>\n",
       "      <td>100395</td>\n",
       "      <td>2019-01-12</td>\n",
       "      <td>2019-01-17</td>\n",
       "      <td>5</td>\n",
       "      <td>Landmark Medical Center</td>\n",
       "      <td>Nursing home or rehabilitation facility</td>\n",
       "      <td>None</td>\n",
       "      <td>None</td>\n",
       "      <td>None</td>\n",
       "      <td>Yes</td>\n",
       "      <td>Acute Hospital</td>\n",
       "      <td>0</td>\n",
       "      <td>Saturday</td>\n",
       "      <td>1</td>\n",
       "      <td>2.0</td>\n",
       "      <td>20290507</td>\n",
       "    </tr>\n",
       "    <tr>\n",
       "      <th>3</th>\n",
       "      <td>100454</td>\n",
       "      <td>2019-01-15</td>\n",
       "      <td>2019-01-22</td>\n",
       "      <td>7</td>\n",
       "      <td>Rhode Island Hospital</td>\n",
       "      <td>Nursing home or rehabilitation facility</td>\n",
       "      <td>Emergent Unscheduled</td>\n",
       "      <td>Metapneumovirus</td>\n",
       "      <td>None</td>\n",
       "      <td>No</td>\n",
       "      <td>Acute Hospital</td>\n",
       "      <td>0</td>\n",
       "      <td>Tuesday</td>\n",
       "      <td>1</td>\n",
       "      <td>29.0</td>\n",
       "      <td>20290569</td>\n",
       "    </tr>\n",
       "    <tr>\n",
       "      <th>4</th>\n",
       "      <td>100454</td>\n",
       "      <td>2019-02-13</td>\n",
       "      <td>2019-02-15</td>\n",
       "      <td>2</td>\n",
       "      <td>Rhode Island Hospital</td>\n",
       "      <td>Assisted Living Facility</td>\n",
       "      <td>Emergent Unscheduled</td>\n",
       "      <td>chest pain</td>\n",
       "      <td>None</td>\n",
       "      <td>Yes</td>\n",
       "      <td>Acute Hospital</td>\n",
       "      <td>0</td>\n",
       "      <td>Wednesday</td>\n",
       "      <td>1</td>\n",
       "      <td>22.0</td>\n",
       "      <td>20290667</td>\n",
       "    </tr>\n",
       "  </tbody>\n",
       "</table>\n",
       "</div>"
      ],
      "text/plain": [
       "   member_id admission_date discharge_date  los                 facility  \\\n",
       "0     100303     2019-01-25     2019-01-27    2    Rhode Island Hospital   \n",
       "1     100395     2019-01-08     2019-01-10    2  Landmark Medical Center   \n",
       "2     100395     2019-01-12     2019-01-17    5  Landmark Medical Center   \n",
       "3     100454     2019-01-15     2019-01-22    7    Rhode Island Hospital   \n",
       "4     100454     2019-02-13     2019-02-15    2    Rhode Island Hospital   \n",
       "\n",
       "                             discharge_disposition   admission_scheduled  \\\n",
       "0  Home with home health nursing or rehabilitation  Emergent Unscheduled   \n",
       "1  Home with home health nursing or rehabilitation  Emergent Unscheduled   \n",
       "2          Nursing home or rehabilitation facility                  None   \n",
       "3          Nursing home or rehabilitation facility  Emergent Unscheduled   \n",
       "4                         Assisted Living Facility  Emergent Unscheduled   \n",
       "\n",
       "        admit_reason diagnosis readmit  admission_type  w_six_months  \\\n",
       "0                FLU      None      No  Acute Hospital             0   \n",
       "1  COPD Exacerbation      None     Yes  Acute Hospital             0   \n",
       "2               None      None     Yes  Acute Hospital             0   \n",
       "3    Metapneumovirus      None      No  Acute Hospital             0   \n",
       "4         chest pain      None     Yes  Acute Hospital             0   \n",
       "\n",
       "         dow  er  days_since_last_admission  visit_id  \n",
       "0     Friday   1                       30.0  20290428  \n",
       "1    Tuesday   1                       11.0  20290503  \n",
       "2   Saturday   1                        2.0  20290507  \n",
       "3    Tuesday   1                       29.0  20290569  \n",
       "4  Wednesday   1                       22.0  20290667  "
      ]
     },
     "execution_count": 140,
     "metadata": {},
     "output_type": "execute_result"
    }
   ],
   "source": [
    "utilization.admissions_30day_readmit_df(params=params, utilization_table=\"acute\").head()"
   ]
  },
  {
   "cell_type": "markdown",
   "metadata": {},
   "source": [
    "### Admissions Resulting in a 30 Day Readmit DataFrame\n",
    "Finds the admission prior to any admissions in the `acute_admissions_30day_readmit_df`. Returns these admissions as a pandas dataframe."
   ]
  },
  {
   "cell_type": "code",
   "execution_count": 141,
   "metadata": {},
   "outputs": [
    {
     "data": {
      "text/html": [
       "<div>\n",
       "<style scoped>\n",
       "    .dataframe tbody tr th:only-of-type {\n",
       "        vertical-align: middle;\n",
       "    }\n",
       "\n",
       "    .dataframe tbody tr th {\n",
       "        vertical-align: top;\n",
       "    }\n",
       "\n",
       "    .dataframe thead th {\n",
       "        text-align: right;\n",
       "    }\n",
       "</style>\n",
       "<table border=\"1\" class=\"dataframe\">\n",
       "  <thead>\n",
       "    <tr style=\"text-align: right;\">\n",
       "      <th></th>\n",
       "      <th>member_id</th>\n",
       "      <th>admission_date</th>\n",
       "      <th>discharge_date</th>\n",
       "      <th>facility</th>\n",
       "      <th>los</th>\n",
       "      <th>admit_reason</th>\n",
       "    </tr>\n",
       "  </thead>\n",
       "  <tbody>\n",
       "    <tr>\n",
       "      <th>0</th>\n",
       "      <td>100303</td>\n",
       "      <td>2018-12-21</td>\n",
       "      <td>2018-12-26</td>\n",
       "      <td>The Miriam Hospital</td>\n",
       "      <td>5</td>\n",
       "      <td>CHF exac</td>\n",
       "    </tr>\n",
       "    <tr>\n",
       "      <th>0</th>\n",
       "      <td>100395</td>\n",
       "      <td>2018-12-27</td>\n",
       "      <td>2018-12-28</td>\n",
       "      <td>Landmark Medical Center</td>\n",
       "      <td>1</td>\n",
       "      <td>None</td>\n",
       "    </tr>\n",
       "    <tr>\n",
       "      <th>0</th>\n",
       "      <td>100395</td>\n",
       "      <td>2019-01-08</td>\n",
       "      <td>2019-01-10</td>\n",
       "      <td>Landmark Medical Center</td>\n",
       "      <td>2</td>\n",
       "      <td>COPD Exacerbation</td>\n",
       "    </tr>\n",
       "    <tr>\n",
       "      <th>0</th>\n",
       "      <td>100454</td>\n",
       "      <td>2018-12-07</td>\n",
       "      <td>2018-12-17</td>\n",
       "      <td>Rhode Island Hospital</td>\n",
       "      <td>10</td>\n",
       "      <td>multifocal pna &amp; supratherapeutic INR</td>\n",
       "    </tr>\n",
       "    <tr>\n",
       "      <th>0</th>\n",
       "      <td>100454</td>\n",
       "      <td>2019-01-15</td>\n",
       "      <td>2019-01-22</td>\n",
       "      <td>Rhode Island Hospital</td>\n",
       "      <td>7</td>\n",
       "      <td>Metapneumovirus</td>\n",
       "    </tr>\n",
       "  </tbody>\n",
       "</table>\n",
       "</div>"
      ],
      "text/plain": [
       "  member_id admission_date discharge_date                 facility los  \\\n",
       "0    100303     2018-12-21     2018-12-26      The Miriam Hospital   5   \n",
       "0    100395     2018-12-27     2018-12-28  Landmark Medical Center   1   \n",
       "0    100395     2019-01-08     2019-01-10  Landmark Medical Center   2   \n",
       "0    100454     2018-12-07     2018-12-17    Rhode Island Hospital  10   \n",
       "0    100454     2019-01-15     2019-01-22    Rhode Island Hospital   7   \n",
       "\n",
       "                            admit_reason  \n",
       "0                               CHF exac  \n",
       "0                                   None  \n",
       "0                      COPD Exacerbation  \n",
       "0  multifocal pna & supratherapeutic INR  \n",
       "0                        Metapneumovirus  "
      ]
     },
     "execution_count": 141,
     "metadata": {},
     "output_type": "execute_result"
    }
   ],
   "source": [
    "utilization.admissions_resulting_in_30day_df(params=params, utilization_table=\"acute\").head()"
   ]
  },
  {
   "cell_type": "markdown",
   "metadata": {},
   "source": [
    "### Unique Ppts with an Admission (Acute/Psych/Nursing Home/Custodial/Respite/Skilled)\n",
    "Returns a count of the distinct ppts with an admission during the period."
   ]
  },
  {
   "cell_type": "code",
   "execution_count": 142,
   "metadata": {},
   "outputs": [
    {
     "data": {
      "text/plain": [
       "65"
      ]
     },
     "execution_count": 142,
     "metadata": {},
     "output_type": "execute_result"
    }
   ],
   "source": [
    "utilization.unique_admissions_count(params=params, utilization_table=\"acute\")"
   ]
  },
  {
   "cell_type": "markdown",
   "metadata": {},
   "source": [
    "### Number of Weekend Admissions\n",
    "Returns a count of the admissions during the period with a dow value of 'Saturday' or 'Sunday'"
   ]
  },
  {
   "cell_type": "code",
   "execution_count": 143,
   "metadata": {},
   "outputs": [
    {
     "data": {
      "text/plain": [
       "16"
      ]
     },
     "execution_count": 143,
     "metadata": {},
     "output_type": "execute_result"
    }
   ],
   "source": [
    "utilization.weekend_admissions_count(params=params, utilization_table=\"acute\")"
   ]
  },
  {
   "cell_type": "markdown",
   "metadata": {},
   "source": [
    "### Percent of Admissions that Occur on the Weekend\n",
    "`weekend_admissions_count` divided by `admissions_count` multiplied by 100."
   ]
  },
  {
   "cell_type": "code",
   "execution_count": 144,
   "metadata": {},
   "outputs": [
    {
     "data": {
      "text/plain": [
       "18.18"
      ]
     },
     "execution_count": 144,
     "metadata": {},
     "output_type": "execute_result"
    }
   ],
   "source": [
    "utilization.weekend_admission_percent(params=params, utilization_table=\"acute\")"
   ]
  },
  {
   "cell_type": "markdown",
   "metadata": {},
   "source": [
    "### Admissions per 100 Member Months\n",
    "Sum of the count of admissions with an admission_date during the period divided by the sum of the first of the month census for each month during the period multiplied by 100."
   ]
  },
  {
   "cell_type": "code",
   "execution_count": 145,
   "metadata": {},
   "outputs": [
    {
     "data": {
      "text/plain": [
       "9.51"
      ]
     },
     "execution_count": 145,
     "metadata": {},
     "output_type": "execute_result"
    }
   ],
   "source": [
    "utilization.admissions_per_100MM(params=params, utilization_table=\"acute\")"
   ]
  },
  {
   "cell_type": "markdown",
   "metadata": {},
   "source": [
    "### Number of Nursing Facility Discharges to Custodial or Acute Hospital \n",
    "Finds all nursing_home admissions or discharges during the period. Merges any discharges that have a disposition of \"Nursing home or rehabilitation facility\" with all nursing_home admissions on the discharge_date matching the admission_date. Filter to only include those discharges with a non-null admission_date and a new admit_reason of \"custodial\" where a previous admit_reason was not custodial and count the discharges in this filtered group.\n",
    "\n",
    "It then sums up any discharges to \"Acute care hospital or psychiatric facility\".\n",
    "\n",
    "These two values are added together and returned. "
   ]
  },
  {
   "cell_type": "code",
   "execution_count": 146,
   "metadata": {},
   "outputs": [
    {
     "data": {
      "text/plain": [
       "33"
      ]
     },
     "execution_count": 146,
     "metadata": {},
     "output_type": "execute_result"
    }
   ],
   "source": [
    "utilization.nf_discharged_to_higher_loc(params=params)"
   ]
  },
  {
   "cell_type": "markdown",
   "metadata": {},
   "source": [
    "### Percent of Nursing Facility Discharges that are to Custodial or Acute Hospital\n",
    "`nf_discharged_to_higher_loc` divided by `discharges_count` for the nursing_home table multiplied by 100."
   ]
  },
  {
   "cell_type": "code",
   "execution_count": 147,
   "metadata": {},
   "outputs": [
    {
     "data": {
      "text/plain": [
       "51.56"
      ]
     },
     "execution_count": 147,
     "metadata": {},
     "output_type": "execute_result"
    }
   ],
   "source": [
    "utilization.percent_nf_discharged_to_higher_loc(params=params)"
   ]
  },
  {
   "cell_type": "markdown",
   "metadata": {},
   "source": [
    "## Quality"
   ]
  },
  {
   "cell_type": "code",
   "execution_count": 148,
   "metadata": {},
   "outputs": [],
   "source": [
    "quality = pu.Quality()"
   ]
  },
  {
   "cell_type": "markdown",
   "metadata": {},
   "source": [
    "### Ppts Who Need Pneumococcal 23 Vaccination DataFrame\n",
    "Finds any ppts over 65 and enrolled during the period who does not have a record of receiving Pneumococcal 23. Returns a pandas dataframe of these ppts."
   ]
  },
  {
   "cell_type": "code",
   "execution_count": 149,
   "metadata": {},
   "outputs": [
    {
     "data": {
      "text/plain": [
       "Index(['member_id', 'last', 'first'], dtype='object')"
      ]
     },
     "execution_count": 149,
     "metadata": {},
     "output_type": "execute_result"
    }
   ],
   "source": [
    "quality.dataframe_query(\"SELECT * FROM ppts\").columns"
   ]
  },
  {
   "cell_type": "code",
   "execution_count": 150,
   "metadata": {},
   "outputs": [
    {
     "data": {
      "text/html": [
       "<div>\n",
       "<style scoped>\n",
       "    .dataframe tbody tr th:only-of-type {\n",
       "        vertical-align: middle;\n",
       "    }\n",
       "\n",
       "    .dataframe tbody tr th {\n",
       "        vertical-align: top;\n",
       "    }\n",
       "\n",
       "    .dataframe thead th {\n",
       "        text-align: right;\n",
       "    }\n",
       "</style>\n",
       "<table border=\"1\" class=\"dataframe\">\n",
       "  <thead>\n",
       "    <tr style=\"text-align: right;\">\n",
       "      <th></th>\n",
       "      <th>member_id</th>\n",
       "      <th>last</th>\n",
       "      <th>first</th>\n",
       "      <th>team</th>\n",
       "      <th>enrollment_date</th>\n",
       "      <th>age</th>\n",
       "    </tr>\n",
       "  </thead>\n",
       "  <tbody>\n",
       "    <tr>\n",
       "      <th>0</th>\n",
       "      <td>100250</td>\n",
       "      <td>Charron</td>\n",
       "      <td>Roger</td>\n",
       "      <td>South</td>\n",
       "      <td>2008-04-01</td>\n",
       "      <td>70.872005</td>\n",
       "    </tr>\n",
       "    <tr>\n",
       "      <th>1</th>\n",
       "      <td>100303</td>\n",
       "      <td>Simmonds</td>\n",
       "      <td>Alejandro</td>\n",
       "      <td>East</td>\n",
       "      <td>2008-11-01</td>\n",
       "      <td>82.910335</td>\n",
       "    </tr>\n",
       "    <tr>\n",
       "      <th>2</th>\n",
       "      <td>100307</td>\n",
       "      <td>Cabral</td>\n",
       "      <td>Maria</td>\n",
       "      <td>East</td>\n",
       "      <td>2008-10-01</td>\n",
       "      <td>73.149897</td>\n",
       "    </tr>\n",
       "    <tr>\n",
       "      <th>3</th>\n",
       "      <td>100434</td>\n",
       "      <td>Stanhope</td>\n",
       "      <td>Marilynn</td>\n",
       "      <td>South</td>\n",
       "      <td>2010-08-01</td>\n",
       "      <td>75.345654</td>\n",
       "    </tr>\n",
       "    <tr>\n",
       "      <th>4</th>\n",
       "      <td>100481</td>\n",
       "      <td>Sical</td>\n",
       "      <td>Zoila</td>\n",
       "      <td>Central</td>\n",
       "      <td>2011-06-01</td>\n",
       "      <td>79.441478</td>\n",
       "    </tr>\n",
       "  </tbody>\n",
       "</table>\n",
       "</div>"
      ],
      "text/plain": [
       "   member_id      last       first     team enrollment_date        age\n",
       "0     100250   Charron       Roger    South      2008-04-01  70.872005\n",
       "1     100303  Simmonds   Alejandro     East      2008-11-01  82.910335\n",
       "2     100307    Cabral       Maria     East      2008-10-01  73.149897\n",
       "3     100434  Stanhope    Marilynn    South      2010-08-01  75.345654\n",
       "4     100481     Sical       Zoila  Central      2011-06-01  79.441478"
      ]
     },
     "execution_count": 150,
     "metadata": {},
     "output_type": "execute_result"
    }
   ],
   "source": [
    "quality.need_pneumo_23_df(params=params).head()"
   ]
  },
  {
   "cell_type": "markdown",
   "metadata": {},
   "source": [
    "### Ppts Who Need PCV 13 Vaccination DataFrame\n",
    "Find any ppts over 65 and enrolled during the period who does not have a record of receiving PCV 13. Returns a pandas dataframe of these ppts."
   ]
  },
  {
   "cell_type": "code",
   "execution_count": 151,
   "metadata": {},
   "outputs": [
    {
     "data": {
      "text/html": [
       "<div>\n",
       "<style scoped>\n",
       "    .dataframe tbody tr th:only-of-type {\n",
       "        vertical-align: middle;\n",
       "    }\n",
       "\n",
       "    .dataframe tbody tr th {\n",
       "        vertical-align: top;\n",
       "    }\n",
       "\n",
       "    .dataframe thead th {\n",
       "        text-align: right;\n",
       "    }\n",
       "</style>\n",
       "<table border=\"1\" class=\"dataframe\">\n",
       "  <thead>\n",
       "    <tr style=\"text-align: right;\">\n",
       "      <th></th>\n",
       "      <th>member_id</th>\n",
       "      <th>last</th>\n",
       "      <th>first</th>\n",
       "      <th>team</th>\n",
       "      <th>enrollment_date</th>\n",
       "      <th>age</th>\n",
       "    </tr>\n",
       "  </thead>\n",
       "  <tbody>\n",
       "    <tr>\n",
       "      <th>0</th>\n",
       "      <td>100113</td>\n",
       "      <td>Ricci</td>\n",
       "      <td>Mary</td>\n",
       "      <td>North</td>\n",
       "      <td>2006-03-01</td>\n",
       "      <td>93.837098</td>\n",
       "    </tr>\n",
       "    <tr>\n",
       "      <th>1</th>\n",
       "      <td>100202</td>\n",
       "      <td>Allen</td>\n",
       "      <td>Janet</td>\n",
       "      <td>North</td>\n",
       "      <td>2007-05-01</td>\n",
       "      <td>85.371663</td>\n",
       "    </tr>\n",
       "    <tr>\n",
       "      <th>2</th>\n",
       "      <td>100232</td>\n",
       "      <td>Markarian</td>\n",
       "      <td>Azniv</td>\n",
       "      <td>East</td>\n",
       "      <td>2007-11-01</td>\n",
       "      <td>91.403149</td>\n",
       "    </tr>\n",
       "    <tr>\n",
       "      <th>3</th>\n",
       "      <td>100247</td>\n",
       "      <td>Segerson</td>\n",
       "      <td>Anne</td>\n",
       "      <td>South</td>\n",
       "      <td>2008-03-01</td>\n",
       "      <td>67.216975</td>\n",
       "    </tr>\n",
       "    <tr>\n",
       "      <th>4</th>\n",
       "      <td>100250</td>\n",
       "      <td>Charron</td>\n",
       "      <td>Roger</td>\n",
       "      <td>South</td>\n",
       "      <td>2008-04-01</td>\n",
       "      <td>70.872005</td>\n",
       "    </tr>\n",
       "  </tbody>\n",
       "</table>\n",
       "</div>"
      ],
      "text/plain": [
       "   member_id       last   first   team enrollment_date        age\n",
       "0     100113      Ricci    Mary  North      2006-03-01  93.837098\n",
       "1     100202      Allen   Janet  North      2007-05-01  85.371663\n",
       "2     100232  Markarian   Azniv   East      2007-11-01  91.403149\n",
       "3     100247   Segerson    Anne  South      2008-03-01  67.216975\n",
       "4     100250    Charron   Roger  South      2008-04-01  70.872005"
      ]
     },
     "execution_count": 151,
     "metadata": {},
     "output_type": "execute_result"
    }
   ],
   "source": [
    "quality.need_pcv_13_df(params=params).head()"
   ]
  },
  {
   "cell_type": "markdown",
   "metadata": {},
   "source": [
    "### Ppts Who Need ONLY Pneumococcal 23 Vaccination DataFrame\n",
    "\n",
    "Finds any ppts over 65 and enrolled during the period who does not have a record of receiving Pneumococcal 23 and has a record of receiving PCV 13. Returns a pandas dataframe of these ppts."
   ]
  },
  {
   "cell_type": "code",
   "execution_count": 152,
   "metadata": {},
   "outputs": [
    {
     "data": {
      "text/html": [
       "<div>\n",
       "<style scoped>\n",
       "    .dataframe tbody tr th:only-of-type {\n",
       "        vertical-align: middle;\n",
       "    }\n",
       "\n",
       "    .dataframe tbody tr th {\n",
       "        vertical-align: top;\n",
       "    }\n",
       "\n",
       "    .dataframe thead th {\n",
       "        text-align: right;\n",
       "    }\n",
       "</style>\n",
       "<table border=\"1\" class=\"dataframe\">\n",
       "  <thead>\n",
       "    <tr style=\"text-align: right;\">\n",
       "      <th></th>\n",
       "      <th>member_id</th>\n",
       "      <th>last</th>\n",
       "      <th>first</th>\n",
       "      <th>team</th>\n",
       "      <th>enrollment_date</th>\n",
       "      <th>age</th>\n",
       "    </tr>\n",
       "  </thead>\n",
       "  <tbody>\n",
       "    <tr>\n",
       "      <th>0</th>\n",
       "      <td>100303</td>\n",
       "      <td>Simmonds</td>\n",
       "      <td>Alejandro</td>\n",
       "      <td>East</td>\n",
       "      <td>2008-11-01</td>\n",
       "      <td>82.910335</td>\n",
       "    </tr>\n",
       "    <tr>\n",
       "      <th>1</th>\n",
       "      <td>100756</td>\n",
       "      <td>Stephens</td>\n",
       "      <td>Martha</td>\n",
       "      <td>Central</td>\n",
       "      <td>2015-05-01</td>\n",
       "      <td>79.329227</td>\n",
       "    </tr>\n",
       "    <tr>\n",
       "      <th>2</th>\n",
       "      <td>100756</td>\n",
       "      <td>Stephens</td>\n",
       "      <td>Martha</td>\n",
       "      <td>Central</td>\n",
       "      <td>2015-05-01</td>\n",
       "      <td>79.329227</td>\n",
       "    </tr>\n",
       "    <tr>\n",
       "      <th>3</th>\n",
       "      <td>100804</td>\n",
       "      <td>Houle</td>\n",
       "      <td>Normand</td>\n",
       "      <td>North</td>\n",
       "      <td>2016-04-01</td>\n",
       "      <td>87.137577</td>\n",
       "    </tr>\n",
       "    <tr>\n",
       "      <th>4</th>\n",
       "      <td>1000850</td>\n",
       "      <td>Sommerville</td>\n",
       "      <td>Raymond</td>\n",
       "      <td>East</td>\n",
       "      <td>2017-10-01</td>\n",
       "      <td>77.749487</td>\n",
       "    </tr>\n",
       "  </tbody>\n",
       "</table>\n",
       "</div>"
      ],
      "text/plain": [
       "   member_id         last       first     team enrollment_date        age\n",
       "0     100303     Simmonds   Alejandro     East      2008-11-01  82.910335\n",
       "1     100756     Stephens      Martha  Central      2015-05-01  79.329227\n",
       "2     100756     Stephens      Martha  Central      2015-05-01  79.329227\n",
       "3     100804        Houle     Normand    North      2016-04-01  87.137577\n",
       "4    1000850  Sommerville     Raymond     East      2017-10-01  77.749487"
      ]
     },
     "execution_count": 152,
     "metadata": {},
     "output_type": "execute_result"
    }
   ],
   "source": [
    "quality.need_pneumo_23_only_df(params=params).head()"
   ]
  },
  {
   "cell_type": "markdown",
   "metadata": {},
   "source": [
    "### Ppts Who Need ONLY PCV 13 Vaccination DataFrame\n",
    "Finds any ppts over 65 and enrolled during the period who does not have a record of receiving PCV 13 and has a record of receiving Pneumococcal 23. Returns a pandas dataframe of these ppts."
   ]
  },
  {
   "cell_type": "code",
   "execution_count": 153,
   "metadata": {},
   "outputs": [
    {
     "data": {
      "text/html": [
       "<div>\n",
       "<style scoped>\n",
       "    .dataframe tbody tr th:only-of-type {\n",
       "        vertical-align: middle;\n",
       "    }\n",
       "\n",
       "    .dataframe tbody tr th {\n",
       "        vertical-align: top;\n",
       "    }\n",
       "\n",
       "    .dataframe thead th {\n",
       "        text-align: right;\n",
       "    }\n",
       "</style>\n",
       "<table border=\"1\" class=\"dataframe\">\n",
       "  <thead>\n",
       "    <tr style=\"text-align: right;\">\n",
       "      <th></th>\n",
       "      <th>member_id</th>\n",
       "      <th>last</th>\n",
       "      <th>first</th>\n",
       "      <th>team</th>\n",
       "      <th>enrollment_date</th>\n",
       "      <th>age</th>\n",
       "    </tr>\n",
       "  </thead>\n",
       "  <tbody>\n",
       "    <tr>\n",
       "      <th>0</th>\n",
       "      <td>100113</td>\n",
       "      <td>Ricci</td>\n",
       "      <td>Mary</td>\n",
       "      <td>North</td>\n",
       "      <td>2006-03-01</td>\n",
       "      <td>93.837098</td>\n",
       "    </tr>\n",
       "    <tr>\n",
       "      <th>1</th>\n",
       "      <td>100131</td>\n",
       "      <td>Killeen</td>\n",
       "      <td>Linda</td>\n",
       "      <td>North</td>\n",
       "      <td>2006-06-01</td>\n",
       "      <td>70.379192</td>\n",
       "    </tr>\n",
       "    <tr>\n",
       "      <th>2</th>\n",
       "      <td>100131</td>\n",
       "      <td>Killeen</td>\n",
       "      <td>Linda</td>\n",
       "      <td>West</td>\n",
       "      <td>2006-06-01</td>\n",
       "      <td>70.379192</td>\n",
       "    </tr>\n",
       "    <tr>\n",
       "      <th>3</th>\n",
       "      <td>100141</td>\n",
       "      <td>Krong</td>\n",
       "      <td>Sida</td>\n",
       "      <td>East</td>\n",
       "      <td>2006-07-01</td>\n",
       "      <td>80.826831</td>\n",
       "    </tr>\n",
       "    <tr>\n",
       "      <th>4</th>\n",
       "      <td>100141</td>\n",
       "      <td>Krong</td>\n",
       "      <td>Sida</td>\n",
       "      <td>West</td>\n",
       "      <td>2006-07-01</td>\n",
       "      <td>80.826831</td>\n",
       "    </tr>\n",
       "  </tbody>\n",
       "</table>\n",
       "</div>"
      ],
      "text/plain": [
       "   member_id     last   first   team enrollment_date        age\n",
       "0     100113    Ricci    Mary  North      2006-03-01  93.837098\n",
       "1     100131  Killeen   Linda  North      2006-06-01  70.379192\n",
       "2     100131  Killeen   Linda   West      2006-06-01  70.379192\n",
       "3     100141    Krong    Sida   East      2006-07-01  80.826831\n",
       "4     100141    Krong    Sida   West      2006-07-01  80.826831"
      ]
     },
     "execution_count": 153,
     "metadata": {},
     "output_type": "execute_result"
    }
   ],
   "source": [
    "quality.need_pcv_13_only_df(params=params).head()"
   ]
  },
  {
   "cell_type": "markdown",
   "metadata": {},
   "source": [
    "### Ppts Who Need BOTH Pneumococcal 23 & PCV 13 Vaccination DataFrame\n",
    "\n",
    "Returns ppts who do not have either PCV 13 or Pneumococcal 23. If include_refused is True, will include participants who have previously refused the vaccination as still needing it, otherwise they are removed."
   ]
  },
  {
   "cell_type": "code",
   "execution_count": 154,
   "metadata": {},
   "outputs": [
    {
     "data": {
      "text/html": [
       "<div>\n",
       "<style scoped>\n",
       "    .dataframe tbody tr th:only-of-type {\n",
       "        vertical-align: middle;\n",
       "    }\n",
       "\n",
       "    .dataframe tbody tr th {\n",
       "        vertical-align: top;\n",
       "    }\n",
       "\n",
       "    .dataframe thead th {\n",
       "        text-align: right;\n",
       "    }\n",
       "</style>\n",
       "<table border=\"1\" class=\"dataframe\">\n",
       "  <thead>\n",
       "    <tr style=\"text-align: right;\">\n",
       "      <th></th>\n",
       "      <th>member_id</th>\n",
       "      <th>last</th>\n",
       "      <th>first</th>\n",
       "      <th>team</th>\n",
       "      <th>enrollment_date</th>\n",
       "      <th>age</th>\n",
       "    </tr>\n",
       "  </thead>\n",
       "  <tbody>\n",
       "    <tr>\n",
       "      <th>0</th>\n",
       "      <td>100250</td>\n",
       "      <td>Charron</td>\n",
       "      <td>Roger</td>\n",
       "      <td>South</td>\n",
       "      <td>2008-04-01</td>\n",
       "      <td>70.872005</td>\n",
       "    </tr>\n",
       "    <tr>\n",
       "      <th>1</th>\n",
       "      <td>100307</td>\n",
       "      <td>Cabral</td>\n",
       "      <td>Maria</td>\n",
       "      <td>East</td>\n",
       "      <td>2008-10-01</td>\n",
       "      <td>73.149897</td>\n",
       "    </tr>\n",
       "    <tr>\n",
       "      <th>2</th>\n",
       "      <td>100434</td>\n",
       "      <td>Stanhope</td>\n",
       "      <td>Marilynn</td>\n",
       "      <td>South</td>\n",
       "      <td>2010-08-01</td>\n",
       "      <td>75.345654</td>\n",
       "    </tr>\n",
       "    <tr>\n",
       "      <th>3</th>\n",
       "      <td>100481</td>\n",
       "      <td>Sical</td>\n",
       "      <td>Zoila</td>\n",
       "      <td>Central</td>\n",
       "      <td>2011-06-01</td>\n",
       "      <td>79.441478</td>\n",
       "    </tr>\n",
       "    <tr>\n",
       "      <th>4</th>\n",
       "      <td>100504</td>\n",
       "      <td>Rodriguez</td>\n",
       "      <td>Diana</td>\n",
       "      <td>East</td>\n",
       "      <td>2011-11-01</td>\n",
       "      <td>85.234771</td>\n",
       "    </tr>\n",
       "  </tbody>\n",
       "</table>\n",
       "</div>"
      ],
      "text/plain": [
       "   member_id       last      first     team enrollment_date        age\n",
       "0     100250    Charron      Roger    South      2008-04-01  70.872005\n",
       "1     100307     Cabral      Maria     East      2008-10-01  73.149897\n",
       "2     100434   Stanhope   Marilynn    South      2010-08-01  75.345654\n",
       "3     100481      Sical      Zoila  Central      2011-06-01  79.441478\n",
       "4     100504  Rodriguez      Diana     East      2011-11-01  85.234771"
      ]
     },
     "execution_count": 154,
     "metadata": {},
     "output_type": "execute_result"
    }
   ],
   "source": [
    "quality.need_both_pneumo_vaccs_df(params=params).head()"
   ]
  },
  {
   "cell_type": "markdown",
   "metadata": {},
   "source": [
    "### Number of Ppts with Pneumococcal Vaccination\n",
    "Count of all enrolled ppts over the age of 65 who have at least one of the pneumo vaccinations."
   ]
  },
  {
   "cell_type": "code",
   "execution_count": 155,
   "metadata": {},
   "outputs": [
    {
     "data": {
      "text/plain": [
       "233"
      ]
     },
     "execution_count": 155,
     "metadata": {},
     "output_type": "execute_result"
    }
   ],
   "source": [
    "quality.has_pneumo_vacc_count(params=params)"
   ]
  },
  {
   "cell_type": "markdown",
   "metadata": {},
   "source": [
    "### Number of Ppts who Refused Pneumococcal Vaccination\n",
    "\n",
    "Count of all enrolled ppts over the age of 65 who have refused the vaccination and not received at least one of the pneumo vaccinations."
   ]
  },
  {
   "cell_type": "code",
   "execution_count": 156,
   "metadata": {},
   "outputs": [
    {
     "data": {
      "text/plain": [
       "26"
      ]
     },
     "execution_count": 156,
     "metadata": {},
     "output_type": "execute_result"
    }
   ],
   "source": [
    "quality.refused_pneumo_vacc_count(params=params)"
   ]
  },
  {
   "cell_type": "markdown",
   "metadata": {},
   "source": [
    "### Pneumococcal Vaccination Rate\n",
    "`has_pneumo_vacc_count` plus `refused_pneumo_vacc_count` divided by `age_above_65`."
   ]
  },
  {
   "cell_type": "code",
   "execution_count": 157,
   "metadata": {},
   "outputs": [
    {
     "data": {
      "text/plain": [
       "0.94"
      ]
     },
     "execution_count": 157,
     "metadata": {},
     "output_type": "execute_result"
    }
   ],
   "source": [
    "quality.pneumo_rate(params=params)"
   ]
  },
  {
   "cell_type": "markdown",
   "metadata": {},
   "source": [
    "### Ppts who Refused Pneumococcal Vaccination DataFrame\n",
    "\n",
    "Dataframe of all enrolled ppts over the age of 65 who have refused the vaccination and not received at least one of the pneumo vaccinations."
   ]
  },
  {
   "cell_type": "code",
   "execution_count": 158,
   "metadata": {},
   "outputs": [
    {
     "data": {
      "text/html": [
       "<div>\n",
       "<style scoped>\n",
       "    .dataframe tbody tr th:only-of-type {\n",
       "        vertical-align: middle;\n",
       "    }\n",
       "\n",
       "    .dataframe tbody tr th {\n",
       "        vertical-align: top;\n",
       "    }\n",
       "\n",
       "    .dataframe thead th {\n",
       "        text-align: right;\n",
       "    }\n",
       "</style>\n",
       "<table border=\"1\" class=\"dataframe\">\n",
       "  <thead>\n",
       "    <tr style=\"text-align: right;\">\n",
       "      <th></th>\n",
       "      <th>member_id</th>\n",
       "      <th>vacc_series</th>\n",
       "      <th>date_administered</th>\n",
       "      <th>last</th>\n",
       "      <th>first</th>\n",
       "      <th>team</th>\n",
       "      <th>enrollment_date</th>\n",
       "      <th>age</th>\n",
       "    </tr>\n",
       "  </thead>\n",
       "  <tbody>\n",
       "    <tr>\n",
       "      <th>0</th>\n",
       "      <td>100620</td>\n",
       "      <td>Pneumococcal 23</td>\n",
       "      <td>2016-03-31</td>\n",
       "      <td>Burke</td>\n",
       "      <td>Madelyn</td>\n",
       "      <td>East</td>\n",
       "      <td>2013-06-01</td>\n",
       "      <td>86.907598</td>\n",
       "    </tr>\n",
       "    <tr>\n",
       "      <th>1</th>\n",
       "      <td>100307</td>\n",
       "      <td>PCV 13</td>\n",
       "      <td>2018-10-10</td>\n",
       "      <td>Cabral</td>\n",
       "      <td>Maria</td>\n",
       "      <td>East</td>\n",
       "      <td>2008-10-01</td>\n",
       "      <td>73.149897</td>\n",
       "    </tr>\n",
       "    <tr>\n",
       "      <th>2</th>\n",
       "      <td>100307</td>\n",
       "      <td>Pneumococcal 23</td>\n",
       "      <td>2017-03-16</td>\n",
       "      <td>Cabral</td>\n",
       "      <td>Maria</td>\n",
       "      <td>East</td>\n",
       "      <td>2008-10-01</td>\n",
       "      <td>73.149897</td>\n",
       "    </tr>\n",
       "    <tr>\n",
       "      <th>3</th>\n",
       "      <td>100250</td>\n",
       "      <td>Pneumococcal 23</td>\n",
       "      <td>2010-07-27</td>\n",
       "      <td>Charron</td>\n",
       "      <td>Roger</td>\n",
       "      <td>South</td>\n",
       "      <td>2008-04-01</td>\n",
       "      <td>70.872005</td>\n",
       "    </tr>\n",
       "    <tr>\n",
       "      <th>4</th>\n",
       "      <td>2000936</td>\n",
       "      <td>PCV 13</td>\n",
       "      <td>2018-10-05</td>\n",
       "      <td>Charron</td>\n",
       "      <td>Virginia</td>\n",
       "      <td>East</td>\n",
       "      <td>2018-06-01</td>\n",
       "      <td>82.179329</td>\n",
       "    </tr>\n",
       "  </tbody>\n",
       "</table>\n",
       "</div>"
      ],
      "text/plain": [
       "   member_id      vacc_series date_administered     last      first   team  \\\n",
       "0     100620  Pneumococcal 23        2016-03-31    Burke    Madelyn   East   \n",
       "1     100307           PCV 13        2018-10-10   Cabral      Maria   East   \n",
       "2     100307  Pneumococcal 23        2017-03-16   Cabral      Maria   East   \n",
       "3     100250  Pneumococcal 23        2010-07-27  Charron      Roger  South   \n",
       "4    2000936           PCV 13        2018-10-05  Charron   Virginia   East   \n",
       "\n",
       "  enrollment_date        age  \n",
       "0      2013-06-01  86.907598  \n",
       "1      2008-10-01  73.149897  \n",
       "2      2008-10-01  73.149897  \n",
       "3      2008-04-01  70.872005  \n",
       "4      2018-06-01  82.179329  "
      ]
     },
     "execution_count": 158,
     "metadata": {},
     "output_type": "execute_result"
    }
   ],
   "source": [
    "quality.refused_pneumo_vacc_df(params=params).head()"
   ]
  },
  {
   "cell_type": "markdown",
   "metadata": {},
   "source": [
    "### Ppts with Pneumococcal Vaccination DataFrame\n",
    "Dataframe of all enrolled ppts over the age of 65 who have at least one of the pneumo vaccinations."
   ]
  },
  {
   "cell_type": "code",
   "execution_count": 159,
   "metadata": {},
   "outputs": [
    {
     "data": {
      "text/html": [
       "<div>\n",
       "<style scoped>\n",
       "    .dataframe tbody tr th:only-of-type {\n",
       "        vertical-align: middle;\n",
       "    }\n",
       "\n",
       "    .dataframe tbody tr th {\n",
       "        vertical-align: top;\n",
       "    }\n",
       "\n",
       "    .dataframe thead th {\n",
       "        text-align: right;\n",
       "    }\n",
       "</style>\n",
       "<table border=\"1\" class=\"dataframe\">\n",
       "  <thead>\n",
       "    <tr style=\"text-align: right;\">\n",
       "      <th></th>\n",
       "      <th>member_id</th>\n",
       "      <th>vacc_series</th>\n",
       "      <th>date_administered</th>\n",
       "      <th>last</th>\n",
       "      <th>first</th>\n",
       "      <th>team</th>\n",
       "      <th>enrollment_date</th>\n",
       "      <th>age</th>\n",
       "    </tr>\n",
       "  </thead>\n",
       "  <tbody>\n",
       "    <tr>\n",
       "      <th>0</th>\n",
       "      <td>100746</td>\n",
       "      <td>PCV 13</td>\n",
       "      <td>2018-02-22</td>\n",
       "      <td>Acosta</td>\n",
       "      <td>Gloria</td>\n",
       "      <td>South</td>\n",
       "      <td>2015-02-01</td>\n",
       "      <td>84.580424</td>\n",
       "    </tr>\n",
       "    <tr>\n",
       "      <th>1</th>\n",
       "      <td>100746</td>\n",
       "      <td>Pneumococcal 23</td>\n",
       "      <td>2015-01-01</td>\n",
       "      <td>Acosta</td>\n",
       "      <td>Gloria</td>\n",
       "      <td>South</td>\n",
       "      <td>2015-02-01</td>\n",
       "      <td>84.580424</td>\n",
       "    </tr>\n",
       "    <tr>\n",
       "      <th>2</th>\n",
       "      <td>100420</td>\n",
       "      <td>Pneumococcal 23</td>\n",
       "      <td>2012-05-15</td>\n",
       "      <td>Alamo-Vazquez</td>\n",
       "      <td>Tomasa</td>\n",
       "      <td>North</td>\n",
       "      <td>2010-05-01</td>\n",
       "      <td>94.026010</td>\n",
       "    </tr>\n",
       "    <tr>\n",
       "      <th>3</th>\n",
       "      <td>2000855</td>\n",
       "      <td>Pneumococcal 23</td>\n",
       "      <td>2017-11-30</td>\n",
       "      <td>Alba</td>\n",
       "      <td>Felicia</td>\n",
       "      <td>South</td>\n",
       "      <td>2017-10-01</td>\n",
       "      <td>83.564682</td>\n",
       "    </tr>\n",
       "    <tr>\n",
       "      <th>4</th>\n",
       "      <td>100564</td>\n",
       "      <td>Pneumococcal 23</td>\n",
       "      <td>2010-09-10</td>\n",
       "      <td>Alcindor</td>\n",
       "      <td>Marie</td>\n",
       "      <td>Central</td>\n",
       "      <td>2012-09-01</td>\n",
       "      <td>93.385352</td>\n",
       "    </tr>\n",
       "  </tbody>\n",
       "</table>\n",
       "</div>"
      ],
      "text/plain": [
       "   member_id      vacc_series date_administered           last     first  \\\n",
       "0     100746           PCV 13        2018-02-22         Acosta    Gloria   \n",
       "1     100746  Pneumococcal 23        2015-01-01         Acosta    Gloria   \n",
       "2     100420  Pneumococcal 23        2012-05-15  Alamo-Vazquez    Tomasa   \n",
       "3    2000855  Pneumococcal 23        2017-11-30           Alba   Felicia   \n",
       "4     100564  Pneumococcal 23        2010-09-10       Alcindor     Marie   \n",
       "\n",
       "      team enrollment_date        age  \n",
       "0    South      2015-02-01  84.580424  \n",
       "1    South      2015-02-01  84.580424  \n",
       "2    North      2010-05-01  94.026010  \n",
       "3    South      2017-10-01  83.564682  \n",
       "4  Central      2012-09-01  93.385352  "
      ]
     },
     "execution_count": 159,
     "metadata": {},
     "output_type": "execute_result"
    }
   ],
   "source": [
    "quality.has_pneumo_vacc_df(params=params).head()"
   ]
  },
  {
   "cell_type": "markdown",
   "metadata": {},
   "source": [
    "### Influenza Related Calculations\n",
    "If the start date of the period is before April the start of the flu season is considered to be September 1st of the previous year. Other wise it will be the 1st of September in the same year as the parameter start.\n",
    "\n",
    "This means the period of April through August will always have no results."
   ]
  },
  {
   "cell_type": "markdown",
   "metadata": {},
   "source": [
    "### Ppts Who Need to be Offered the Influzenza Vaccination DataFrame\n",
    "Returns a dataframe of ppts enrolled during the period who do not have an influenza action (administer or refused) during the related flu season."
   ]
  },
  {
   "cell_type": "code",
   "execution_count": 160,
   "metadata": {},
   "outputs": [
    {
     "data": {
      "text/html": [
       "<div>\n",
       "<style scoped>\n",
       "    .dataframe tbody tr th:only-of-type {\n",
       "        vertical-align: middle;\n",
       "    }\n",
       "\n",
       "    .dataframe tbody tr th {\n",
       "        vertical-align: top;\n",
       "    }\n",
       "\n",
       "    .dataframe thead th {\n",
       "        text-align: right;\n",
       "    }\n",
       "</style>\n",
       "<table border=\"1\" class=\"dataframe\">\n",
       "  <thead>\n",
       "    <tr style=\"text-align: right;\">\n",
       "      <th></th>\n",
       "      <th>member_id</th>\n",
       "      <th>last</th>\n",
       "      <th>first</th>\n",
       "      <th>team</th>\n",
       "      <th>enrollment_date</th>\n",
       "    </tr>\n",
       "  </thead>\n",
       "  <tbody>\n",
       "    <tr>\n",
       "      <th>0</th>\n",
       "      <td>100232</td>\n",
       "      <td>Markarian</td>\n",
       "      <td>Azniv</td>\n",
       "      <td>East</td>\n",
       "      <td>2007-11-01</td>\n",
       "    </tr>\n",
       "    <tr>\n",
       "      <th>1</th>\n",
       "      <td>100261</td>\n",
       "      <td>Hernandez</td>\n",
       "      <td>Ismael</td>\n",
       "      <td>South</td>\n",
       "      <td>2008-05-01</td>\n",
       "    </tr>\n",
       "    <tr>\n",
       "      <th>2</th>\n",
       "      <td>100540</td>\n",
       "      <td>Marcucci</td>\n",
       "      <td>Santos</td>\n",
       "      <td>Central</td>\n",
       "      <td>2012-05-01</td>\n",
       "    </tr>\n",
       "    <tr>\n",
       "      <th>3</th>\n",
       "      <td>100564</td>\n",
       "      <td>Alcindor</td>\n",
       "      <td>Marie</td>\n",
       "      <td>Central</td>\n",
       "      <td>2012-09-01</td>\n",
       "    </tr>\n",
       "    <tr>\n",
       "      <th>4</th>\n",
       "      <td>100623</td>\n",
       "      <td>Morel</td>\n",
       "      <td>Aurelia</td>\n",
       "      <td>Central</td>\n",
       "      <td>2013-06-01</td>\n",
       "    </tr>\n",
       "  </tbody>\n",
       "</table>\n",
       "</div>"
      ],
      "text/plain": [
       "   member_id       last     first     team enrollment_date\n",
       "0     100232  Markarian     Azniv     East      2007-11-01\n",
       "1     100261  Hernandez    Ismael    South      2008-05-01\n",
       "2     100540   Marcucci    Santos  Central      2012-05-01\n",
       "3     100564   Alcindor     Marie  Central      2012-09-01\n",
       "4     100623      Morel   Aurelia  Central      2013-06-01"
      ]
     },
     "execution_count": 160,
     "metadata": {},
     "output_type": "execute_result"
    }
   ],
   "source": [
    "quality.need_influenza_vacc_df(params=params).head()"
   ]
  },
  {
   "cell_type": "markdown",
   "metadata": {},
   "source": [
    "### Number of Ppts with Influzenza Vaccination\n",
    "Count of ppts who have an influenza vaccination (dose_status=1) during the related flu season."
   ]
  },
  {
   "cell_type": "code",
   "execution_count": 161,
   "metadata": {},
   "outputs": [
    {
     "data": {
      "text/plain": [
       "233"
      ]
     },
     "execution_count": 161,
     "metadata": {},
     "output_type": "execute_result"
    }
   ],
   "source": [
    "quality.has_influ_vacc_count(params=params)"
   ]
  },
  {
   "cell_type": "markdown",
   "metadata": {},
   "source": [
    "### Ppts with Influzenza Vaccination DataFrame\n",
    "Returns a dataframe of ppts enrolled during the period who have an influenza vaccination (dose_status=1) during the related flu season."
   ]
  },
  {
   "cell_type": "code",
   "execution_count": 162,
   "metadata": {},
   "outputs": [
    {
     "data": {
      "text/html": [
       "<div>\n",
       "<style scoped>\n",
       "    .dataframe tbody tr th:only-of-type {\n",
       "        vertical-align: middle;\n",
       "    }\n",
       "\n",
       "    .dataframe tbody tr th {\n",
       "        vertical-align: top;\n",
       "    }\n",
       "\n",
       "    .dataframe thead th {\n",
       "        text-align: right;\n",
       "    }\n",
       "</style>\n",
       "<table border=\"1\" class=\"dataframe\">\n",
       "  <thead>\n",
       "    <tr style=\"text-align: right;\">\n",
       "      <th></th>\n",
       "      <th>member_id</th>\n",
       "      <th>vacc_series</th>\n",
       "      <th>date_administered</th>\n",
       "      <th>last</th>\n",
       "      <th>first</th>\n",
       "      <th>team</th>\n",
       "      <th>enrollment_date</th>\n",
       "    </tr>\n",
       "  </thead>\n",
       "  <tbody>\n",
       "    <tr>\n",
       "      <th>0</th>\n",
       "      <td>100278</td>\n",
       "      <td>Influenza_</td>\n",
       "      <td>2019-09-26</td>\n",
       "      <td>Fairweather</td>\n",
       "      <td>Danette</td>\n",
       "      <td>East</td>\n",
       "      <td>2008-07-01</td>\n",
       "    </tr>\n",
       "    <tr>\n",
       "      <th>1</th>\n",
       "      <td>100278</td>\n",
       "      <td>Influenza_</td>\n",
       "      <td>2019-09-26</td>\n",
       "      <td>Fairweather</td>\n",
       "      <td>Danette</td>\n",
       "      <td>South</td>\n",
       "      <td>2008-07-01</td>\n",
       "    </tr>\n",
       "    <tr>\n",
       "      <th>2</th>\n",
       "      <td>2001027</td>\n",
       "      <td>Influenza_</td>\n",
       "      <td>2019-09-26</td>\n",
       "      <td>Recinos</td>\n",
       "      <td>Maria</td>\n",
       "      <td>East</td>\n",
       "      <td>2019-02-01</td>\n",
       "    </tr>\n",
       "    <tr>\n",
       "      <th>3</th>\n",
       "      <td>2000952</td>\n",
       "      <td>Influenza_</td>\n",
       "      <td>2019-10-02</td>\n",
       "      <td>Curley</td>\n",
       "      <td>Cynthia</td>\n",
       "      <td>North</td>\n",
       "      <td>2018-07-01</td>\n",
       "    </tr>\n",
       "    <tr>\n",
       "      <th>4</th>\n",
       "      <td>2001002</td>\n",
       "      <td>Influenza_</td>\n",
       "      <td>2019-10-04</td>\n",
       "      <td>Eccleston</td>\n",
       "      <td>Douglas</td>\n",
       "      <td>South</td>\n",
       "      <td>2018-11-01</td>\n",
       "    </tr>\n",
       "  </tbody>\n",
       "</table>\n",
       "</div>"
      ],
      "text/plain": [
       "   member_id vacc_series date_administered         last     first   team  \\\n",
       "0     100278  Influenza_        2019-09-26  Fairweather   Danette   East   \n",
       "1     100278  Influenza_        2019-09-26  Fairweather   Danette  South   \n",
       "2    2001027  Influenza_        2019-09-26      Recinos     Maria   East   \n",
       "3    2000952  Influenza_        2019-10-02       Curley   Cynthia  North   \n",
       "4    2001002  Influenza_        2019-10-04    Eccleston   Douglas  South   \n",
       "\n",
       "  enrollment_date  \n",
       "0      2008-07-01  \n",
       "1      2008-07-01  \n",
       "2      2019-02-01  \n",
       "3      2018-07-01  \n",
       "4      2018-11-01  "
      ]
     },
     "execution_count": 162,
     "metadata": {},
     "output_type": "execute_result"
    }
   ],
   "source": [
    "quality.has_influ_vacc_df(params=params).head()"
   ]
  },
  {
   "cell_type": "markdown",
   "metadata": {},
   "source": [
    "### Number of Ppts who Refused Influenza\n",
    "Count of ppts who have refused the influenza vaccination (dose_status=0) during the related flu season and not subsequently received it."
   ]
  },
  {
   "cell_type": "code",
   "execution_count": 163,
   "metadata": {},
   "outputs": [
    {
     "data": {
      "text/plain": [
       "41"
      ]
     },
     "execution_count": 163,
     "metadata": {},
     "output_type": "execute_result"
    }
   ],
   "source": [
    "quality.refused_influ_vacc_count(params=params)"
   ]
  },
  {
   "cell_type": "markdown",
   "metadata": {},
   "source": [
    "### Ppts who Refused Influenza DataFrame\n",
    "Returns a dataframe of ppts enrolled during the period who have refused an influenza vaccination during the related flu season."
   ]
  },
  {
   "cell_type": "code",
   "execution_count": 164,
   "metadata": {},
   "outputs": [
    {
     "data": {
      "text/html": [
       "<div>\n",
       "<style scoped>\n",
       "    .dataframe tbody tr th:only-of-type {\n",
       "        vertical-align: middle;\n",
       "    }\n",
       "\n",
       "    .dataframe tbody tr th {\n",
       "        vertical-align: top;\n",
       "    }\n",
       "\n",
       "    .dataframe thead th {\n",
       "        text-align: right;\n",
       "    }\n",
       "</style>\n",
       "<table border=\"1\" class=\"dataframe\">\n",
       "  <thead>\n",
       "    <tr style=\"text-align: right;\">\n",
       "      <th></th>\n",
       "      <th>member_id</th>\n",
       "      <th>vacc_series</th>\n",
       "      <th>date_administered</th>\n",
       "      <th>last</th>\n",
       "      <th>first</th>\n",
       "      <th>team</th>\n",
       "      <th>enrollment_date</th>\n",
       "    </tr>\n",
       "  </thead>\n",
       "  <tbody>\n",
       "    <tr>\n",
       "      <th>0</th>\n",
       "      <td>2000936</td>\n",
       "      <td>Influenza_</td>\n",
       "      <td>2019-09-26</td>\n",
       "      <td>Charron</td>\n",
       "      <td>Virginia</td>\n",
       "      <td>East</td>\n",
       "      <td>2018-06-01</td>\n",
       "    </tr>\n",
       "    <tr>\n",
       "      <th>1</th>\n",
       "      <td>2001020</td>\n",
       "      <td>Influenza_</td>\n",
       "      <td>2019-10-01</td>\n",
       "      <td>Horton</td>\n",
       "      <td>Walter</td>\n",
       "      <td>East</td>\n",
       "      <td>2019-01-01</td>\n",
       "    </tr>\n",
       "    <tr>\n",
       "      <th>2</th>\n",
       "      <td>2000972</td>\n",
       "      <td>Influenza_</td>\n",
       "      <td>2019-10-02</td>\n",
       "      <td>Flores</td>\n",
       "      <td>Marie</td>\n",
       "      <td>North</td>\n",
       "      <td>2018-09-01</td>\n",
       "    </tr>\n",
       "    <tr>\n",
       "      <th>3</th>\n",
       "      <td>100850</td>\n",
       "      <td>Influenza_</td>\n",
       "      <td>2019-09-27</td>\n",
       "      <td>Garcia De Mella</td>\n",
       "      <td>Juana</td>\n",
       "      <td>Central</td>\n",
       "      <td>2017-04-01</td>\n",
       "    </tr>\n",
       "    <tr>\n",
       "      <th>4</th>\n",
       "      <td>100751</td>\n",
       "      <td>Influenza_</td>\n",
       "      <td>2019-10-04</td>\n",
       "      <td>Urreta</td>\n",
       "      <td>Deborah</td>\n",
       "      <td>North</td>\n",
       "      <td>2015-04-01</td>\n",
       "    </tr>\n",
       "  </tbody>\n",
       "</table>\n",
       "</div>"
      ],
      "text/plain": [
       "   member_id vacc_series date_administered             last      first  \\\n",
       "0    2000936  Influenza_        2019-09-26          Charron   Virginia   \n",
       "1    2001020  Influenza_        2019-10-01           Horton     Walter   \n",
       "2    2000972  Influenza_        2019-10-02           Flores      Marie   \n",
       "3     100850  Influenza_        2019-09-27  Garcia De Mella      Juana   \n",
       "4     100751  Influenza_        2019-10-04           Urreta    Deborah   \n",
       "\n",
       "      team enrollment_date  \n",
       "0     East      2018-06-01  \n",
       "1     East      2019-01-01  \n",
       "2    North      2018-09-01  \n",
       "3  Central      2017-04-01  \n",
       "4    North      2015-04-01  "
      ]
     },
     "execution_count": 164,
     "metadata": {},
     "output_type": "execute_result"
    }
   ],
   "source": [
    "quality.refused_influ_vacc_df(params=params).head()"
   ]
  },
  {
   "cell_type": "markdown",
   "metadata": {},
   "source": [
    "### Influenza Vaccination Rate\n",
    "The sum of ppts enrolled during the period who have either received or refused the influenza vaccination divided by the census during the period."
   ]
  },
  {
   "cell_type": "code",
   "execution_count": 165,
   "metadata": {},
   "outputs": [
    {
     "data": {
      "text/plain": [
       "0.86"
      ]
     },
     "execution_count": 165,
     "metadata": {},
     "output_type": "execute_result"
    }
   ],
   "source": [
    "quality.influ_rate(params=params)"
   ]
  },
  {
   "cell_type": "markdown",
   "metadata": {},
   "source": [
    "### Mortality Rate\n",
    "The number of deaths during the period divided by the census during the period."
   ]
  },
  {
   "cell_type": "code",
   "execution_count": 166,
   "metadata": {},
   "outputs": [
    {
     "data": {
      "text/plain": [
       "10"
      ]
     },
     "execution_count": 166,
     "metadata": {},
     "output_type": "execute_result"
    }
   ],
   "source": [
    "quality.mortality_rate(params=params)"
   ]
  },
  {
   "cell_type": "markdown",
   "metadata": {},
   "source": [
    "### Mortality within 30 Days of Discharge Rate\n",
    "The rate of deaths that occurred within 30 days of discharge from a hospital. This is deaths within 30 days of discharge divided by total deaths during the period."
   ]
  },
  {
   "cell_type": "code",
   "execution_count": 167,
   "metadata": {},
   "outputs": [
    {
     "data": {
      "text/plain": [
       "0.2"
      ]
     },
     "execution_count": 167,
     "metadata": {},
     "output_type": "execute_result"
    }
   ],
   "source": [
    "quality.mortality_within_30days_of_discharge_rate(params=params)"
   ]
  },
  {
   "cell_type": "markdown",
   "metadata": {},
   "source": [
    "### Percent of Discharges that Result in Death within 30 Days\n",
    "The rate of discharges that result in death within 30 days. This is deaths within 30 days of discharge divided by total hospital discharges during the period."
   ]
  },
  {
   "cell_type": "code",
   "execution_count": 168,
   "metadata": {},
   "outputs": [
    {
     "data": {
      "text/plain": [
       "2.22"
      ]
     },
     "execution_count": 168,
     "metadata": {},
     "output_type": "execute_result"
    }
   ],
   "source": [
    "quality.percent_of_discharges_with_mortality_in_30(params=params)"
   ]
  },
  {
   "cell_type": "markdown",
   "metadata": {},
   "source": [
    "### Percent of Ppts without Acute Admission Since Enrollment\n",
    "Percent of ppts who do not have a recorded acute hospital admissions."
   ]
  },
  {
   "cell_type": "code",
   "execution_count": 169,
   "metadata": {},
   "outputs": [
    {
     "data": {
      "text/plain": [
       "39.69"
      ]
     },
     "execution_count": 169,
     "metadata": {},
     "output_type": "execute_result"
    }
   ],
   "source": [
    "quality.no_hosp_admission_since_enrollment(params=params)"
   ]
  },
  {
   "cell_type": "markdown",
   "metadata": {},
   "source": [
    "### Percent of Ppts without Acute Admission in the Last Year\n",
    "Percent of ppts who do not have a recorded acute hospital admissions within the year prior to the provided end date."
   ]
  },
  {
   "cell_type": "code",
   "execution_count": 170,
   "metadata": {},
   "outputs": [
    {
     "data": {
      "text/plain": [
       "46.25"
      ]
     },
     "execution_count": 170,
     "metadata": {},
     "output_type": "execute_result"
    }
   ],
   "source": [
    "quality.no_hosp_admission_last_year(params=params)"
   ]
  },
  {
   "cell_type": "markdown",
   "metadata": {},
   "source": [
    "### Average Days From Enrollment to First Custodial Admission or Average Days Until Nursing Facility Admission\n",
    "The average of the difference between the first admission date to a custodial stay and the ppt enrollment date for ppts enrolled in the period."
   ]
  },
  {
   "cell_type": "code",
   "execution_count": 171,
   "metadata": {},
   "outputs": [
    {
     "data": {
      "text/plain": [
       "1624.67"
      ]
     },
     "execution_count": 171,
     "metadata": {},
     "output_type": "execute_result"
    }
   ],
   "source": [
    "quality.avg_days_until_nf_admission(params=params)"
   ]
  },
  {
   "cell_type": "markdown",
   "metadata": {},
   "source": [
    "## Team\n",
    "\n",
    "Team functions take the functions listed in the modules above and create dataframe where each row is the team and the value of the function for that team."
   ]
  },
  {
   "cell_type": "code",
   "execution_count": 172,
   "metadata": {},
   "outputs": [],
   "source": [
    "team = pu.Team()"
   ]
  },
  {
   "cell_type": "markdown",
   "metadata": {},
   "source": [
    "### Admissions by Team"
   ]
  },
  {
   "cell_type": "code",
   "execution_count": 173,
   "metadata": {},
   "outputs": [
    {
     "data": {
      "text/html": [
       "<div>\n",
       "<style scoped>\n",
       "    .dataframe tbody tr th:only-of-type {\n",
       "        vertical-align: middle;\n",
       "    }\n",
       "\n",
       "    .dataframe tbody tr th {\n",
       "        vertical-align: top;\n",
       "    }\n",
       "\n",
       "    .dataframe thead th {\n",
       "        text-align: right;\n",
       "    }\n",
       "</style>\n",
       "<table border=\"1\" class=\"dataframe\">\n",
       "  <thead>\n",
       "    <tr style=\"text-align: right;\">\n",
       "      <th></th>\n",
       "      <th>team</th>\n",
       "      <th>acute admissions</th>\n",
       "    </tr>\n",
       "  </thead>\n",
       "  <tbody>\n",
       "    <tr>\n",
       "      <th>0</th>\n",
       "      <td>None</td>\n",
       "      <td>1</td>\n",
       "    </tr>\n",
       "    <tr>\n",
       "      <th>1</th>\n",
       "      <td>Central</td>\n",
       "      <td>14</td>\n",
       "    </tr>\n",
       "    <tr>\n",
       "      <th>2</th>\n",
       "      <td>East</td>\n",
       "      <td>31</td>\n",
       "    </tr>\n",
       "    <tr>\n",
       "      <th>3</th>\n",
       "      <td>North</td>\n",
       "      <td>19</td>\n",
       "    </tr>\n",
       "    <tr>\n",
       "      <th>4</th>\n",
       "      <td>South</td>\n",
       "      <td>23</td>\n",
       "    </tr>\n",
       "  </tbody>\n",
       "</table>\n",
       "</div>"
      ],
      "text/plain": [
       "      team  acute admissions\n",
       "0     None                 1\n",
       "1  Central                14\n",
       "2     East                31\n",
       "3    North                19\n",
       "4    South                23"
      ]
     },
     "execution_count": 173,
     "metadata": {},
     "output_type": "execute_result"
    }
   ],
   "source": [
    "team.admissions_by_team(params=params, utilization_table=\"acute\")"
   ]
  },
  {
   "cell_type": "markdown",
   "metadata": {},
   "source": [
    "### Utilization Days by Team"
   ]
  },
  {
   "cell_type": "code",
   "execution_count": 174,
   "metadata": {},
   "outputs": [
    {
     "data": {
      "text/html": [
       "<div>\n",
       "<style scoped>\n",
       "    .dataframe tbody tr th:only-of-type {\n",
       "        vertical-align: middle;\n",
       "    }\n",
       "\n",
       "    .dataframe tbody tr th {\n",
       "        vertical-align: top;\n",
       "    }\n",
       "\n",
       "    .dataframe thead th {\n",
       "        text-align: right;\n",
       "    }\n",
       "</style>\n",
       "<table border=\"1\" class=\"dataframe\">\n",
       "  <thead>\n",
       "    <tr style=\"text-align: right;\">\n",
       "      <th></th>\n",
       "      <th>team</th>\n",
       "      <th>acute days</th>\n",
       "    </tr>\n",
       "  </thead>\n",
       "  <tbody>\n",
       "    <tr>\n",
       "      <th>0</th>\n",
       "      <td>None</td>\n",
       "      <td>5.0</td>\n",
       "    </tr>\n",
       "    <tr>\n",
       "      <th>1</th>\n",
       "      <td>Central</td>\n",
       "      <td>345.0</td>\n",
       "    </tr>\n",
       "    <tr>\n",
       "      <th>2</th>\n",
       "      <td>East</td>\n",
       "      <td>201.0</td>\n",
       "    </tr>\n",
       "    <tr>\n",
       "      <th>3</th>\n",
       "      <td>North</td>\n",
       "      <td>73.0</td>\n",
       "    </tr>\n",
       "    <tr>\n",
       "      <th>4</th>\n",
       "      <td>South</td>\n",
       "      <td>112.0</td>\n",
       "    </tr>\n",
       "  </tbody>\n",
       "</table>\n",
       "</div>"
      ],
      "text/plain": [
       "      team  acute days\n",
       "0     None         5.0\n",
       "1  Central       345.0\n",
       "2     East       201.0\n",
       "3    North        73.0\n",
       "4    South       112.0"
      ]
     },
     "execution_count": 174,
     "metadata": {},
     "output_type": "execute_result"
    }
   ],
   "source": [
    "team.days_by_team(params=params, utilization_table=\"acute\")"
   ]
  },
  {
   "cell_type": "markdown",
   "metadata": {},
   "source": [
    "### Discharges by Team"
   ]
  },
  {
   "cell_type": "code",
   "execution_count": 175,
   "metadata": {},
   "outputs": [
    {
     "data": {
      "text/html": [
       "<div>\n",
       "<style scoped>\n",
       "    .dataframe tbody tr th:only-of-type {\n",
       "        vertical-align: middle;\n",
       "    }\n",
       "\n",
       "    .dataframe tbody tr th {\n",
       "        vertical-align: top;\n",
       "    }\n",
       "\n",
       "    .dataframe thead th {\n",
       "        text-align: right;\n",
       "    }\n",
       "</style>\n",
       "<table border=\"1\" class=\"dataframe\">\n",
       "  <thead>\n",
       "    <tr style=\"text-align: right;\">\n",
       "      <th></th>\n",
       "      <th>team</th>\n",
       "      <th>acute discharges</th>\n",
       "    </tr>\n",
       "  </thead>\n",
       "  <tbody>\n",
       "    <tr>\n",
       "      <th>0</th>\n",
       "      <td>None</td>\n",
       "      <td>1</td>\n",
       "    </tr>\n",
       "    <tr>\n",
       "      <th>1</th>\n",
       "      <td>Central</td>\n",
       "      <td>17</td>\n",
       "    </tr>\n",
       "    <tr>\n",
       "      <th>2</th>\n",
       "      <td>East</td>\n",
       "      <td>30</td>\n",
       "    </tr>\n",
       "    <tr>\n",
       "      <th>3</th>\n",
       "      <td>North</td>\n",
       "      <td>19</td>\n",
       "    </tr>\n",
       "    <tr>\n",
       "      <th>4</th>\n",
       "      <td>South</td>\n",
       "      <td>23</td>\n",
       "    </tr>\n",
       "  </tbody>\n",
       "</table>\n",
       "</div>"
      ],
      "text/plain": [
       "      team  acute discharges\n",
       "0     None                 1\n",
       "1  Central                17\n",
       "2     East                30\n",
       "3    North                19\n",
       "4    South                23"
      ]
     },
     "execution_count": 175,
     "metadata": {},
     "output_type": "execute_result"
    }
   ],
   "source": [
    "team.discharges_by_team(params=params, utilization_table=\"acute\")"
   ]
  },
  {
   "cell_type": "markdown",
   "metadata": {},
   "source": [
    "### Average Length of Stay by Team"
   ]
  },
  {
   "cell_type": "code",
   "execution_count": 176,
   "metadata": {},
   "outputs": [
    {
     "data": {
      "text/html": [
       "<div>\n",
       "<style scoped>\n",
       "    .dataframe tbody tr th:only-of-type {\n",
       "        vertical-align: middle;\n",
       "    }\n",
       "\n",
       "    .dataframe tbody tr th {\n",
       "        vertical-align: top;\n",
       "    }\n",
       "\n",
       "    .dataframe thead th {\n",
       "        text-align: right;\n",
       "    }\n",
       "</style>\n",
       "<table border=\"1\" class=\"dataframe\">\n",
       "  <thead>\n",
       "    <tr style=\"text-align: right;\">\n",
       "      <th></th>\n",
       "      <th>team</th>\n",
       "      <th>acute alos</th>\n",
       "    </tr>\n",
       "  </thead>\n",
       "  <tbody>\n",
       "    <tr>\n",
       "      <th>0</th>\n",
       "      <td>None</td>\n",
       "      <td>5.00</td>\n",
       "    </tr>\n",
       "    <tr>\n",
       "      <th>1</th>\n",
       "      <td>Central</td>\n",
       "      <td>5.76</td>\n",
       "    </tr>\n",
       "    <tr>\n",
       "      <th>2</th>\n",
       "      <td>East</td>\n",
       "      <td>3.90</td>\n",
       "    </tr>\n",
       "    <tr>\n",
       "      <th>3</th>\n",
       "      <td>North</td>\n",
       "      <td>3.84</td>\n",
       "    </tr>\n",
       "    <tr>\n",
       "      <th>4</th>\n",
       "      <td>South</td>\n",
       "      <td>4.87</td>\n",
       "    </tr>\n",
       "  </tbody>\n",
       "</table>\n",
       "</div>"
      ],
      "text/plain": [
       "      team  acute alos\n",
       "0     None        5.00\n",
       "1  Central        5.76\n",
       "2     East        3.90\n",
       "3    North        3.84\n",
       "4    South        4.87"
      ]
     },
     "execution_count": 176,
     "metadata": {},
     "output_type": "execute_result"
    }
   ],
   "source": [
    "team.alos_for_discharges_by_team(params=params, utilization_table=\"acute\")"
   ]
  },
  {
   "cell_type": "markdown",
   "metadata": {},
   "source": [
    "### 30 Day Readmissions by Team"
   ]
  },
  {
   "cell_type": "code",
   "execution_count": 177,
   "metadata": {},
   "outputs": [
    {
     "data": {
      "text/html": [
       "<div>\n",
       "<style scoped>\n",
       "    .dataframe tbody tr th:only-of-type {\n",
       "        vertical-align: middle;\n",
       "    }\n",
       "\n",
       "    .dataframe tbody tr th {\n",
       "        vertical-align: top;\n",
       "    }\n",
       "\n",
       "    .dataframe thead th {\n",
       "        text-align: right;\n",
       "    }\n",
       "</style>\n",
       "<table border=\"1\" class=\"dataframe\">\n",
       "  <thead>\n",
       "    <tr style=\"text-align: right;\">\n",
       "      <th></th>\n",
       "      <th>team</th>\n",
       "      <th>acute 30 day readmits</th>\n",
       "    </tr>\n",
       "  </thead>\n",
       "  <tbody>\n",
       "    <tr>\n",
       "      <th>0</th>\n",
       "      <td>Central</td>\n",
       "      <td>3</td>\n",
       "    </tr>\n",
       "    <tr>\n",
       "      <th>1</th>\n",
       "      <td>East</td>\n",
       "      <td>14</td>\n",
       "    </tr>\n",
       "    <tr>\n",
       "      <th>2</th>\n",
       "      <td>North</td>\n",
       "      <td>5</td>\n",
       "    </tr>\n",
       "    <tr>\n",
       "      <th>3</th>\n",
       "      <td>South</td>\n",
       "      <td>3</td>\n",
       "    </tr>\n",
       "  </tbody>\n",
       "</table>\n",
       "</div>"
      ],
      "text/plain": [
       "      team  acute 30 day readmits\n",
       "0  Central                      3\n",
       "1     East                     14\n",
       "2    North                      5\n",
       "3    South                      3"
      ]
     },
     "execution_count": 177,
     "metadata": {},
     "output_type": "execute_result"
    }
   ],
   "source": [
    "team.readmits_by_team(params=params, utilization_table=\"acute\")"
   ]
  },
  {
   "cell_type": "markdown",
   "metadata": {},
   "source": [
    "### Average Age by Team"
   ]
  },
  {
   "cell_type": "code",
   "execution_count": 178,
   "metadata": {},
   "outputs": [
    {
     "data": {
      "text/html": [
       "<div>\n",
       "<style scoped>\n",
       "    .dataframe tbody tr th:only-of-type {\n",
       "        vertical-align: middle;\n",
       "    }\n",
       "\n",
       "    .dataframe tbody tr th {\n",
       "        vertical-align: top;\n",
       "    }\n",
       "\n",
       "    .dataframe thead th {\n",
       "        text-align: right;\n",
       "    }\n",
       "</style>\n",
       "<table border=\"1\" class=\"dataframe\">\n",
       "  <thead>\n",
       "    <tr style=\"text-align: right;\">\n",
       "      <th></th>\n",
       "      <th>team</th>\n",
       "      <th>age</th>\n",
       "    </tr>\n",
       "  </thead>\n",
       "  <tbody>\n",
       "    <tr>\n",
       "      <th>0</th>\n",
       "      <td>None</td>\n",
       "      <td>58.44</td>\n",
       "    </tr>\n",
       "    <tr>\n",
       "      <th>1</th>\n",
       "      <td>Central</td>\n",
       "      <td>78.03</td>\n",
       "    </tr>\n",
       "    <tr>\n",
       "      <th>2</th>\n",
       "      <td>East</td>\n",
       "      <td>76.88</td>\n",
       "    </tr>\n",
       "    <tr>\n",
       "      <th>3</th>\n",
       "      <td>North</td>\n",
       "      <td>75.42</td>\n",
       "    </tr>\n",
       "    <tr>\n",
       "      <th>4</th>\n",
       "      <td>South</td>\n",
       "      <td>75.39</td>\n",
       "    </tr>\n",
       "  </tbody>\n",
       "</table>\n",
       "</div>"
      ],
      "text/plain": [
       "      team    age\n",
       "0     None  58.44\n",
       "1  Central  78.03\n",
       "2     East  76.88\n",
       "3    North  75.42\n",
       "4    South  75.39"
      ]
     },
     "execution_count": 178,
     "metadata": {},
     "output_type": "execute_result"
    }
   ],
   "source": [
    "team.avg_age_by_team(params=params)"
   ]
  },
  {
   "cell_type": "markdown",
   "metadata": {},
   "source": [
    "### Percent Non-English Primary Speakers by Team"
   ]
  },
  {
   "cell_type": "code",
   "execution_count": 179,
   "metadata": {},
   "outputs": [
    {
     "data": {
      "text/html": [
       "<div>\n",
       "<style scoped>\n",
       "    .dataframe tbody tr th:only-of-type {\n",
       "        vertical-align: middle;\n",
       "    }\n",
       "\n",
       "    .dataframe tbody tr th {\n",
       "        vertical-align: top;\n",
       "    }\n",
       "\n",
       "    .dataframe thead th {\n",
       "        text-align: right;\n",
       "    }\n",
       "</style>\n",
       "<table border=\"1\" class=\"dataframe\">\n",
       "  <thead>\n",
       "    <tr style=\"text-align: right;\">\n",
       "      <th></th>\n",
       "      <th>team</th>\n",
       "      <th>percent non english</th>\n",
       "    </tr>\n",
       "  </thead>\n",
       "  <tbody>\n",
       "    <tr>\n",
       "      <th>0</th>\n",
       "      <td>None</td>\n",
       "      <td>0.00</td>\n",
       "    </tr>\n",
       "    <tr>\n",
       "      <th>1</th>\n",
       "      <td>Central</td>\n",
       "      <td>48.81</td>\n",
       "    </tr>\n",
       "    <tr>\n",
       "      <th>2</th>\n",
       "      <td>East</td>\n",
       "      <td>52.81</td>\n",
       "    </tr>\n",
       "    <tr>\n",
       "      <th>3</th>\n",
       "      <td>North</td>\n",
       "      <td>27.27</td>\n",
       "    </tr>\n",
       "    <tr>\n",
       "      <th>4</th>\n",
       "      <td>South</td>\n",
       "      <td>25.00</td>\n",
       "    </tr>\n",
       "  </tbody>\n",
       "</table>\n",
       "</div>"
      ],
      "text/plain": [
       "      team  percent non english\n",
       "0     None                 0.00\n",
       "1  Central                48.81\n",
       "2     East                52.81\n",
       "3    North                27.27\n",
       "4    South                25.00"
      ]
     },
     "execution_count": 179,
     "metadata": {},
     "output_type": "execute_result"
    }
   ],
   "source": [
    "team.percent_primary_non_english_by_team(params=params)"
   ]
  },
  {
   "cell_type": "markdown",
   "metadata": {},
   "source": [
    "### Average Years Enrolled in PACE by Team"
   ]
  },
  {
   "cell_type": "code",
   "execution_count": 180,
   "metadata": {},
   "outputs": [
    {
     "data": {
      "text/html": [
       "<div>\n",
       "<style scoped>\n",
       "    .dataframe tbody tr th:only-of-type {\n",
       "        vertical-align: middle;\n",
       "    }\n",
       "\n",
       "    .dataframe tbody tr th {\n",
       "        vertical-align: top;\n",
       "    }\n",
       "\n",
       "    .dataframe thead th {\n",
       "        text-align: right;\n",
       "    }\n",
       "</style>\n",
       "<table border=\"1\" class=\"dataframe\">\n",
       "  <thead>\n",
       "    <tr style=\"text-align: right;\">\n",
       "      <th></th>\n",
       "      <th>team</th>\n",
       "      <th>avg_years_enrolled</th>\n",
       "    </tr>\n",
       "  </thead>\n",
       "  <tbody>\n",
       "    <tr>\n",
       "      <th>0</th>\n",
       "      <td>None</td>\n",
       "      <td>0.41</td>\n",
       "    </tr>\n",
       "    <tr>\n",
       "      <th>1</th>\n",
       "      <td>Central</td>\n",
       "      <td>4.28</td>\n",
       "    </tr>\n",
       "    <tr>\n",
       "      <th>2</th>\n",
       "      <td>East</td>\n",
       "      <td>5.15</td>\n",
       "    </tr>\n",
       "    <tr>\n",
       "      <th>3</th>\n",
       "      <td>North</td>\n",
       "      <td>3.73</td>\n",
       "    </tr>\n",
       "    <tr>\n",
       "      <th>4</th>\n",
       "      <td>South</td>\n",
       "      <td>4.36</td>\n",
       "    </tr>\n",
       "  </tbody>\n",
       "</table>\n",
       "</div>"
      ],
      "text/plain": [
       "      team  avg_years_enrolled\n",
       "0     None                0.41\n",
       "1  Central                4.28\n",
       "2     East                5.15\n",
       "3    North                3.73\n",
       "4    South                4.36"
      ]
     },
     "execution_count": 180,
     "metadata": {},
     "output_type": "execute_result"
    }
   ],
   "source": [
    "team.avg_years_enrolled_by_team(params=params)"
   ]
  },
  {
   "cell_type": "markdown",
   "metadata": {},
   "source": [
    "### Number of Ppts in Custodial Care by Team"
   ]
  },
  {
   "cell_type": "code",
   "execution_count": 181,
   "metadata": {},
   "outputs": [
    {
     "data": {
      "text/html": [
       "<div>\n",
       "<style scoped>\n",
       "    .dataframe tbody tr th:only-of-type {\n",
       "        vertical-align: middle;\n",
       "    }\n",
       "\n",
       "    .dataframe tbody tr th {\n",
       "        vertical-align: top;\n",
       "    }\n",
       "\n",
       "    .dataframe thead th {\n",
       "        text-align: right;\n",
       "    }\n",
       "</style>\n",
       "<table border=\"1\" class=\"dataframe\">\n",
       "  <thead>\n",
       "    <tr style=\"text-align: right;\">\n",
       "      <th></th>\n",
       "      <th>team</th>\n",
       "      <th>ppts in custodial</th>\n",
       "    </tr>\n",
       "  </thead>\n",
       "  <tbody>\n",
       "    <tr>\n",
       "      <th>0</th>\n",
       "      <td>Central</td>\n",
       "      <td>18</td>\n",
       "    </tr>\n",
       "    <tr>\n",
       "      <th>1</th>\n",
       "      <td>East</td>\n",
       "      <td>15</td>\n",
       "    </tr>\n",
       "    <tr>\n",
       "      <th>2</th>\n",
       "      <td>North</td>\n",
       "      <td>4</td>\n",
       "    </tr>\n",
       "    <tr>\n",
       "      <th>3</th>\n",
       "      <td>South</td>\n",
       "      <td>10</td>\n",
       "    </tr>\n",
       "  </tbody>\n",
       "</table>\n",
       "</div>"
      ],
      "text/plain": [
       "      team  ppts in custodial\n",
       "0  Central                 18\n",
       "1     East                 15\n",
       "2    North                  4\n",
       "3    South                 10"
      ]
     },
     "execution_count": 181,
     "metadata": {},
     "output_type": "execute_result"
    }
   ],
   "source": [
    "team.ppts_in_custodial_by_team(params=params)"
   ]
  },
  {
   "cell_type": "markdown",
   "metadata": {},
   "source": [
    "### Number of Ppts on Team"
   ]
  },
  {
   "cell_type": "code",
   "execution_count": 182,
   "metadata": {},
   "outputs": [
    {
     "data": {
      "text/html": [
       "<div>\n",
       "<style scoped>\n",
       "    .dataframe tbody tr th:only-of-type {\n",
       "        vertical-align: middle;\n",
       "    }\n",
       "\n",
       "    .dataframe tbody tr th {\n",
       "        vertical-align: top;\n",
       "    }\n",
       "\n",
       "    .dataframe thead th {\n",
       "        text-align: right;\n",
       "    }\n",
       "</style>\n",
       "<table border=\"1\" class=\"dataframe\">\n",
       "  <thead>\n",
       "    <tr style=\"text-align: right;\">\n",
       "      <th></th>\n",
       "      <th>team</th>\n",
       "      <th>participants</th>\n",
       "    </tr>\n",
       "  </thead>\n",
       "  <tbody>\n",
       "    <tr>\n",
       "      <th>0</th>\n",
       "      <td>None</td>\n",
       "      <td>1</td>\n",
       "    </tr>\n",
       "    <tr>\n",
       "      <th>1</th>\n",
       "      <td>Central</td>\n",
       "      <td>84</td>\n",
       "    </tr>\n",
       "    <tr>\n",
       "      <th>2</th>\n",
       "      <td>East</td>\n",
       "      <td>89</td>\n",
       "    </tr>\n",
       "    <tr>\n",
       "      <th>3</th>\n",
       "      <td>North</td>\n",
       "      <td>66</td>\n",
       "    </tr>\n",
       "    <tr>\n",
       "      <th>4</th>\n",
       "      <td>South</td>\n",
       "      <td>76</td>\n",
       "    </tr>\n",
       "  </tbody>\n",
       "</table>\n",
       "</div>"
      ],
      "text/plain": [
       "      team  participants\n",
       "0     None             1\n",
       "1  Central            84\n",
       "2     East            89\n",
       "3    North            66\n",
       "4    South            76"
      ]
     },
     "execution_count": 182,
     "metadata": {},
     "output_type": "execute_result"
    }
   ],
   "source": [
    "team.ppts_on_team(params=params)"
   ]
  },
  {
   "cell_type": "markdown",
   "metadata": {},
   "source": [
    "### Member Months during Period for Team"
   ]
  },
  {
   "cell_type": "code",
   "execution_count": 185,
   "metadata": {},
   "outputs": [
    {
     "data": {
      "text/html": [
       "<div>\n",
       "<style scoped>\n",
       "    .dataframe tbody tr th:only-of-type {\n",
       "        vertical-align: middle;\n",
       "    }\n",
       "\n",
       "    .dataframe tbody tr th {\n",
       "        vertical-align: top;\n",
       "    }\n",
       "\n",
       "    .dataframe thead th {\n",
       "        text-align: right;\n",
       "    }\n",
       "</style>\n",
       "<table border=\"1\" class=\"dataframe\">\n",
       "  <thead>\n",
       "    <tr style=\"text-align: right;\">\n",
       "      <th></th>\n",
       "      <th>team</th>\n",
       "      <th>participants</th>\n",
       "    </tr>\n",
       "  </thead>\n",
       "  <tbody>\n",
       "    <tr>\n",
       "      <th>0</th>\n",
       "      <td>None</td>\n",
       "      <td>3</td>\n",
       "    </tr>\n",
       "    <tr>\n",
       "      <th>1</th>\n",
       "      <td>Central</td>\n",
       "      <td>243</td>\n",
       "    </tr>\n",
       "    <tr>\n",
       "      <th>2</th>\n",
       "      <td>East</td>\n",
       "      <td>259</td>\n",
       "    </tr>\n",
       "    <tr>\n",
       "      <th>3</th>\n",
       "      <td>North</td>\n",
       "      <td>187</td>\n",
       "    </tr>\n",
       "    <tr>\n",
       "      <th>4</th>\n",
       "      <td>South</td>\n",
       "      <td>222</td>\n",
       "    </tr>\n",
       "  </tbody>\n",
       "</table>\n",
       "</div>"
      ],
      "text/plain": [
       "      team  participants\n",
       "0     None             3\n",
       "1  Central           243\n",
       "2     East           259\n",
       "3    North           187\n",
       "4    South           222"
      ]
     },
     "execution_count": 185,
     "metadata": {},
     "output_type": "execute_result"
    }
   ],
   "source": [
    "team.team_member_months(params=params)"
   ]
  },
  {
   "cell_type": "markdown",
   "metadata": {},
   "source": [
    "### Mortality Rate by Team"
   ]
  },
  {
   "cell_type": "code",
   "execution_count": 186,
   "metadata": {},
   "outputs": [
    {
     "data": {
      "text/html": [
       "<div>\n",
       "<style scoped>\n",
       "    .dataframe tbody tr th:only-of-type {\n",
       "        vertical-align: middle;\n",
       "    }\n",
       "\n",
       "    .dataframe tbody tr th {\n",
       "        vertical-align: top;\n",
       "    }\n",
       "\n",
       "    .dataframe thead th {\n",
       "        text-align: right;\n",
       "    }\n",
       "</style>\n",
       "<table border=\"1\" class=\"dataframe\">\n",
       "  <thead>\n",
       "    <tr style=\"text-align: right;\">\n",
       "      <th></th>\n",
       "      <th>team</th>\n",
       "      <th>mortality rate</th>\n",
       "    </tr>\n",
       "  </thead>\n",
       "  <tbody>\n",
       "    <tr>\n",
       "      <th>0</th>\n",
       "      <td>None</td>\n",
       "      <td>NaN</td>\n",
       "    </tr>\n",
       "    <tr>\n",
       "      <th>1</th>\n",
       "      <td>Central</td>\n",
       "      <td>0.005758</td>\n",
       "    </tr>\n",
       "    <tr>\n",
       "      <th>2</th>\n",
       "      <td>East</td>\n",
       "      <td>0.004067</td>\n",
       "    </tr>\n",
       "    <tr>\n",
       "      <th>3</th>\n",
       "      <td>North</td>\n",
       "      <td>0.007161</td>\n",
       "    </tr>\n",
       "    <tr>\n",
       "      <th>4</th>\n",
       "      <td>South</td>\n",
       "      <td>0.006661</td>\n",
       "    </tr>\n",
       "  </tbody>\n",
       "</table>\n",
       "</div>"
      ],
      "text/plain": [
       "      team  mortality rate\n",
       "0     None             NaN\n",
       "1  Central        0.005758\n",
       "2     East        0.004067\n",
       "3    North        0.007161\n",
       "4    South        0.006661"
      ]
     },
     "execution_count": 186,
     "metadata": {},
     "output_type": "execute_result"
    }
   ],
   "source": [
    "team.mortality_by_team(params=(\"2017-01-01\", \"2019-10-01\"))"
   ]
  },
  {
   "cell_type": "markdown",
   "metadata": {},
   "source": [
    "### Deaths by Team"
   ]
  },
  {
   "cell_type": "code",
   "execution_count": 187,
   "metadata": {},
   "outputs": [
    {
     "data": {
      "text/html": [
       "<div>\n",
       "<style scoped>\n",
       "    .dataframe tbody tr th:only-of-type {\n",
       "        vertical-align: middle;\n",
       "    }\n",
       "\n",
       "    .dataframe tbody tr th {\n",
       "        vertical-align: top;\n",
       "    }\n",
       "\n",
       "    .dataframe thead th {\n",
       "        text-align: right;\n",
       "    }\n",
       "</style>\n",
       "<table border=\"1\" class=\"dataframe\">\n",
       "  <thead>\n",
       "    <tr style=\"text-align: right;\">\n",
       "      <th></th>\n",
       "      <th>team</th>\n",
       "      <th>deaths</th>\n",
       "    </tr>\n",
       "  </thead>\n",
       "  <tbody>\n",
       "    <tr>\n",
       "      <th>0</th>\n",
       "      <td>Central</td>\n",
       "      <td>2</td>\n",
       "    </tr>\n",
       "    <tr>\n",
       "      <th>1</th>\n",
       "      <td>East</td>\n",
       "      <td>3</td>\n",
       "    </tr>\n",
       "    <tr>\n",
       "      <th>2</th>\n",
       "      <td>North</td>\n",
       "      <td>3</td>\n",
       "    </tr>\n",
       "    <tr>\n",
       "      <th>3</th>\n",
       "      <td>South</td>\n",
       "      <td>2</td>\n",
       "    </tr>\n",
       "  </tbody>\n",
       "</table>\n",
       "</div>"
      ],
      "text/plain": [
       "      team  deaths\n",
       "0  Central       2\n",
       "1     East       3\n",
       "2    North       3\n",
       "3    South       2"
      ]
     },
     "execution_count": 187,
     "metadata": {},
     "output_type": "execute_result"
    }
   ],
   "source": [
    "team.mortality_by_team(params=params, total=True)"
   ]
  },
  {
   "cell_type": "markdown",
   "metadata": {},
   "source": [
    "### Mortality within 30 Days of Discharge"
   ]
  },
  {
   "cell_type": "code",
   "execution_count": 188,
   "metadata": {},
   "outputs": [
    {
     "data": {
      "text/html": [
       "<div>\n",
       "<style scoped>\n",
       "    .dataframe tbody tr th:only-of-type {\n",
       "        vertical-align: middle;\n",
       "    }\n",
       "\n",
       "    .dataframe tbody tr th {\n",
       "        vertical-align: top;\n",
       "    }\n",
       "\n",
       "    .dataframe thead th {\n",
       "        text-align: right;\n",
       "    }\n",
       "</style>\n",
       "<table border=\"1\" class=\"dataframe\">\n",
       "  <thead>\n",
       "    <tr style=\"text-align: right;\">\n",
       "      <th></th>\n",
       "      <th>team</th>\n",
       "      <th>30day_death_discharge</th>\n",
       "    </tr>\n",
       "  </thead>\n",
       "  <tbody>\n",
       "    <tr>\n",
       "      <th>0</th>\n",
       "      <td>South</td>\n",
       "      <td>1</td>\n",
       "    </tr>\n",
       "    <tr>\n",
       "      <th>1</th>\n",
       "      <td>East</td>\n",
       "      <td>0</td>\n",
       "    </tr>\n",
       "    <tr>\n",
       "      <th>2</th>\n",
       "      <td>Central</td>\n",
       "      <td>0</td>\n",
       "    </tr>\n",
       "    <tr>\n",
       "      <th>3</th>\n",
       "      <td>North</td>\n",
       "      <td>1</td>\n",
       "    </tr>\n",
       "  </tbody>\n",
       "</table>\n",
       "</div>"
      ],
      "text/plain": [
       "      team  30day_death_discharge\n",
       "0    South                      1\n",
       "1     East                      0\n",
       "2  Central                      0\n",
       "3    North                      1"
      ]
     },
     "execution_count": 188,
     "metadata": {},
     "output_type": "execute_result"
    }
   ],
   "source": [
    "team.mortality_within_30days_of_discharge_by_team_df(params=params)"
   ]
  },
  {
   "cell_type": "markdown",
   "metadata": {},
   "source": [
    "### Percent of Discharges with a Death within 30 Days by Team"
   ]
  },
  {
   "cell_type": "code",
   "execution_count": 189,
   "metadata": {},
   "outputs": [
    {
     "data": {
      "text/html": [
       "<div>\n",
       "<style scoped>\n",
       "    .dataframe tbody tr th:only-of-type {\n",
       "        vertical-align: middle;\n",
       "    }\n",
       "\n",
       "    .dataframe tbody tr th {\n",
       "        vertical-align: top;\n",
       "    }\n",
       "\n",
       "    .dataframe thead th {\n",
       "        text-align: right;\n",
       "    }\n",
       "</style>\n",
       "<table border=\"1\" class=\"dataframe\">\n",
       "  <thead>\n",
       "    <tr style=\"text-align: right;\">\n",
       "      <th></th>\n",
       "      <th>team</th>\n",
       "      <th>% of discharges with death within 30 days</th>\n",
       "    </tr>\n",
       "  </thead>\n",
       "  <tbody>\n",
       "    <tr>\n",
       "      <th>0</th>\n",
       "      <td>South</td>\n",
       "      <td>4.347826</td>\n",
       "    </tr>\n",
       "    <tr>\n",
       "      <th>1</th>\n",
       "      <td>East</td>\n",
       "      <td>0.000000</td>\n",
       "    </tr>\n",
       "    <tr>\n",
       "      <th>2</th>\n",
       "      <td>Central</td>\n",
       "      <td>0.000000</td>\n",
       "    </tr>\n",
       "    <tr>\n",
       "      <th>3</th>\n",
       "      <td>North</td>\n",
       "      <td>5.263158</td>\n",
       "    </tr>\n",
       "  </tbody>\n",
       "</table>\n",
       "</div>"
      ],
      "text/plain": [
       "      team  % of discharges with death within 30 days\n",
       "0    South                                   4.347826\n",
       "1     East                                   0.000000\n",
       "2  Central                                   0.000000\n",
       "3    North                                   5.263158"
      ]
     },
     "execution_count": 189,
     "metadata": {},
     "output_type": "execute_result"
    }
   ],
   "source": [
    "team.percent_of_discharges_with_mortality_in_30_by_team(params=params)"
   ]
  },
  {
   "cell_type": "markdown",
   "metadata": {},
   "source": [
    "### Mortality within 30 Days of Discharge Rate by Team"
   ]
  },
  {
   "cell_type": "code",
   "execution_count": 190,
   "metadata": {},
   "outputs": [
    {
     "data": {
      "text/html": [
       "<div>\n",
       "<style scoped>\n",
       "    .dataframe tbody tr th:only-of-type {\n",
       "        vertical-align: middle;\n",
       "    }\n",
       "\n",
       "    .dataframe tbody tr th {\n",
       "        vertical-align: top;\n",
       "    }\n",
       "\n",
       "    .dataframe thead th {\n",
       "        text-align: right;\n",
       "    }\n",
       "</style>\n",
       "<table border=\"1\" class=\"dataframe\">\n",
       "  <thead>\n",
       "    <tr style=\"text-align: right;\">\n",
       "      <th></th>\n",
       "      <th>team</th>\n",
       "      <th>death within 30 days of discharge date</th>\n",
       "    </tr>\n",
       "  </thead>\n",
       "  <tbody>\n",
       "    <tr>\n",
       "      <th>0</th>\n",
       "      <td>South</td>\n",
       "      <td>0.500000</td>\n",
       "    </tr>\n",
       "    <tr>\n",
       "      <th>1</th>\n",
       "      <td>East</td>\n",
       "      <td>0.000000</td>\n",
       "    </tr>\n",
       "    <tr>\n",
       "      <th>2</th>\n",
       "      <td>Central</td>\n",
       "      <td>0.000000</td>\n",
       "    </tr>\n",
       "    <tr>\n",
       "      <th>3</th>\n",
       "      <td>North</td>\n",
       "      <td>0.333333</td>\n",
       "    </tr>\n",
       "  </tbody>\n",
       "</table>\n",
       "</div>"
      ],
      "text/plain": [
       "      team  death within 30 days of discharge date\n",
       "0    South                                0.500000\n",
       "1     East                                0.000000\n",
       "2  Central                                0.000000\n",
       "3    North                                0.333333"
      ]
     },
     "execution_count": 190,
     "metadata": {},
     "output_type": "execute_result"
    }
   ],
   "source": [
    "team.mortality_within_30days_of_discharge_rate_by_team(params=params)"
   ]
  },
  {
   "cell_type": "markdown",
   "metadata": {},
   "source": [
    "### Percent of Ppts with No Acute Admission Since Enrollment by Team"
   ]
  },
  {
   "cell_type": "code",
   "execution_count": 191,
   "metadata": {},
   "outputs": [
    {
     "data": {
      "text/html": [
       "<div>\n",
       "<style scoped>\n",
       "    .dataframe tbody tr th:only-of-type {\n",
       "        vertical-align: middle;\n",
       "    }\n",
       "\n",
       "    .dataframe tbody tr th {\n",
       "        vertical-align: top;\n",
       "    }\n",
       "\n",
       "    .dataframe thead th {\n",
       "        text-align: right;\n",
       "    }\n",
       "</style>\n",
       "<table border=\"1\" class=\"dataframe\">\n",
       "  <thead>\n",
       "    <tr style=\"text-align: right;\">\n",
       "      <th></th>\n",
       "      <th>team</th>\n",
       "      <th>percent with no admissions since enrollment</th>\n",
       "    </tr>\n",
       "  </thead>\n",
       "  <tbody>\n",
       "    <tr>\n",
       "      <th>0</th>\n",
       "      <td>Central</td>\n",
       "      <td>13.168724</td>\n",
       "    </tr>\n",
       "    <tr>\n",
       "      <th>1</th>\n",
       "      <td>East</td>\n",
       "      <td>15.830116</td>\n",
       "    </tr>\n",
       "    <tr>\n",
       "      <th>2</th>\n",
       "      <td>North</td>\n",
       "      <td>13.368984</td>\n",
       "    </tr>\n",
       "    <tr>\n",
       "      <th>3</th>\n",
       "      <td>South</td>\n",
       "      <td>12.162162</td>\n",
       "    </tr>\n",
       "    <tr>\n",
       "      <th>4</th>\n",
       "      <td>None</td>\n",
       "      <td>NaN</td>\n",
       "    </tr>\n",
       "  </tbody>\n",
       "</table>\n",
       "</div>"
      ],
      "text/plain": [
       "      team  percent with no admissions since enrollment\n",
       "0  Central                                    13.168724\n",
       "1     East                                    15.830116\n",
       "2    North                                    13.368984\n",
       "3    South                                    12.162162\n",
       "4     None                                          NaN"
      ]
     },
     "execution_count": 191,
     "metadata": {},
     "output_type": "execute_result"
    }
   ],
   "source": [
    "team.no_hosp_admission_since_enrollment_by_team(params=params)"
   ]
  },
  {
   "cell_type": "markdown",
   "metadata": {},
   "source": [
    "### Pressure Ulcer Rate by Team"
   ]
  },
  {
   "cell_type": "code",
   "execution_count": 192,
   "metadata": {},
   "outputs": [
    {
     "data": {
      "text/html": [
       "<div>\n",
       "<style scoped>\n",
       "    .dataframe tbody tr th:only-of-type {\n",
       "        vertical-align: middle;\n",
       "    }\n",
       "\n",
       "    .dataframe tbody tr th {\n",
       "        vertical-align: top;\n",
       "    }\n",
       "\n",
       "    .dataframe thead th {\n",
       "        text-align: right;\n",
       "    }\n",
       "</style>\n",
       "<table border=\"1\" class=\"dataframe\">\n",
       "  <thead>\n",
       "    <tr style=\"text-align: right;\">\n",
       "      <th></th>\n",
       "      <th>team</th>\n",
       "      <th>Wound Rate</th>\n",
       "    </tr>\n",
       "  </thead>\n",
       "  <tbody>\n",
       "    <tr>\n",
       "      <th>0</th>\n",
       "      <td>North</td>\n",
       "      <td>0.042781</td>\n",
       "    </tr>\n",
       "    <tr>\n",
       "      <th>1</th>\n",
       "      <td>None</td>\n",
       "      <td>NaN</td>\n",
       "    </tr>\n",
       "    <tr>\n",
       "      <th>2</th>\n",
       "      <td>Central</td>\n",
       "      <td>NaN</td>\n",
       "    </tr>\n",
       "    <tr>\n",
       "      <th>3</th>\n",
       "      <td>East</td>\n",
       "      <td>NaN</td>\n",
       "    </tr>\n",
       "    <tr>\n",
       "      <th>4</th>\n",
       "      <td>South</td>\n",
       "      <td>NaN</td>\n",
       "    </tr>\n",
       "  </tbody>\n",
       "</table>\n",
       "</div>"
      ],
      "text/plain": [
       "      team  Wound Rate\n",
       "0    North    0.042781\n",
       "1     None         NaN\n",
       "2  Central         NaN\n",
       "3     East         NaN\n",
       "4    South         NaN"
      ]
     },
     "execution_count": 192,
     "metadata": {},
     "output_type": "execute_result"
    }
   ],
   "source": [
    "team.pressure_ulcer_rate_by_team(params=params)"
   ]
  },
  {
   "cell_type": "markdown",
   "metadata": {},
   "source": [
    "### Incidents by Team (Falls/Med Errors/Wounds/Burns/Infections)"
   ]
  },
  {
   "cell_type": "code",
   "execution_count": 193,
   "metadata": {},
   "outputs": [
    {
     "data": {
      "text/html": [
       "<div>\n",
       "<style scoped>\n",
       "    .dataframe tbody tr th:only-of-type {\n",
       "        vertical-align: middle;\n",
       "    }\n",
       "\n",
       "    .dataframe tbody tr th {\n",
       "        vertical-align: top;\n",
       "    }\n",
       "\n",
       "    .dataframe thead th {\n",
       "        text-align: right;\n",
       "    }\n",
       "</style>\n",
       "<table border=\"1\" class=\"dataframe\">\n",
       "  <thead>\n",
       "    <tr style=\"text-align: right;\">\n",
       "      <th></th>\n",
       "      <th>team</th>\n",
       "      <th>falls</th>\n",
       "    </tr>\n",
       "  </thead>\n",
       "  <tbody>\n",
       "    <tr>\n",
       "      <th>0</th>\n",
       "      <td>Central</td>\n",
       "      <td>31</td>\n",
       "    </tr>\n",
       "    <tr>\n",
       "      <th>1</th>\n",
       "      <td>East</td>\n",
       "      <td>30</td>\n",
       "    </tr>\n",
       "    <tr>\n",
       "      <th>2</th>\n",
       "      <td>North</td>\n",
       "      <td>27</td>\n",
       "    </tr>\n",
       "    <tr>\n",
       "      <th>3</th>\n",
       "      <td>South</td>\n",
       "      <td>33</td>\n",
       "    </tr>\n",
       "  </tbody>\n",
       "</table>\n",
       "</div>"
      ],
      "text/plain": [
       "      team  falls\n",
       "0  Central     31\n",
       "1     East     30\n",
       "2    North     27\n",
       "3    South     33"
      ]
     },
     "execution_count": 193,
     "metadata": {},
     "output_type": "execute_result"
    }
   ],
   "source": [
    "team.total_incidents_by_team(params=params, incident_table=\"falls\")"
   ]
  },
  {
   "cell_type": "markdown",
   "metadata": {},
   "source": [
    "### Incidents per Member by Team (Falls/Med Errors/Wounds/Burns/Infections)"
   ]
  },
  {
   "cell_type": "code",
   "execution_count": 194,
   "metadata": {},
   "outputs": [
    {
     "data": {
      "text/html": [
       "<div>\n",
       "<style scoped>\n",
       "    .dataframe tbody tr th:only-of-type {\n",
       "        vertical-align: middle;\n",
       "    }\n",
       "\n",
       "    .dataframe tbody tr th {\n",
       "        vertical-align: top;\n",
       "    }\n",
       "\n",
       "    .dataframe thead th {\n",
       "        text-align: right;\n",
       "    }\n",
       "</style>\n",
       "<table border=\"1\" class=\"dataframe\">\n",
       "  <thead>\n",
       "    <tr style=\"text-align: right;\">\n",
       "      <th></th>\n",
       "      <th>team</th>\n",
       "      <th>falls per 100 Ppts</th>\n",
       "    </tr>\n",
       "  </thead>\n",
       "  <tbody>\n",
       "    <tr>\n",
       "      <th>0</th>\n",
       "      <td>Central</td>\n",
       "      <td>12.757202</td>\n",
       "    </tr>\n",
       "    <tr>\n",
       "      <th>1</th>\n",
       "      <td>East</td>\n",
       "      <td>11.583012</td>\n",
       "    </tr>\n",
       "    <tr>\n",
       "      <th>2</th>\n",
       "      <td>North</td>\n",
       "      <td>14.438503</td>\n",
       "    </tr>\n",
       "    <tr>\n",
       "      <th>3</th>\n",
       "      <td>South</td>\n",
       "      <td>14.864865</td>\n",
       "    </tr>\n",
       "    <tr>\n",
       "      <th>4</th>\n",
       "      <td>None</td>\n",
       "      <td>NaN</td>\n",
       "    </tr>\n",
       "  </tbody>\n",
       "</table>\n",
       "</div>"
      ],
      "text/plain": [
       "      team  falls per 100 Ppts\n",
       "0  Central           12.757202\n",
       "1     East           11.583012\n",
       "2    North           14.438503\n",
       "3    South           14.864865\n",
       "4     None                 NaN"
      ]
     },
     "execution_count": 194,
     "metadata": {},
     "output_type": "execute_result"
    }
   ],
   "source": [
    "team.incidents_per_member_by_team(params=params, incident_table=\"falls\")"
   ]
  },
  {
   "cell_type": "markdown",
   "metadata": {},
   "source": [
    "### Number of Ppts with an Incident by Team (Falls/Med Errors/Wounds/Burns/Infections)"
   ]
  },
  {
   "cell_type": "code",
   "execution_count": 195,
   "metadata": {},
   "outputs": [
    {
     "data": {
      "text/html": [
       "<div>\n",
       "<style scoped>\n",
       "    .dataframe tbody tr th:only-of-type {\n",
       "        vertical-align: middle;\n",
       "    }\n",
       "\n",
       "    .dataframe tbody tr th {\n",
       "        vertical-align: top;\n",
       "    }\n",
       "\n",
       "    .dataframe thead th {\n",
       "        text-align: right;\n",
       "    }\n",
       "</style>\n",
       "<table border=\"1\" class=\"dataframe\">\n",
       "  <thead>\n",
       "    <tr style=\"text-align: right;\">\n",
       "      <th></th>\n",
       "      <th>team</th>\n",
       "      <th>individuals w/ falls</th>\n",
       "    </tr>\n",
       "  </thead>\n",
       "  <tbody>\n",
       "    <tr>\n",
       "      <th>0</th>\n",
       "      <td>Central</td>\n",
       "      <td>19</td>\n",
       "    </tr>\n",
       "    <tr>\n",
       "      <th>1</th>\n",
       "      <td>East</td>\n",
       "      <td>27</td>\n",
       "    </tr>\n",
       "    <tr>\n",
       "      <th>2</th>\n",
       "      <td>North</td>\n",
       "      <td>19</td>\n",
       "    </tr>\n",
       "    <tr>\n",
       "      <th>3</th>\n",
       "      <td>South</td>\n",
       "      <td>19</td>\n",
       "    </tr>\n",
       "  </tbody>\n",
       "</table>\n",
       "</div>"
      ],
      "text/plain": [
       "      team  individuals w/ falls\n",
       "0  Central                    19\n",
       "1     East                    27\n",
       "2    North                    19\n",
       "3    South                    19"
      ]
     },
     "execution_count": 195,
     "metadata": {},
     "output_type": "execute_result"
    }
   ],
   "source": [
    "team.ppts_w_incident_by_team(params=params, incident_table=\"falls\")"
   ]
  },
  {
   "cell_type": "markdown",
   "metadata": {},
   "source": [
    "### Create a Time/Value DataFrame for Plotting"
   ]
  },
  {
   "cell_type": "code",
   "execution_count": 196,
   "metadata": {},
   "outputs": [
    {
     "data": {
      "text/html": [
       "<div>\n",
       "<style scoped>\n",
       "    .dataframe tbody tr th:only-of-type {\n",
       "        vertical-align: middle;\n",
       "    }\n",
       "\n",
       "    .dataframe tbody tr th {\n",
       "        vertical-align: top;\n",
       "    }\n",
       "\n",
       "    .dataframe thead th {\n",
       "        text-align: right;\n",
       "    }\n",
       "</style>\n",
       "<table border=\"1\" class=\"dataframe\">\n",
       "  <thead>\n",
       "    <tr style=\"text-align: right;\">\n",
       "      <th></th>\n",
       "      <th>none_census</th>\n",
       "      <th>central_census</th>\n",
       "      <th>east_census</th>\n",
       "      <th>north_census</th>\n",
       "      <th>south_census</th>\n",
       "      <th>month</th>\n",
       "    </tr>\n",
       "  </thead>\n",
       "  <tbody>\n",
       "    <tr>\n",
       "      <th>0</th>\n",
       "      <td>1</td>\n",
       "      <td>80</td>\n",
       "      <td>88</td>\n",
       "      <td>62</td>\n",
       "      <td>73</td>\n",
       "      <td>2019-01-01</td>\n",
       "    </tr>\n",
       "    <tr>\n",
       "      <th>1</th>\n",
       "      <td>1</td>\n",
       "      <td>81</td>\n",
       "      <td>87</td>\n",
       "      <td>62</td>\n",
       "      <td>74</td>\n",
       "      <td>2019-02-01</td>\n",
       "    </tr>\n",
       "    <tr>\n",
       "      <th>2</th>\n",
       "      <td>1</td>\n",
       "      <td>82</td>\n",
       "      <td>84</td>\n",
       "      <td>63</td>\n",
       "      <td>75</td>\n",
       "      <td>2019-03-01</td>\n",
       "    </tr>\n",
       "  </tbody>\n",
       "</table>\n",
       "</div>"
      ],
      "text/plain": [
       "   none_census  central_census  east_census  north_census  south_census  \\\n",
       "0            1              80           88            62            73   \n",
       "1            1              81           87            62            74   \n",
       "2            1              82           84            63            75   \n",
       "\n",
       "        month  \n",
       "0  2019-01-01  \n",
       "1  2019-02-01  \n",
       "2  2019-03-01  "
      ]
     },
     "execution_count": 196,
     "metadata": {},
     "output_type": "execute_result"
    }
   ],
   "source": [
    "team.loop_plot_team_df(team.ppts_on_team, params=params, freq=\"MS\", col_suffix=\"_census\")"
   ]
  },
  {
   "cell_type": "markdown",
   "metadata": {},
   "source": [
    "### Create a Time/Value DataFrame for Plotting"
   ]
  },
  {
   "cell_type": "code",
   "execution_count": 197,
   "metadata": {},
   "outputs": [
    {
     "data": {
      "text/html": [
       "<div>\n",
       "<style scoped>\n",
       "    .dataframe tbody tr th:only-of-type {\n",
       "        vertical-align: middle;\n",
       "    }\n",
       "\n",
       "    .dataframe tbody tr th {\n",
       "        vertical-align: top;\n",
       "    }\n",
       "\n",
       "    .dataframe thead th {\n",
       "        text-align: right;\n",
       "    }\n",
       "</style>\n",
       "<table border=\"1\" class=\"dataframe\">\n",
       "  <thead>\n",
       "    <tr style=\"text-align: right;\">\n",
       "      <th></th>\n",
       "      <th>none_census</th>\n",
       "      <th>central_census</th>\n",
       "      <th>east_census</th>\n",
       "      <th>north_census</th>\n",
       "      <th>south_census</th>\n",
       "      <th>month</th>\n",
       "    </tr>\n",
       "  </thead>\n",
       "  <tbody>\n",
       "    <tr>\n",
       "      <th>0</th>\n",
       "      <td>0</td>\n",
       "      <td>19.0</td>\n",
       "      <td>27.0</td>\n",
       "      <td>19.0</td>\n",
       "      <td>19.0</td>\n",
       "      <td>2019-01-01</td>\n",
       "    </tr>\n",
       "    <tr>\n",
       "      <th>1</th>\n",
       "      <td>0</td>\n",
       "      <td>16.0</td>\n",
       "      <td>23.0</td>\n",
       "      <td>16.0</td>\n",
       "      <td>16.0</td>\n",
       "      <td>2019-02-01</td>\n",
       "    </tr>\n",
       "    <tr>\n",
       "      <th>2</th>\n",
       "      <td>0</td>\n",
       "      <td>17.0</td>\n",
       "      <td>19.0</td>\n",
       "      <td>16.0</td>\n",
       "      <td>16.0</td>\n",
       "      <td>2019-03-01</td>\n",
       "    </tr>\n",
       "  </tbody>\n",
       "</table>\n",
       "</div>"
      ],
      "text/plain": [
       "   none_census  central_census  east_census  north_census  south_census  \\\n",
       "0            0            19.0         27.0          19.0          19.0   \n",
       "1            0            16.0         23.0          16.0          16.0   \n",
       "2            0            17.0         19.0          16.0          16.0   \n",
       "\n",
       "        month  \n",
       "0  2019-01-01  \n",
       "1  2019-02-01  \n",
       "2  2019-03-01  "
      ]
     },
     "execution_count": 197,
     "metadata": {},
     "output_type": "execute_result"
    }
   ],
   "source": [
    "team.loop_plot_team_df(team.ppts_w_incident_by_team,\n",
    "                       params=params,\n",
    "                       freq=\"QS\",\n",
    "                       additional_func_args = [\"falls\"],\n",
    "                       col_suffix=\"_census\")"
   ]
  },
  {
   "cell_type": "markdown",
   "metadata": {},
   "source": [
    "## Agg\n",
    "\n",
    "Defaults to the Agg SQLite database(V:\\Databases\\agg.db), contains a few tables with aggregate data by month or quarter. Mostly used for plotting on the dashboard\n",
    "\n",
    "Add `_q` to any table below to return the data aggregated by quarter instead of month.\n",
    "\n",
    "+ enrollment\n",
    "+ demographics\n",
    "+ falls\n",
    "+ med_errors\n",
    "+ wounds\n",
    "+ burns\n",
    "+ infections\n",
    "+ utilization\n",
    "+ quality\n",
    "+ team_utl\n",
    "+ team_info\n",
    "+ team_incidents\n",
    "+ center_enrollment"
   ]
  },
  {
   "cell_type": "code",
   "execution_count": 198,
   "metadata": {},
   "outputs": [],
   "source": [
    "agg = pu.Agg()"
   ]
  },
  {
   "cell_type": "code",
   "execution_count": 199,
   "metadata": {},
   "outputs": [
    {
     "data": {
      "text/html": [
       "<div>\n",
       "<style scoped>\n",
       "    .dataframe tbody tr th:only-of-type {\n",
       "        vertical-align: middle;\n",
       "    }\n",
       "\n",
       "    .dataframe tbody tr th {\n",
       "        vertical-align: top;\n",
       "    }\n",
       "\n",
       "    .dataframe thead th {\n",
       "        text-align: right;\n",
       "    }\n",
       "</style>\n",
       "<table border=\"1\" class=\"dataframe\">\n",
       "  <thead>\n",
       "    <tr style=\"text-align: right;\">\n",
       "      <th></th>\n",
       "      <th>month</th>\n",
       "      <th>census</th>\n",
       "    </tr>\n",
       "  </thead>\n",
       "  <tbody>\n",
       "    <tr>\n",
       "      <th>0</th>\n",
       "      <td>2019-01-01</td>\n",
       "      <td>302</td>\n",
       "    </tr>\n",
       "    <tr>\n",
       "      <th>1</th>\n",
       "      <td>2019-02-01</td>\n",
       "      <td>303</td>\n",
       "    </tr>\n",
       "    <tr>\n",
       "      <th>2</th>\n",
       "      <td>2019-03-01</td>\n",
       "      <td>305</td>\n",
       "    </tr>\n",
       "    <tr>\n",
       "      <th>3</th>\n",
       "      <td>2019-04-01</td>\n",
       "      <td>311</td>\n",
       "    </tr>\n",
       "    <tr>\n",
       "      <th>4</th>\n",
       "      <td>2019-05-01</td>\n",
       "      <td>310</td>\n",
       "    </tr>\n",
       "    <tr>\n",
       "      <th>5</th>\n",
       "      <td>2019-06-01</td>\n",
       "      <td>313</td>\n",
       "    </tr>\n",
       "    <tr>\n",
       "      <th>6</th>\n",
       "      <td>2019-07-01</td>\n",
       "      <td>317</td>\n",
       "    </tr>\n",
       "    <tr>\n",
       "      <th>7</th>\n",
       "      <td>2019-08-01</td>\n",
       "      <td>320</td>\n",
       "    </tr>\n",
       "    <tr>\n",
       "      <th>8</th>\n",
       "      <td>2019-09-01</td>\n",
       "      <td>335</td>\n",
       "    </tr>\n",
       "    <tr>\n",
       "      <th>9</th>\n",
       "      <td>2019-10-01</td>\n",
       "      <td>335</td>\n",
       "    </tr>\n",
       "  </tbody>\n",
       "</table>\n",
       "</div>"
      ],
      "text/plain": [
       "        month  census\n",
       "0  2019-01-01     302\n",
       "1  2019-02-01     303\n",
       "2  2019-03-01     305\n",
       "3  2019-04-01     311\n",
       "4  2019-05-01     310\n",
       "5  2019-06-01     313\n",
       "6  2019-07-01     317\n",
       "7  2019-08-01     320\n",
       "8  2019-09-01     335\n",
       "9  2019-10-01     335"
      ]
     },
     "execution_count": 199,
     "metadata": {},
     "output_type": "execute_result"
    }
   ],
   "source": [
    "agg.get_plot_df(table=\"enrollment\", col=\"census\", params=(\"2019-01-01\", \"2019-10-01\"))"
   ]
  },
  {
   "cell_type": "code",
   "execution_count": 200,
   "metadata": {},
   "outputs": [
    {
     "data": {
      "text/html": [
       "<div>\n",
       "<style scoped>\n",
       "    .dataframe tbody tr th:only-of-type {\n",
       "        vertical-align: middle;\n",
       "    }\n",
       "\n",
       "    .dataframe tbody tr th {\n",
       "        vertical-align: top;\n",
       "    }\n",
       "\n",
       "    .dataframe thead th {\n",
       "        text-align: right;\n",
       "    }\n",
       "</style>\n",
       "<table border=\"1\" class=\"dataframe\">\n",
       "  <thead>\n",
       "    <tr style=\"text-align: right;\">\n",
       "      <th></th>\n",
       "      <th>month</th>\n",
       "      <th>census</th>\n",
       "    </tr>\n",
       "  </thead>\n",
       "  <tbody>\n",
       "    <tr>\n",
       "      <th>0</th>\n",
       "      <td>2019-01-01</td>\n",
       "      <td>292</td>\n",
       "    </tr>\n",
       "    <tr>\n",
       "      <th>1</th>\n",
       "      <td>2019-04-01</td>\n",
       "      <td>301</td>\n",
       "    </tr>\n",
       "    <tr>\n",
       "      <th>2</th>\n",
       "      <td>2019-07-01</td>\n",
       "      <td>311</td>\n",
       "    </tr>\n",
       "    <tr>\n",
       "      <th>3</th>\n",
       "      <td>2019-10-01</td>\n",
       "      <td>339</td>\n",
       "    </tr>\n",
       "  </tbody>\n",
       "</table>\n",
       "</div>"
      ],
      "text/plain": [
       "        month  census\n",
       "0  2019-01-01     292\n",
       "1  2019-04-01     301\n",
       "2  2019-07-01     311\n",
       "3  2019-10-01     339"
      ]
     },
     "execution_count": 200,
     "metadata": {},
     "output_type": "execute_result"
    }
   ],
   "source": [
    "agg.get_plot_df(table=\"enrollment_q\", col=\"census\", params=(\"2019-01-01\", \"2019-10-01\"))"
   ]
  },
  {
   "cell_type": "code",
   "execution_count": 201,
   "metadata": {},
   "outputs": [
    {
     "data": {
      "text/html": [
       "<div>\n",
       "<style scoped>\n",
       "    .dataframe tbody tr th:only-of-type {\n",
       "        vertical-align: middle;\n",
       "    }\n",
       "\n",
       "    .dataframe tbody tr th {\n",
       "        vertical-align: top;\n",
       "    }\n",
       "\n",
       "    .dataframe thead th {\n",
       "        text-align: right;\n",
       "    }\n",
       "</style>\n",
       "<table border=\"1\" class=\"dataframe\">\n",
       "  <thead>\n",
       "    <tr style=\"text-align: right;\">\n",
       "      <th></th>\n",
       "      <th>month</th>\n",
       "      <th>None</th>\n",
       "      <th>Central</th>\n",
       "      <th>East</th>\n",
       "      <th>North</th>\n",
       "      <th>South</th>\n",
       "    </tr>\n",
       "  </thead>\n",
       "  <tbody>\n",
       "    <tr>\n",
       "      <th>0</th>\n",
       "      <td>2019-01-01</td>\n",
       "      <td>1.0</td>\n",
       "      <td>71.0</td>\n",
       "      <td>77.0</td>\n",
       "      <td>52.0</td>\n",
       "      <td>67.0</td>\n",
       "    </tr>\n",
       "    <tr>\n",
       "      <th>1</th>\n",
       "      <td>2019-02-01</td>\n",
       "      <td>1.0</td>\n",
       "      <td>75.0</td>\n",
       "      <td>78.0</td>\n",
       "      <td>54.0</td>\n",
       "      <td>68.0</td>\n",
       "    </tr>\n",
       "    <tr>\n",
       "      <th>2</th>\n",
       "      <td>2019-03-01</td>\n",
       "      <td>1.0</td>\n",
       "      <td>75.0</td>\n",
       "      <td>78.0</td>\n",
       "      <td>55.0</td>\n",
       "      <td>70.0</td>\n",
       "    </tr>\n",
       "    <tr>\n",
       "      <th>3</th>\n",
       "      <td>2019-04-01</td>\n",
       "      <td>1.0</td>\n",
       "      <td>76.0</td>\n",
       "      <td>79.0</td>\n",
       "      <td>60.0</td>\n",
       "      <td>71.0</td>\n",
       "    </tr>\n",
       "    <tr>\n",
       "      <th>4</th>\n",
       "      <td>2019-05-01</td>\n",
       "      <td>1.0</td>\n",
       "      <td>76.0</td>\n",
       "      <td>80.0</td>\n",
       "      <td>63.0</td>\n",
       "      <td>72.0</td>\n",
       "    </tr>\n",
       "    <tr>\n",
       "      <th>5</th>\n",
       "      <td>2019-06-01</td>\n",
       "      <td>1.0</td>\n",
       "      <td>77.0</td>\n",
       "      <td>80.0</td>\n",
       "      <td>66.0</td>\n",
       "      <td>74.0</td>\n",
       "    </tr>\n",
       "    <tr>\n",
       "      <th>6</th>\n",
       "      <td>2019-07-01</td>\n",
       "      <td>1.0</td>\n",
       "      <td>79.0</td>\n",
       "      <td>82.0</td>\n",
       "      <td>69.0</td>\n",
       "      <td>75.0</td>\n",
       "    </tr>\n",
       "    <tr>\n",
       "      <th>7</th>\n",
       "      <td>2019-08-01</td>\n",
       "      <td>1.0</td>\n",
       "      <td>80.0</td>\n",
       "      <td>83.0</td>\n",
       "      <td>71.0</td>\n",
       "      <td>76.0</td>\n",
       "    </tr>\n",
       "    <tr>\n",
       "      <th>8</th>\n",
       "      <td>2019-09-01</td>\n",
       "      <td>1.0</td>\n",
       "      <td>82.0</td>\n",
       "      <td>89.0</td>\n",
       "      <td>77.0</td>\n",
       "      <td>80.0</td>\n",
       "    </tr>\n",
       "    <tr>\n",
       "      <th>9</th>\n",
       "      <td>2019-10-01</td>\n",
       "      <td>1.0</td>\n",
       "      <td>84.0</td>\n",
       "      <td>90.0</td>\n",
       "      <td>78.0</td>\n",
       "      <td>82.0</td>\n",
       "    </tr>\n",
       "  </tbody>\n",
       "</table>\n",
       "</div>"
      ],
      "text/plain": [
       "        month  None  Central  East  North  South\n",
       "0  2019-01-01   1.0     71.0  77.0   52.0   67.0\n",
       "1  2019-02-01   1.0     75.0  78.0   54.0   68.0\n",
       "2  2019-03-01   1.0     75.0  78.0   55.0   70.0\n",
       "3  2019-04-01   1.0     76.0  79.0   60.0   71.0\n",
       "4  2019-05-01   1.0     76.0  80.0   63.0   72.0\n",
       "5  2019-06-01   1.0     77.0  80.0   66.0   74.0\n",
       "6  2019-07-01   1.0     79.0  82.0   69.0   75.0\n",
       "7  2019-08-01   1.0     80.0  83.0   71.0   76.0\n",
       "8  2019-09-01   1.0     82.0  89.0   77.0   80.0\n",
       "9  2019-10-01   1.0     84.0  90.0   78.0   82.0"
      ]
     },
     "execution_count": 201,
     "metadata": {},
     "output_type": "execute_result"
    }
   ],
   "source": [
    "agg.team_plot_df(table=\"team_info\", col=\"ppts\", params=(\"2019-01-01\", \"2019-10-01\"))"
   ]
  },
  {
   "cell_type": "code",
   "execution_count": 202,
   "metadata": {},
   "outputs": [
    {
     "data": {
      "text/html": [
       "<div>\n",
       "<style scoped>\n",
       "    .dataframe tbody tr th:only-of-type {\n",
       "        vertical-align: middle;\n",
       "    }\n",
       "\n",
       "    .dataframe tbody tr th {\n",
       "        vertical-align: top;\n",
       "    }\n",
       "\n",
       "    .dataframe thead th {\n",
       "        text-align: right;\n",
       "    }\n",
       "</style>\n",
       "<table border=\"1\" class=\"dataframe\">\n",
       "  <thead>\n",
       "    <tr style=\"text-align: right;\">\n",
       "      <th></th>\n",
       "      <th>month</th>\n",
       "      <th>None</th>\n",
       "      <th>Central</th>\n",
       "      <th>East</th>\n",
       "      <th>North</th>\n",
       "      <th>South</th>\n",
       "    </tr>\n",
       "  </thead>\n",
       "  <tbody>\n",
       "    <tr>\n",
       "      <th>0</th>\n",
       "      <td>2019-01-01</td>\n",
       "      <td>0</td>\n",
       "      <td>14.0</td>\n",
       "      <td>9.0</td>\n",
       "      <td>3.0</td>\n",
       "      <td>10.0</td>\n",
       "    </tr>\n",
       "    <tr>\n",
       "      <th>1</th>\n",
       "      <td>2019-04-01</td>\n",
       "      <td>0</td>\n",
       "      <td>12.0</td>\n",
       "      <td>13.0</td>\n",
       "      <td>3.0</td>\n",
       "      <td>11.0</td>\n",
       "    </tr>\n",
       "    <tr>\n",
       "      <th>2</th>\n",
       "      <td>2019-07-01</td>\n",
       "      <td>0</td>\n",
       "      <td>16.0</td>\n",
       "      <td>16.0</td>\n",
       "      <td>2.0</td>\n",
       "      <td>18.0</td>\n",
       "    </tr>\n",
       "    <tr>\n",
       "      <th>3</th>\n",
       "      <td>2019-10-01</td>\n",
       "      <td>0</td>\n",
       "      <td>16.0</td>\n",
       "      <td>18.0</td>\n",
       "      <td>5.0</td>\n",
       "      <td>17.0</td>\n",
       "    </tr>\n",
       "  </tbody>\n",
       "</table>\n",
       "</div>"
      ],
      "text/plain": [
       "        month  None  Central  East  North  South\n",
       "0  2019-01-01     0     14.0   9.0    3.0   10.0\n",
       "1  2019-04-01     0     12.0  13.0    3.0   11.0\n",
       "2  2019-07-01     0     16.0  16.0    2.0   18.0\n",
       "3  2019-10-01     0     16.0  18.0    5.0   17.0"
      ]
     },
     "execution_count": 202,
     "metadata": {},
     "output_type": "execute_result"
    }
   ],
   "source": [
    "agg.team_plot_df(table=\"team_utl_q\", col=\"custodial_ppts\", params=(\"2019-01-01\", \"2019-10-01\"))"
   ]
  },
  {
   "cell_type": "markdown",
   "metadata": {},
   "source": [
    "# WIP(Beta) Classes"
   ]
  },
  {
   "cell_type": "markdown",
   "metadata": {},
   "source": [
    "## Participant"
   ]
  },
  {
   "cell_type": "code",
   "execution_count": 203,
   "metadata": {},
   "outputs": [],
   "source": [
    "ppt = pu.Participant()"
   ]
  },
  {
   "cell_type": "markdown",
   "metadata": {},
   "source": [
    "### Utilization Related to Ppt in Period"
   ]
  },
  {
   "cell_type": "code",
   "execution_count": 204,
   "metadata": {},
   "outputs": [
    {
     "data": {
      "text/html": [
       "<div>\n",
       "<style scoped>\n",
       "    .dataframe tbody tr th:only-of-type {\n",
       "        vertical-align: middle;\n",
       "    }\n",
       "\n",
       "    .dataframe tbody tr th {\n",
       "        vertical-align: top;\n",
       "    }\n",
       "\n",
       "    .dataframe thead th {\n",
       "        text-align: right;\n",
       "    }\n",
       "</style>\n",
       "<table border=\"1\" class=\"dataframe\">\n",
       "  <thead>\n",
       "    <tr style=\"text-align: right;\">\n",
       "      <th></th>\n",
       "      <th>member_id</th>\n",
       "      <th>admission_date</th>\n",
       "      <th>discharge_date</th>\n",
       "      <th>los</th>\n",
       "      <th>facility</th>\n",
       "      <th>discharge_disposition</th>\n",
       "      <th>admission_scheduled</th>\n",
       "      <th>admit_reason</th>\n",
       "      <th>diagnosis</th>\n",
       "      <th>readmit</th>\n",
       "      <th>admission_type</th>\n",
       "      <th>w_six_months</th>\n",
       "      <th>dow</th>\n",
       "      <th>er</th>\n",
       "      <th>days_since_last_admission</th>\n",
       "      <th>visit_id</th>\n",
       "    </tr>\n",
       "  </thead>\n",
       "  <tbody>\n",
       "    <tr>\n",
       "      <th>0</th>\n",
       "      <td>100811</td>\n",
       "      <td>2018-10-14</td>\n",
       "      <td>2018-10-17</td>\n",
       "      <td>3</td>\n",
       "      <td>Rhode Island Hospital</td>\n",
       "      <td>Assisted Living Facility</td>\n",
       "      <td>Emergent Unscheduled</td>\n",
       "      <td>r/o MI</td>\n",
       "      <td>None</td>\n",
       "      <td>No</td>\n",
       "      <td>Acute Hospital</td>\n",
       "      <td>0</td>\n",
       "      <td>Sunday</td>\n",
       "      <td>1</td>\n",
       "      <td>254.0</td>\n",
       "      <td>20281825</td>\n",
       "    </tr>\n",
       "    <tr>\n",
       "      <th>1</th>\n",
       "      <td>100811</td>\n",
       "      <td>2018-10-18</td>\n",
       "      <td>2018-10-19</td>\n",
       "      <td>1</td>\n",
       "      <td>Rhode Island Hospital</td>\n",
       "      <td>Assisted Living Facility</td>\n",
       "      <td>Emergent Unscheduled</td>\n",
       "      <td>chest pain</td>\n",
       "      <td>None</td>\n",
       "      <td>Yes</td>\n",
       "      <td>Acute Hospital</td>\n",
       "      <td>0</td>\n",
       "      <td>Thursday</td>\n",
       "      <td>1</td>\n",
       "      <td>1.0</td>\n",
       "      <td>20281829</td>\n",
       "    </tr>\n",
       "    <tr>\n",
       "      <th>2</th>\n",
       "      <td>100811</td>\n",
       "      <td>2018-10-27</td>\n",
       "      <td>2018-10-28</td>\n",
       "      <td>1</td>\n",
       "      <td>Rhode Island Hospital</td>\n",
       "      <td>Assisted Living Facility</td>\n",
       "      <td>Emergent Unscheduled</td>\n",
       "      <td>rapid heartbeat</td>\n",
       "      <td>None</td>\n",
       "      <td>Yes</td>\n",
       "      <td>Acute Hospital</td>\n",
       "      <td>0</td>\n",
       "      <td>Saturday</td>\n",
       "      <td>1</td>\n",
       "      <td>8.0</td>\n",
       "      <td>20281838</td>\n",
       "    </tr>\n",
       "    <tr>\n",
       "      <th>3</th>\n",
       "      <td>100811</td>\n",
       "      <td>2018-12-22</td>\n",
       "      <td>2018-12-27</td>\n",
       "      <td>5</td>\n",
       "      <td>Rhode Island Hospital</td>\n",
       "      <td>Assisted Living Facility</td>\n",
       "      <td>Emergent Unscheduled</td>\n",
       "      <td>None</td>\n",
       "      <td>None</td>\n",
       "      <td>No</td>\n",
       "      <td>Acute Hospital</td>\n",
       "      <td>0</td>\n",
       "      <td>Saturday</td>\n",
       "      <td>1</td>\n",
       "      <td>55.0</td>\n",
       "      <td>20282033</td>\n",
       "    </tr>\n",
       "    <tr>\n",
       "      <th>4</th>\n",
       "      <td>100811</td>\n",
       "      <td>2018-12-27</td>\n",
       "      <td>2019-01-09</td>\n",
       "      <td>13</td>\n",
       "      <td>Rhode Island Hospital</td>\n",
       "      <td>Nursing home or rehabilitation facility</td>\n",
       "      <td>Emergent Unscheduled</td>\n",
       "      <td>PNA</td>\n",
       "      <td>None</td>\n",
       "      <td>Yes</td>\n",
       "      <td>Acute Hospital</td>\n",
       "      <td>0</td>\n",
       "      <td>Thursday</td>\n",
       "      <td>1</td>\n",
       "      <td>0.0</td>\n",
       "      <td>20282038</td>\n",
       "    </tr>\n",
       "    <tr>\n",
       "      <th>5</th>\n",
       "      <td>100811</td>\n",
       "      <td>2019-01-10</td>\n",
       "      <td>2019-01-14</td>\n",
       "      <td>4</td>\n",
       "      <td>Roger Williams Medical Center</td>\n",
       "      <td>Nursing home or rehabilitation facility</td>\n",
       "      <td>Emergent Unscheduled</td>\n",
       "      <td>chest pain</td>\n",
       "      <td>None</td>\n",
       "      <td>Yes</td>\n",
       "      <td>Acute Hospital</td>\n",
       "      <td>0</td>\n",
       "      <td>Thursday</td>\n",
       "      <td>1</td>\n",
       "      <td>1.0</td>\n",
       "      <td>20290921</td>\n",
       "    </tr>\n",
       "    <tr>\n",
       "      <th>6</th>\n",
       "      <td>100811</td>\n",
       "      <td>2019-01-25</td>\n",
       "      <td>2019-01-29</td>\n",
       "      <td>4</td>\n",
       "      <td>Roger Williams Medical Center</td>\n",
       "      <td>Nursing home or rehabilitation facility</td>\n",
       "      <td>Emergent Unscheduled</td>\n",
       "      <td>NSTEMI</td>\n",
       "      <td>None</td>\n",
       "      <td>Yes</td>\n",
       "      <td>Acute Hospital</td>\n",
       "      <td>0</td>\n",
       "      <td>Friday</td>\n",
       "      <td>1</td>\n",
       "      <td>11.0</td>\n",
       "      <td>20290936</td>\n",
       "    </tr>\n",
       "    <tr>\n",
       "      <th>7</th>\n",
       "      <td>100811</td>\n",
       "      <td>2019-02-24</td>\n",
       "      <td>2019-02-25</td>\n",
       "      <td>1</td>\n",
       "      <td>Kent County Memorial Hospital</td>\n",
       "      <td>Nursing home or rehabilitation facility</td>\n",
       "      <td>Emergent Unscheduled</td>\n",
       "      <td>None</td>\n",
       "      <td>None</td>\n",
       "      <td>Yes</td>\n",
       "      <td>Acute Hospital</td>\n",
       "      <td>0</td>\n",
       "      <td>Sunday</td>\n",
       "      <td>1</td>\n",
       "      <td>26.0</td>\n",
       "      <td>20291035</td>\n",
       "    </tr>\n",
       "    <tr>\n",
       "      <th>8</th>\n",
       "      <td>100811</td>\n",
       "      <td>2019-03-17</td>\n",
       "      <td>2019-03-18</td>\n",
       "      <td>1</td>\n",
       "      <td>Kent County Memorial Hospital</td>\n",
       "      <td>Nursing home or rehabilitation facility</td>\n",
       "      <td>Emergent Unscheduled</td>\n",
       "      <td>abd pain</td>\n",
       "      <td>None</td>\n",
       "      <td>Yes</td>\n",
       "      <td>Acute Hospital</td>\n",
       "      <td>0</td>\n",
       "      <td>Sunday</td>\n",
       "      <td>1</td>\n",
       "      <td>20.0</td>\n",
       "      <td>20291128</td>\n",
       "    </tr>\n",
       "  </tbody>\n",
       "</table>\n",
       "</div>"
      ],
      "text/plain": [
       "   member_id admission_date discharge_date  los  \\\n",
       "0     100811     2018-10-14     2018-10-17    3   \n",
       "1     100811     2018-10-18     2018-10-19    1   \n",
       "2     100811     2018-10-27     2018-10-28    1   \n",
       "3     100811     2018-12-22     2018-12-27    5   \n",
       "4     100811     2018-12-27     2019-01-09   13   \n",
       "5     100811     2019-01-10     2019-01-14    4   \n",
       "6     100811     2019-01-25     2019-01-29    4   \n",
       "7     100811     2019-02-24     2019-02-25    1   \n",
       "8     100811     2019-03-17     2019-03-18    1   \n",
       "\n",
       "                        facility                    discharge_disposition  \\\n",
       "0          Rhode Island Hospital                 Assisted Living Facility   \n",
       "1          Rhode Island Hospital                 Assisted Living Facility   \n",
       "2          Rhode Island Hospital                 Assisted Living Facility   \n",
       "3          Rhode Island Hospital                 Assisted Living Facility   \n",
       "4          Rhode Island Hospital  Nursing home or rehabilitation facility   \n",
       "5  Roger Williams Medical Center  Nursing home or rehabilitation facility   \n",
       "6  Roger Williams Medical Center  Nursing home or rehabilitation facility   \n",
       "7  Kent County Memorial Hospital  Nursing home or rehabilitation facility   \n",
       "8  Kent County Memorial Hospital  Nursing home or rehabilitation facility   \n",
       "\n",
       "    admission_scheduled     admit_reason diagnosis readmit  admission_type  \\\n",
       "0  Emergent Unscheduled           r/o MI      None      No  Acute Hospital   \n",
       "1  Emergent Unscheduled       chest pain      None     Yes  Acute Hospital   \n",
       "2  Emergent Unscheduled  rapid heartbeat      None     Yes  Acute Hospital   \n",
       "3  Emergent Unscheduled             None      None      No  Acute Hospital   \n",
       "4  Emergent Unscheduled              PNA      None     Yes  Acute Hospital   \n",
       "5  Emergent Unscheduled       chest pain      None     Yes  Acute Hospital   \n",
       "6  Emergent Unscheduled           NSTEMI      None     Yes  Acute Hospital   \n",
       "7  Emergent Unscheduled             None      None     Yes  Acute Hospital   \n",
       "8  Emergent Unscheduled         abd pain      None     Yes  Acute Hospital   \n",
       "\n",
       "   w_six_months       dow  er  days_since_last_admission  visit_id  \n",
       "0             0    Sunday   1                      254.0  20281825  \n",
       "1             0  Thursday   1                        1.0  20281829  \n",
       "2             0  Saturday   1                        8.0  20281838  \n",
       "3             0  Saturday   1                       55.0  20282033  \n",
       "4             0  Thursday   1                        0.0  20282038  \n",
       "5             0  Thursday   1                        1.0  20290921  \n",
       "6             0    Friday   1                       11.0  20290936  \n",
       "7             0    Sunday   1                       26.0  20291035  \n",
       "8             0    Sunday   1                       20.0  20291128  "
      ]
     },
     "execution_count": 204,
     "metadata": {},
     "output_type": "execute_result"
    }
   ],
   "source": [
    "ppt.utilization(params=(\"2018-09-01\", \"2019-09-30\"), utilization_table=\"acute\", member_id=100811)"
   ]
  },
  {
   "cell_type": "markdown",
   "metadata": {},
   "source": [
    "### Get Ppt Name from Member ID"
   ]
  },
  {
   "cell_type": "code",
   "execution_count": 205,
   "metadata": {},
   "outputs": [
    {
     "data": {
      "text/plain": [
       "[(' Frederick', 'Farland')]"
      ]
     },
     "execution_count": 205,
     "metadata": {},
     "output_type": "execute_result"
    }
   ],
   "source": [
    "ppt.name(member_id=100811)"
   ]
  },
  {
   "cell_type": "markdown",
   "metadata": {},
   "source": [
    "## Center Classes\n",
    "### CenterEnrollment & CenterDemographics\n",
    "\n",
    "Working on completing these or moving to add a \"center\" parameter to all of the functions in the classes above."
   ]
  },
  {
   "cell_type": "code",
   "execution_count": 206,
   "metadata": {},
   "outputs": [],
   "source": [
    "center_enrollment = pu.CenterEnrollment()"
   ]
  },
  {
   "cell_type": "code",
   "execution_count": 207,
   "metadata": {},
   "outputs": [
    {
     "data": {
      "text/plain": [
       "259"
      ]
     },
     "execution_count": 207,
     "metadata": {},
     "output_type": "execute_result"
    }
   ],
   "source": [
    "center_enrollment.census_during_period(params=params, center=\"Providence\")"
   ]
  },
  {
   "cell_type": "code",
   "execution_count": 208,
   "metadata": {},
   "outputs": [
    {
     "data": {
      "text/html": [
       "<div>\n",
       "<style scoped>\n",
       "    .dataframe tbody tr th:only-of-type {\n",
       "        vertical-align: middle;\n",
       "    }\n",
       "\n",
       "    .dataframe tbody tr th {\n",
       "        vertical-align: top;\n",
       "    }\n",
       "\n",
       "    .dataframe thead th {\n",
       "        text-align: right;\n",
       "    }\n",
       "</style>\n",
       "<table border=\"1\" class=\"dataframe\">\n",
       "  <thead>\n",
       "    <tr style=\"text-align: right;\">\n",
       "      <th></th>\n",
       "      <th>name</th>\n",
       "      <th>full_address</th>\n",
       "      <th>lat</th>\n",
       "      <th>lon</th>\n",
       "    </tr>\n",
       "  </thead>\n",
       "  <tbody>\n",
       "    <tr>\n",
       "      <th>0</th>\n",
       "      <td>M'liss Place-Sloan</td>\n",
       "      <td>568 Child Street, Warren</td>\n",
       "      <td>41.732102</td>\n",
       "      <td>-71.254934</td>\n",
       "    </tr>\n",
       "    <tr>\n",
       "      <th>1</th>\n",
       "      <td>Linda Killeen</td>\n",
       "      <td>25 Tobey St, Providence</td>\n",
       "      <td>41.819837</td>\n",
       "      <td>-71.436050</td>\n",
       "    </tr>\n",
       "    <tr>\n",
       "      <th>2</th>\n",
       "      <td>Sida Krong</td>\n",
       "      <td>100 Atwells Ave, Providence</td>\n",
       "      <td>41.822834</td>\n",
       "      <td>-71.421123</td>\n",
       "    </tr>\n",
       "    <tr>\n",
       "      <th>3</th>\n",
       "      <td>Maria Alves</td>\n",
       "      <td>100 Borden St, Providence</td>\n",
       "      <td>41.812769</td>\n",
       "      <td>-71.411593</td>\n",
       "    </tr>\n",
       "    <tr>\n",
       "      <th>4</th>\n",
       "      <td>Natividad Figueroa</td>\n",
       "      <td>700 Westminster St, Providence</td>\n",
       "      <td>41.818269</td>\n",
       "      <td>-71.419381</td>\n",
       "    </tr>\n",
       "  </tbody>\n",
       "</table>\n",
       "</div>"
      ],
      "text/plain": [
       "                  name                    full_address        lat        lon\n",
       "0   M'liss Place-Sloan        568 Child Street, Warren  41.732102 -71.254934\n",
       "1        Linda Killeen         25 Tobey St, Providence  41.819837 -71.436050\n",
       "2           Sida Krong     100 Atwells Ave, Providence  41.822834 -71.421123\n",
       "3          Maria Alves       100 Borden St, Providence  41.812769 -71.411593\n",
       "4   Natividad Figueroa  700 Westminster St, Providence  41.818269 -71.419381"
      ]
     },
     "execution_count": 208,
     "metadata": {},
     "output_type": "execute_result"
    }
   ],
   "source": [
    "enrolled_addresses, disenrolled_addresses = center_enrollment.address_mapping_df(center=\"Providence\")\n",
    "enrolled_addresses.head()"
   ]
  },
  {
   "cell_type": "code",
   "execution_count": 209,
   "metadata": {},
   "outputs": [],
   "source": [
    "center_demographics = pu.CenterDemographics()"
   ]
  },
  {
   "cell_type": "code",
   "execution_count": 210,
   "metadata": {},
   "outputs": [
    {
     "name": "stdout",
     "output_type": "stream",
     "text": [
      "43.63\n",
      "29.23\n",
      "0.0\n"
     ]
    }
   ],
   "source": [
    "print(center_demographics.percent_primary_non_english(params, center=\"Providence\"))\n",
    "print(center_demographics.percent_primary_non_english(params, center=\"Woonsocket\"))\n",
    "print(center_demographics.percent_primary_non_english(params, center=\"Westerly\"))"
   ]
  }
 ],
 "metadata": {
  "kernelspec": {
   "display_name": "Python 3",
   "language": "python",
   "name": "python3"
  },
  "language_info": {
   "codemirror_mode": {
    "name": "ipython",
    "version": 3
   },
   "file_extension": ".py",
   "mimetype": "text/x-python",
   "name": "python",
   "nbconvert_exporter": "python",
   "pygments_lexer": "ipython3",
   "version": "3.7.3"
  }
 },
 "nbformat": 4,
 "nbformat_minor": 2
}
