{
 "cells": [
  {
   "cell_type": "markdown",
   "metadata": {},
   "source": [
    "# PACEUTILS\n",
    "\n",
    "A package for computing values and data frames from the PACE-RI database. This guide can also be used to define certain calculations. Once the files are downloaded it can be installed using the command below (any updates by the data analyst to paceutils files will need be copied into the folder for the install to be updated);\n",
    "\n",
    "`python -m pip install -e c:\\path_to_paceutils_folder`"
   ]
  },
  {
   "cell_type": "markdown",
   "metadata": {},
   "source": [
    "### Importing All Modules"
   ]
  },
  {
   "cell_type": "code",
   "execution_count": null,
   "metadata": {},
   "outputs": [],
   "source": [
    "import paceutils as pu"
   ]
  },
  {
   "cell_type": "markdown",
   "metadata": {},
   "source": [
    "### Importing A Single Module"
   ]
  },
  {
   "cell_type": "code",
   "execution_count": null,
   "metadata": {},
   "outputs": [],
   "source": [
    "from paceutils import Enrollment"
   ]
  },
  {
   "cell_type": "markdown",
   "metadata": {},
   "source": [
    "### Specifying the Database\n",
    "The connection is opened and closed in each function."
   ]
  },
  {
   "cell_type": "code",
   "execution_count": null,
   "metadata": {},
   "outputs": [],
   "source": [
    "e = Enrollment() #default V:\\Databases\\PaceDashboard.db\n",
    "# or\n",
    "e = Enrollment(\"V:\\\\Databases\\\\PaceDashboard.db\")"
   ]
  },
  {
   "cell_type": "markdown",
   "metadata": {},
   "source": [
    "### Running Functions\n",
    "You can run from the variable the class is initialized to or from the class itself."
   ]
  },
  {
   "cell_type": "code",
   "execution_count": null,
   "metadata": {},
   "outputs": [],
   "source": [
    "e.census_during_period(params = ('2019-01-01', '2019-01-01'))"
   ]
  },
  {
   "cell_type": "code",
   "execution_count": null,
   "metadata": {},
   "outputs": [],
   "source": [
    "Enrollment().census_during_period(params = ('2019-01-01', '2019-01-01'))"
   ]
  },
  {
   "cell_type": "markdown",
   "metadata": {},
   "source": [
    "### Common Definitions for Calculations (some of these are reiterated below)\n",
    "**Member Months:** A participant is included in the member month count if they are enrolled as of the first of the month. This means a ppt enrolled on July 1st and disenrolled on September 22nd would have a member month count of 3.\n",
    "\n",
    "**Net Enrollment:** The difference between the new enrollments on the first of a month and the disenrollments from the previous month.\n",
    "\n",
    "**Census as of Date:** Count of ppts who have an enrollment date before or on the date and a disenrollment date on or after the date.\n",
    "\n",
    "**Census Today:** Count of ppts with an enrollment date before or on today and no disenrollment date.\n",
    "\n",
    "**Census Over Period:** Count of participants with a disenrollment date on or after the start date and an enrollment date before or on the end date of the period.\n",
    "\n",
    "**Average Years Enrolled:** The difference between today or the ppts disenrollment date and their enrollment date divided by 365.25.\n",
    "\n",
    "**Growth:** The difference between the census at the end of a period and the census at the start of a period divided by the census at the start of the period.\n",
    "\n",
    "**Churn:** The quotient of disenrollments during a period and the census on the start date of the period.\n",
    "\n",
    "**Adjusted Incident Count:** The count of an incidents minus any incidents attributed to ppts with an incident count 3 standard deviations above the average for ppts with an incident. I.e.: If the average number of falls per faller is 2 with a standard deviation of 0.5, then the falls of any ppts with a count above 2+(0.5\\*3) = 3.5 would be excluded from the adjusted count.\n",
    "\n",
    "**Living in the Community:** Count of ppts not in custodial care. Included respite, skilled, and assisted living ppts.\n",
    "\n",
    "**Days vs LOS**: Length of Stay is only calculated for discharges and will cover the entire stay. Days is calculated for all admissions and if there is no discharge date, the end date of the period is used. When counting days in a month, the first of the month is used as the admission date for any admission with a date before the period."
   ]
  },
  {
   "cell_type": "markdown",
   "metadata": {},
   "source": [
    "## General Use Helpers\n",
    "\n",
    "Functions for querying the database and parsing dates. ***All*** other classes inherit from the Helpers class."
   ]
  },
  {
   "cell_type": "code",
   "execution_count": null,
   "metadata": {},
   "outputs": [],
   "source": [
    "helpers = pu.Helpers()"
   ]
  },
  {
   "cell_type": "markdown",
   "metadata": {},
   "source": [
    "### Single Value Query\n",
    "\n",
    "Returns a single value from the database, uses .fetchone from the sqlite3 package. Takes a query and any necessary parameters (note: params can be left blank)."
   ]
  },
  {
   "cell_type": "code",
   "execution_count": null,
   "metadata": {},
   "outputs": [],
   "source": [
    "helpers.single_value_query(q = \"SELECT total FROM monthly_census WHERE month = ?\",\n",
    "                           params = ('2019-01-01',))"
   ]
  },
  {
   "cell_type": "code",
   "execution_count": null,
   "metadata": {},
   "outputs": [],
   "source": [
    "helpers.single_value_query(q = \"SELECT total FROM monthly_census WHERE month = '2019-01-01'\")"
   ]
  },
  {
   "cell_type": "markdown",
   "metadata": {},
   "source": [
    "### List of Tuple Query\n",
    "\n",
    "Returns a list of tuples from the database, uses .fetchall from the sqlite3 package. Takes a query and any necessary parameters (note: params can be left blank)."
   ]
  },
  {
   "cell_type": "code",
   "execution_count": null,
   "metadata": {},
   "outputs": [],
   "source": [
    "helpers.fetchall_query(q = \"SELECT * FROM monthly_census WHERE MONTH >= ? LIMIT 5\",\n",
    "                       params = ('2019-01-01',))"
   ]
  },
  {
   "cell_type": "code",
   "execution_count": null,
   "metadata": {},
   "outputs": [],
   "source": [
    "helpers.fetchall_query(q = \"SELECT * FROM monthly_census WHERE MONTH >= '2019-01-01' LIMIT 5\")"
   ]
  },
  {
   "cell_type": "markdown",
   "metadata": {},
   "source": [
    "### DataFrame Query\n",
    "\n",
    "Returns a pandas DataFrame from the database, uses pd.read_sql. Takes a query and any necessary parameters (note: params can be left blank)."
   ]
  },
  {
   "cell_type": "code",
   "execution_count": null,
   "metadata": {},
   "outputs": [],
   "source": [
    "helpers.dataframe_query(q = \"SELECT * FROM monthly_census WHERE MONTH >= ? LIMIT 5\",\n",
    "                        params = ('2019-01-01',))"
   ]
  },
  {
   "cell_type": "code",
   "execution_count": null,
   "metadata": {},
   "outputs": [],
   "source": [
    "helpers.dataframe_query(q = \"SELECT * FROM monthly_census WHERE MONTH >= '2019-01-01' LIMIT 5\")"
   ]
  },
  {
   "cell_type": "markdown",
   "metadata": {},
   "source": [
    "### Create a Time/Value DataFrame for Plotting\n",
    "\n",
    "Takes an indicator calculating function and creates a pandas DataFrame of the monthly or quarterly value (based on freq parameter) for this indicator over the provided params. If no params are provided, it will create a DataFrame for the previous year. if the indicator need additional parameters other than date ranges, they can be provided in additional_func_args."
   ]
  },
  {
   "cell_type": "code",
   "execution_count": null,
   "metadata": {},
   "outputs": [],
   "source": [
    "helpers.loop_plot_df(indicator_func = e.census_on_end_date,\n",
    "                     params = ('2019-01-01', '2019-09-30'),\n",
    "                     freq=\"MS\",\n",
    "                     additional_func_args=None)"
   ]
  },
  {
   "cell_type": "code",
   "execution_count": null,
   "metadata": {},
   "outputs": [],
   "source": [
    "helpers.loop_plot_df(indicator_func = e.census_on_end_date, freq=\"QS\")"
   ]
  },
  {
   "cell_type": "markdown",
   "metadata": {},
   "source": [
    "### Date-Related Helper Functions\n",
    "The following require no parameters and return the dates based on today."
   ]
  },
  {
   "cell_type": "code",
   "execution_count": null,
   "metadata": {},
   "outputs": [],
   "source": [
    "print(helpers.month_to_date())\n",
    "print(helpers.last_month())\n",
    "print(helpers.last_three_months())\n",
    "print(helpers.last_six_months())\n",
    "print(helpers.last_year())\n",
    "print(helpers.last_quarter())\n",
    "print(helpers.quarter_to_date())"
   ]
  },
  {
   "cell_type": "markdown",
   "metadata": {},
   "source": [
    "Last quarter can also the number and year of the previous quarter."
   ]
  },
  {
   "cell_type": "code",
   "execution_count": null,
   "metadata": {},
   "outputs": [],
   "source": [
    "helpers.last_quarter(return_q=True)"
   ]
  },
  {
   "cell_type": "markdown",
   "metadata": {},
   "source": [
    "Returns the date for a given quarter and year."
   ]
  },
  {
   "cell_type": "code",
   "execution_count": null,
   "metadata": {},
   "outputs": [],
   "source": [
    "helpers.get_quarter_dates(q=2, yr=2019)"
   ]
  },
  {
   "cell_type": "markdown",
   "metadata": {},
   "source": [
    "Takes a tuple of dates as the parameters and returns the dates for either the previous month or quarter."
   ]
  },
  {
   "cell_type": "code",
   "execution_count": null,
   "metadata": {},
   "outputs": [],
   "source": [
    "helpers.prev_month_dates(params=helpers.last_month())"
   ]
  },
  {
   "cell_type": "code",
   "execution_count": null,
   "metadata": {},
   "outputs": [],
   "source": [
    "helpers.prev_quarter_dates(params=helpers.last_quarter())"
   ]
  },
  {
   "cell_type": "markdown",
   "metadata": {},
   "source": [
    "## Enrollment"
   ]
  },
  {
   "cell_type": "code",
   "execution_count": null,
   "metadata": {},
   "outputs": [],
   "source": [
    "enrollment = Enrollment()"
   ]
  },
  {
   "cell_type": "markdown",
   "metadata": {},
   "source": [
    "### Census Today\n",
    "Count of participants in enrollment file with a null disenrollment date."
   ]
  },
  {
   "cell_type": "code",
   "execution_count": null,
   "metadata": {},
   "outputs": [],
   "source": [
    "enrollment.census_today()"
   ]
  },
  {
   "cell_type": "code",
   "execution_count": null,
   "metadata": {},
   "outputs": [],
   "source": [
    "params=(\"2019-01-01\", \"2019-03-31\")"
   ]
  },
  {
   "cell_type": "markdown",
   "metadata": {},
   "source": [
    "### Census During A Period\n",
    "Count of ppts with an enrollment date prior to the end date and a disenrollment date that is null or after the start date."
   ]
  },
  {
   "cell_type": "code",
   "execution_count": null,
   "metadata": {},
   "outputs": [],
   "source": [
    "enrollment.census_during_period(params=params)"
   ]
  },
  {
   "cell_type": "markdown",
   "metadata": {},
   "source": [
    "### Census at the End of a Period\n",
    "Count of ppts with an enrollment date before the start date and a disenrollment date that is null or after the end date."
   ]
  },
  {
   "cell_type": "code",
   "execution_count": null,
   "metadata": {},
   "outputs": [],
   "source": [
    "enrollment.census_on_end_date(params=params)"
   ]
  },
  {
   "cell_type": "markdown",
   "metadata": {},
   "source": [
    "### Member Months\n",
    "Sum of the first of the month census for each month between the two param dates."
   ]
  },
  {
   "cell_type": "code",
   "execution_count": null,
   "metadata": {},
   "outputs": [],
   "source": [
    "enrollment.member_months(params=params)"
   ]
  },
  {
   "cell_type": "markdown",
   "metadata": {},
   "source": [
    "### Disenrolled\n",
    "Count of ppts with a disenrollment date between the two param dates."
   ]
  },
  {
   "cell_type": "code",
   "execution_count": null,
   "metadata": {},
   "outputs": [],
   "source": [
    "enrollment.disenrolled(params=params)"
   ]
  },
  {
   "cell_type": "markdown",
   "metadata": {},
   "source": [
    "### Enrolled\n",
    "Count of ppts with a enrollment date between the two param dates."
   ]
  },
  {
   "cell_type": "code",
   "execution_count": null,
   "metadata": {},
   "outputs": [],
   "source": [
    "enrollment.enrolled(params=params)"
   ]
  },
  {
   "cell_type": "markdown",
   "metadata": {},
   "source": [
    "### Deaths\n",
    "Count of ppts with a disenrollment date between the two param dates and a disenroll type of 'Deceased'."
   ]
  },
  {
   "cell_type": "code",
   "execution_count": null,
   "metadata": {},
   "outputs": [],
   "source": [
    "enrollment.deaths(params=params)"
   ]
  },
  {
   "cell_type": "markdown",
   "metadata": {},
   "source": [
    "### Net Enrollment (total during period)\n",
    "`enrolled` - `disenrolled` for the dates between the two param dates."
   ]
  },
  {
   "cell_type": "code",
   "execution_count": null,
   "metadata": {},
   "outputs": [],
   "source": [
    "enrollment.net_enrollment_during_period(params=params)"
   ]
  },
  {
   "cell_type": "markdown",
   "metadata": {},
   "source": [
    "### Net Enrollment (for month)\n",
    "`enrolled` for the dates between the two param dates - `disenrolled` for the month before the starting date of the params.\n",
    "\n",
    "Difference between ppts enrolled on the first of a month and the disenrollments of the previous month. For a quarter this means we are adding up the number of new ppts on the first of each month in quarter and subtracting the number of disenrollment from the month before the quarter through the middle month of the quarter."
   ]
  },
  {
   "cell_type": "code",
   "execution_count": null,
   "metadata": {},
   "outputs": [],
   "source": [
    "enrollment.net_enrollment(params=params)"
   ]
  },
  {
   "cell_type": "markdown",
   "metadata": {},
   "source": [
    "### Voluntary Disenrollments\n",
    "Count of ppts with a disenrollment date between the two param dates and a disenroll type of 'Voluntary'."
   ]
  },
  {
   "cell_type": "code",
   "execution_count": null,
   "metadata": {},
   "outputs": [],
   "source": [
    "enrollment.voluntary_disenrolled(params=params)"
   ]
  },
  {
   "cell_type": "markdown",
   "metadata": {},
   "source": [
    "### Percent of Disenrollments that are Voluntary\n",
    "`voluntary_disenrolled` divided by `disenrolled` multiplied by 100."
   ]
  },
  {
   "cell_type": "code",
   "execution_count": null,
   "metadata": {},
   "outputs": [],
   "source": [
    "enrollment.voluntary_disenrolled_percent(params=params)"
   ]
  },
  {
   "cell_type": "markdown",
   "metadata": {},
   "source": [
    "### Average Years Enrolled in PACE (for ppts enrolled in period)\n",
    "Average of the difference between today's date or the ppt's disenrollment date and their enrollment date divided by 326.25."
   ]
  },
  {
   "cell_type": "code",
   "execution_count": null,
   "metadata": {},
   "outputs": [],
   "source": [
    "enrollment.avg_years_enrolled(params=params)"
   ]
  },
  {
   "cell_type": "markdown",
   "metadata": {},
   "source": [
    "### Growth Rate\n",
    "Census as of the first of the previous month from the given param dates minus the census as of the first of the month for the given params divided bu the census as of the first of the previous month from the given param dates multiplied by 100."
   ]
  },
  {
   "cell_type": "code",
   "execution_count": null,
   "metadata": {},
   "outputs": [],
   "source": [
    "enrollment.growth_rate(params=params)"
   ]
  },
  {
   "cell_type": "markdown",
   "metadata": {},
   "source": [
    "### Churn Rate\n",
    "`disenrolled` for the given params divided by the census as of the first date in params tuple."
   ]
  },
  {
   "cell_type": "code",
   "execution_count": null,
   "metadata": {},
   "outputs": [],
   "source": [
    "enrollment.churn_rate(params=params)"
   ]
  },
  {
   "cell_type": "markdown",
   "metadata": {},
   "source": [
    "### Count of Ppts per Town (for ppts enrolled in period)\n",
    "Count of distinct ppts grouped by town for ppts enrolled during the period. Returned as a pandas dataframe with columns `City/Town` and `Number of Ppts`."
   ]
  },
  {
   "cell_type": "code",
   "execution_count": null,
   "metadata": {},
   "outputs": [],
   "source": [
    "enrollment.enrollment_by_town_table(params=params).head()"
   ]
  },
  {
   "cell_type": "markdown",
   "metadata": {},
   "source": [
    "### Mapping DataFrame\n",
    "Creates two pandas dataframe with the columns `name`, `full_address`, `lat`, and `lon`, one for ppts enrolled during the period and one for those who are not."
   ]
  },
  {
   "cell_type": "code",
   "execution_count": null,
   "metadata": {},
   "outputs": [],
   "source": [
    "enrolled_df, disenrolled_df = enrollment.address_mapping_df()\n",
    "\n",
    "print(enrolled_df.head())"
   ]
  },
  {
   "cell_type": "markdown",
   "metadata": {},
   "source": [
    "### HPMS Related"
   ]
  },
  {
   "cell_type": "markdown",
   "metadata": {},
   "source": [
    "### Dual Enrolled Enrollments\n",
    "Count of ppts with an enrollment date during the period, medicare status of 1 and a medicaid status of 1."
   ]
  },
  {
   "cell_type": "code",
   "execution_count": null,
   "metadata": {},
   "outputs": [],
   "source": [
    "enrollment.dual_enrolled(params=params)"
   ]
  },
  {
   "cell_type": "markdown",
   "metadata": {},
   "source": [
    "### Medicare Only Enrollments\n",
    "Count of ppts with an enrollment date during the period, medicare status of 1 and a medicaid status of 0."
   ]
  },
  {
   "cell_type": "code",
   "execution_count": null,
   "metadata": {},
   "outputs": [],
   "source": [
    "enrollment.medicare_only_enrolled(params=params)"
   ]
  },
  {
   "cell_type": "markdown",
   "metadata": {},
   "source": [
    "### medicaid Only Enrollments\n",
    "Count of ppts with an enrollment date during the period, medicare status of 0 and a medicaid status of 1."
   ]
  },
  {
   "cell_type": "code",
   "execution_count": null,
   "metadata": {},
   "outputs": [],
   "source": [
    "enrollment.medicaid_only_enrolled(params=params)"
   ]
  },
  {
   "cell_type": "markdown",
   "metadata": {},
   "source": [
    "### Private Pay Enrollments\n",
    "Count of ppts with an enrollment date during the period, medicare status of 0 and a medicaid status of 0."
   ]
  },
  {
   "cell_type": "code",
   "execution_count": null,
   "metadata": {},
   "outputs": [],
   "source": [
    "enrollment.private_pay_enrolled(params=params)"
   ]
  },
  {
   "cell_type": "markdown",
   "metadata": {},
   "source": [
    "### Dual Enrolled Disenrollments\n",
    "Count of ppts with an disenrollment date during the period, medicare status of 1 and a medicaid status of 1."
   ]
  },
  {
   "cell_type": "code",
   "execution_count": null,
   "metadata": {},
   "outputs": [],
   "source": [
    "enrollment.dual_disenrolled(params=params)"
   ]
  },
  {
   "cell_type": "markdown",
   "metadata": {},
   "source": [
    "### Medicare Only Disenrollments\n",
    "Count of ppts with an disenrollment date during the period, medicare status of 1 and a medicaid status of 0."
   ]
  },
  {
   "cell_type": "code",
   "execution_count": null,
   "metadata": {},
   "outputs": [],
   "source": [
    "enrollment.medicare_only_disenrolled(params=params)"
   ]
  },
  {
   "cell_type": "markdown",
   "metadata": {},
   "source": [
    "### medicaid Only Disenrollments\n",
    "Count of ppts with an disenrollment date during the period, medicare status of 0 and a medicaid status of 1."
   ]
  },
  {
   "cell_type": "code",
   "execution_count": null,
   "metadata": {},
   "outputs": [],
   "source": [
    "enrollment.medicaid_only_disenrolled(params=params)"
   ]
  },
  {
   "cell_type": "markdown",
   "metadata": {},
   "source": [
    "### Private Pay Disenrollments\n",
    "Count of ppts with an disenrollment date during the period, medicare status of 0 and a medicaid status of 0."
   ]
  },
  {
   "cell_type": "code",
   "execution_count": null,
   "metadata": {},
   "outputs": [],
   "source": [
    "enrollment.private_pay_disenrolled(params=params)"
   ]
  },
  {
   "cell_type": "markdown",
   "metadata": {},
   "source": [
    "### Marketing/Enrollment Referral Related"
   ]
  },
  {
   "cell_type": "markdown",
   "metadata": {},
   "source": [
    "### Inquiries/Referrals\n",
    "Count of rows from the referral table where the referral_date is between the param dates."
   ]
  },
  {
   "cell_type": "code",
   "execution_count": null,
   "metadata": {},
   "outputs": [],
   "source": [
    "enrollment.inquiries(params=params)"
   ]
  },
  {
   "cell_type": "markdown",
   "metadata": {},
   "source": [
    "### Average Days to Enrollment\n",
    "Average difference of the enrollment_effective date and the referral date for referrals with an enrollment_effective date between the param dates."
   ]
  },
  {
   "cell_type": "code",
   "execution_count": null,
   "metadata": {},
   "outputs": [],
   "source": [
    "enrollment.avg_days_to_enrollment(params=params)"
   ]
  },
  {
   "cell_type": "markdown",
   "metadata": {},
   "source": [
    "### 180 Day Enrollment Conversion Rate for Referrals\n",
    "Count of all referrals with a referral date between 180 days before the param start date and the param end date with a non-null enrollment effective date divided by the count of all referrals with a referral date between 180 days before the param start date and the param end date."
   ]
  },
  {
   "cell_type": "code",
   "execution_count": null,
   "metadata": {},
   "outputs": [],
   "source": [
    "enrollment.conversion_rate_180_days(params=params)"
   ]
  },
  {
   "cell_type": "markdown",
   "metadata": {},
   "source": [
    "### Count of Referrals by Source\n",
    "Count of referrals grouped by source for referrals with a referral date during the period. Returned as a pandas dataframe with columns `referral_source` and `referrals`."
   ]
  },
  {
   "cell_type": "code",
   "execution_count": null,
   "metadata": {},
   "outputs": [],
   "source": [
    "enrollment.referral_source_count(params=params).head()"
   ]
  },
  {
   "cell_type": "markdown",
   "metadata": {},
   "source": [
    "### Most Common Referral Source\n",
    "Creates the `referral_source_count` table and returns the first row as a tuple."
   ]
  },
  {
   "cell_type": "code",
   "execution_count": null,
   "metadata": {},
   "outputs": [],
   "source": [
    "enrollment.most_common_referral_source(params=params)"
   ]
  },
  {
   "cell_type": "markdown",
   "metadata": {},
   "source": [
    "### Enrollment Conversion Rate by Referral Source\n",
    "Count of referrals with a non-null enrollment_effective date divided by the count of referrals grouped by source for referrals with a referral date during the period. Returned as a pandas dataframe with columns `referral_source` and `enrollment_rate`."
   ]
  },
  {
   "cell_type": "code",
   "execution_count": null,
   "metadata": {},
   "outputs": [],
   "source": [
    "enrollment.referral_enrollment_rates_df(params=params).head()"
   ]
  },
  {
   "cell_type": "markdown",
   "metadata": {},
   "source": [
    "### Source with the Highest Enrollment Conversion Rate\n",
    "Creates the `referral_enrollment_rates_df` table and returns the first row as a tuple."
   ]
  },
  {
   "cell_type": "code",
   "execution_count": null,
   "metadata": {},
   "outputs": [],
   "source": [
    "enrollment.highest_enrollment_rate_referral_source(params=params)"
   ]
  },
  {
   "cell_type": "markdown",
   "metadata": {},
   "source": [
    "## Demographics"
   ]
  },
  {
   "cell_type": "code",
   "execution_count": null,
   "metadata": {},
   "outputs": [],
   "source": [
    "demographics = pu.Demographics()"
   ]
  },
  {
   "cell_type": "markdown",
   "metadata": {},
   "source": [
    "### Number of Dual Enrolled Ppts\n",
    "Count of ppts enrolled in the period with a medicare value of 1 and a medicaid value of 1."
   ]
  },
  {
   "cell_type": "code",
   "execution_count": null,
   "metadata": {},
   "outputs": [],
   "source": [
    "demographics.dual_count(params=params)"
   ]
  },
  {
   "cell_type": "markdown",
   "metadata": {},
   "source": [
    "### Percent of Ppts that are Dual Enrolled \n",
    "`dual_count` divided by `census_during_period`."
   ]
  },
  {
   "cell_type": "code",
   "execution_count": null,
   "metadata": {},
   "outputs": [],
   "source": [
    "demographics.percent_dual(params=params)"
   ]
  },
  {
   "cell_type": "markdown",
   "metadata": {},
   "source": [
    "### Number of Medicare Only Ppts\n",
    "Count of ppts enrolled in the period with a medicare value of 1 and a medicaid value of 0."
   ]
  },
  {
   "cell_type": "code",
   "execution_count": null,
   "metadata": {},
   "outputs": [],
   "source": [
    "demographics.medicare_only_count(params=params)"
   ]
  },
  {
   "cell_type": "markdown",
   "metadata": {},
   "source": [
    "### Percent of Ppts that are Medicare Only\n",
    "`medicare_only_count` divided by `census_during_period`."
   ]
  },
  {
   "cell_type": "code",
   "execution_count": null,
   "metadata": {},
   "outputs": [],
   "source": [
    "demographics.percent_medicare_only(params=params)"
   ]
  },
  {
   "cell_type": "markdown",
   "metadata": {},
   "source": [
    "### Number of medicaid Only Ppts\n",
    "Count of ppts enrolled in the period with a medicare value of 0 and a medicaid value of 1."
   ]
  },
  {
   "cell_type": "code",
   "execution_count": null,
   "metadata": {},
   "outputs": [],
   "source": [
    "demographics.medicaid_only_count(params=params)"
   ]
  },
  {
   "cell_type": "markdown",
   "metadata": {},
   "source": [
    "### Percent of Ppts that are medicaid Only\n",
    "\n",
    "`medicaid_only_count` divided by `census_during_period`."
   ]
  },
  {
   "cell_type": "code",
   "execution_count": null,
   "metadata": {},
   "outputs": [],
   "source": [
    "demographics.percent_medicaid_only(params=params)"
   ]
  },
  {
   "cell_type": "markdown",
   "metadata": {},
   "source": [
    "### Number of Private Pay Ppts\n",
    "Count of ppts enrolled in the period with a medicare value of 0 and a medicaid value of 0."
   ]
  },
  {
   "cell_type": "code",
   "execution_count": null,
   "metadata": {},
   "outputs": [],
   "source": [
    "demographics.private_pay_count(params=params)"
   ]
  },
  {
   "cell_type": "markdown",
   "metadata": {},
   "source": [
    "### Percent of Ppts that are Private Pay\n",
    "`private_pay_count` divided by `census_during_period`."
   ]
  },
  {
   "cell_type": "code",
   "execution_count": null,
   "metadata": {},
   "outputs": [],
   "source": [
    "demographics.percent_private_pay(params=params)"
   ]
  },
  {
   "cell_type": "markdown",
   "metadata": {},
   "source": [
    "### Average Age\n",
    "Age is calculated as the difference between the end date and the ppt's date of birth.\n",
    "Average of age for ppts enrolled in the period."
   ]
  },
  {
   "cell_type": "code",
   "execution_count": null,
   "metadata": {},
   "outputs": [],
   "source": [
    "demographics.avg_age(params=params)"
   ]
  },
  {
   "cell_type": "markdown",
   "metadata": {},
   "source": [
    "### Number of Ppts Below Age 65\n",
    "Count of ppts with an age below 65 as of the end date in the params."
   ]
  },
  {
   "cell_type": "code",
   "execution_count": null,
   "metadata": {},
   "outputs": [],
   "source": [
    "demographics.age_below_65(params=params)"
   ]
  },
  {
   "cell_type": "markdown",
   "metadata": {},
   "source": [
    "### Percent of Ppts Below Age 65\n",
    "`age_below_65` divided by `census_during_period`."
   ]
  },
  {
   "cell_type": "code",
   "execution_count": null,
   "metadata": {},
   "outputs": [],
   "source": [
    "demographics.percent_age_below_65(params=params)"
   ]
  },
  {
   "cell_type": "markdown",
   "metadata": {},
   "source": [
    "### Number of Ppts Above Age 65\n",
    "Difference between `census_during_period` and `age_below_65`."
   ]
  },
  {
   "cell_type": "code",
   "execution_count": null,
   "metadata": {},
   "outputs": [],
   "source": [
    "demographics.age_above_65(params=params)"
   ]
  },
  {
   "cell_type": "markdown",
   "metadata": {},
   "source": [
    "### Percent Ppts with a Primary Language that is not English\n",
    "Count of rows in demographic table where the language is 'English' divided by the count of ppts enrolled in the period."
   ]
  },
  {
   "cell_type": "code",
   "execution_count": null,
   "metadata": {},
   "outputs": [],
   "source": [
    "demographics.percent_primary_non_english(params=params)"
   ]
  },
  {
   "cell_type": "markdown",
   "metadata": {},
   "source": [
    "### Percent of Ppts with a race that is not Caucasian/White\n",
    "Count of rows in demographic table where the race is 'Caucasian/White' divided by the count of ppts enrolled in the period."
   ]
  },
  {
   "cell_type": "code",
   "execution_count": null,
   "metadata": {},
   "outputs": [],
   "source": [
    "demographics.percent_non_white(params=params)"
   ]
  },
  {
   "cell_type": "markdown",
   "metadata": {},
   "source": [
    "### Number of Female Ppts\n",
    "Count of ppts in the demographics table where the gender is 1 and the ppt is enrolled."
   ]
  },
  {
   "cell_type": "code",
   "execution_count": null,
   "metadata": {},
   "outputs": [],
   "source": [
    "demographics.female_count(params=params)"
   ]
  },
  {
   "cell_type": "markdown",
   "metadata": {},
   "source": [
    "### Percent of Ppts that are Female\n",
    "`female_count` divided by `census_during_period`"
   ]
  },
  {
   "cell_type": "code",
   "execution_count": null,
   "metadata": {},
   "outputs": [],
   "source": [
    "demographics.percent_female(params=params)"
   ]
  },
  {
   "cell_type": "markdown",
   "metadata": {},
   "source": [
    "### Number of Ppts with a Behavioral Health Diagnosis\n",
    "Count of distinct ppts from dx table where the ICD10 code is in F2, F31, F32, F33, F4, or F6 and the ppt is enrolled during the period."
   ]
  },
  {
   "cell_type": "code",
   "execution_count": null,
   "metadata": {},
   "outputs": [],
   "source": [
    "demographics.behavorial_dx_count(params=params)"
   ]
  },
  {
   "cell_type": "markdown",
   "metadata": {},
   "source": [
    "### Percent of Ppts with a Behavioral Health Diagnosis\n",
    "`behavorial_dx_count` divided by `census_during_period`"
   ]
  },
  {
   "cell_type": "code",
   "execution_count": null,
   "metadata": {},
   "outputs": [],
   "source": [
    "demographics.behavorial_dx_percent(params=params)"
   ]
  },
  {
   "cell_type": "markdown",
   "metadata": {},
   "source": [
    "### Number of Ppts with a Dementia Related Diagnosis\n",
    "Count of distinct ppts from dx table where the ICD10 code is in F01.50, F01.51, F02.80, F02.81, F03.90, F03.91, F10.27, F10.97, \n",
    "F13.27, F13.97, F18.17, F18.27, F19.27, F19.97, G31.09, G31.83, G30.00, G30.10, G30.08, G30.09 and the ppt is enrolled during the period."
   ]
  },
  {
   "cell_type": "code",
   "execution_count": null,
   "metadata": {},
   "outputs": [],
   "source": [
    "demographics.dementia_dx_count(params=params)"
   ]
  },
  {
   "cell_type": "markdown",
   "metadata": {},
   "source": [
    "### Percent of Ppts with a Dementia Related Diagnosis\n",
    "Count of distinct ppts from dx table where the ICD10 code is in the chronic condition list (see code for full list) and the ppt is enrolled during the period."
   ]
  },
  {
   "cell_type": "code",
   "execution_count": null,
   "metadata": {},
   "outputs": [],
   "source": [
    "demographics.at_least_one_chronic_condition_count(params=params)"
   ]
  },
  {
   "cell_type": "markdown",
   "metadata": {},
   "source": [
    "### Count of Chronic Conditions per Ppt\n",
    "\n",
    "Counts the number of distinct icd10 codes in the chronic condition list grouped by ppt enrolled during the period. Returns a dataframe with the columns `member_id` and `count`."
   ]
  },
  {
   "cell_type": "code",
   "execution_count": null,
   "metadata": {},
   "outputs": [],
   "source": [
    "demographics.chronic_condition_df(params=params).head()"
   ]
  },
  {
   "cell_type": "markdown",
   "metadata": {},
   "source": [
    "### Number of Ppts with more than 6 Chronic Conditions\n",
    "Creates the dataframe from `chronic_condition_df` and reutnrs the count of those rows with a count above 6."
   ]
  },
  {
   "cell_type": "code",
   "execution_count": null,
   "metadata": {},
   "outputs": [],
   "source": [
    "demographics.over_six_chronic_conditions_count(params=params)"
   ]
  },
  {
   "cell_type": "markdown",
   "metadata": {},
   "source": [
    "### Percent of Ppts with more than 6 Chronic Conditions\n",
    "`over_six_chronic_conditions_count` divided by `census_during_period`"
   ]
  },
  {
   "cell_type": "code",
   "execution_count": null,
   "metadata": {},
   "outputs": [],
   "source": [
    "demographics.over_six_chronic_conditions_percent(params=params)"
   ]
  },
  {
   "cell_type": "markdown",
   "metadata": {},
   "source": [
    "### Number of Ppts Living in the Community\n",
    "Count of ppts enrolled during the period who do not have a custodial admission date during the period."
   ]
  },
  {
   "cell_type": "code",
   "execution_count": null,
   "metadata": {},
   "outputs": [],
   "source": [
    "demographics.living_in_community(params=params)"
   ]
  },
  {
   "cell_type": "markdown",
   "metadata": {},
   "source": [
    "### Percent of Ppts Living in the Community\n",
    "`living_in_community` divided by `census_during_period`."
   ]
  },
  {
   "cell_type": "code",
   "execution_count": null,
   "metadata": {},
   "outputs": [],
   "source": [
    "demographics.living_in_community_percent(params=params)"
   ]
  },
  {
   "cell_type": "markdown",
   "metadata": {},
   "source": [
    "### Number of Ppts Indicated to Attend the Day Center\n",
    "Count of distinct ppts from the center_days table enrolled during the period and the days column is not equal to 'PRN'."
   ]
  },
  {
   "cell_type": "code",
   "execution_count": null,
   "metadata": {},
   "outputs": [],
   "source": [
    "demographics.attending_day_center(params=params)"
   ]
  },
  {
   "cell_type": "markdown",
   "metadata": {},
   "source": [
    "### Percent of Ppts Indicated to Attend the Day Center\n",
    "`attending_day_center` divided by `census_during_period`."
   ]
  },
  {
   "cell_type": "code",
   "execution_count": null,
   "metadata": {},
   "outputs": [],
   "source": [
    "demographics.percent_attending_dc(params=params)"
   ]
  },
  {
   "cell_type": "markdown",
   "metadata": {},
   "source": [
    "## Incidents\n",
    "There are 5 incidents tables;\n",
    "+ falls\n",
    "+ med_errors\n",
    "+ wounds\n",
    "+ burns\n",
    "+ infections\n",
    "\n",
    "Some methods in the Incident class require an incident_table parameter to specify which type of incident the statistic is being calculated for."
   ]
  },
  {
   "cell_type": "code",
   "execution_count": null,
   "metadata": {},
   "outputs": [],
   "source": [
    "incidents = pu.Incidents()"
   ]
  },
  {
   "cell_type": "markdown",
   "metadata": {},
   "source": [
    "### Incidents per 100 Member Months (Falls/Med Errors/Wounds/Burns/Infections) \n",
    "Count of incidents with a date_time_occured date during the period divided by the sum of the first of the month census for each month during the period multiplied by 100."
   ]
  },
  {
   "cell_type": "code",
   "execution_count": null,
   "metadata": {},
   "outputs": [],
   "source": [
    "incidents.incident_per_100MM(params=params, incident_table=\"falls\")"
   ]
  },
  {
   "cell_type": "code",
   "execution_count": null,
   "metadata": {},
   "outputs": [],
   "source": [
    "incidents.incident_per_100MM(params=params, incident_table=\"med_errors\")"
   ]
  },
  {
   "cell_type": "markdown",
   "metadata": {},
   "source": [
    "### Number of Incidents (Falls/Med Errors/Wounds/Burns/Infections) \n",
    "Count of incidents with a date_time_occured date during the period."
   ]
  },
  {
   "cell_type": "code",
   "execution_count": null,
   "metadata": {},
   "outputs": [],
   "source": [
    "incidents.total_incidents(params=params, incident_table=\"falls\")"
   ]
  },
  {
   "cell_type": "code",
   "execution_count": null,
   "metadata": {},
   "outputs": [],
   "source": [
    "incidents.total_incidents(params=incidents.last_quarter(), incident_table=\"falls\")"
   ]
  },
  {
   "cell_type": "markdown",
   "metadata": {},
   "source": [
    "### Number of Ppts with more than 1 Incident in Period (Falls/Med Errors/Wounds/Burns/Infections) \n",
    "Count of ppts with more than 1 incident during period."
   ]
  },
  {
   "cell_type": "code",
   "execution_count": null,
   "metadata": {},
   "outputs": [],
   "source": [
    "incidents.num_of_incident_repeaters(params=params, incident_table=\"falls\")"
   ]
  },
  {
   "cell_type": "markdown",
   "metadata": {},
   "source": [
    "### Number of Incidents by Ppts with more than 1 Incident in Period (Falls/Med Errors/Wounds/Burns/Infections) \n",
    "Sum of the count of incidents attributed to ppts with more than 1 incident in the period."
   ]
  },
  {
   "cell_type": "code",
   "execution_count": null,
   "metadata": {},
   "outputs": [],
   "source": [
    "incidents.incidents_by_repeaters(params=params, incident_table=\"falls\")"
   ]
  },
  {
   "cell_type": "markdown",
   "metadata": {},
   "source": [
    "### Number of Unique Ppts with an Incident in Period (Falls/Med Errors/Wounds/Burns/Infections) \n",
    "Count of distinct ppts with an incident in the period."
   ]
  },
  {
   "cell_type": "code",
   "execution_count": null,
   "metadata": {},
   "outputs": [],
   "source": [
    "incidents.ppts_w_incident(params=params, incident_table=\"falls\")"
   ]
  },
  {
   "cell_type": "markdown",
   "metadata": {},
   "source": [
    "### Percent of Incidents Attributed to Ppts with more than 1 Incident in the Period \n",
    "`incidents_by_repeaters` divided by `total_incidents`."
   ]
  },
  {
   "cell_type": "code",
   "execution_count": null,
   "metadata": {},
   "outputs": [],
   "source": [
    "incidents.percent_by_repeaters(params=params, incident_table=\"falls\")"
   ]
  },
  {
   "cell_type": "markdown",
   "metadata": {},
   "source": [
    "### Rate of Ppts with more than 1 Incident of Ppts with an Incident\n",
    "`num_of_incident_repeaters` divided by `ppts_w_incident`."
   ]
  },
  {
   "cell_type": "code",
   "execution_count": null,
   "metadata": {},
   "outputs": [],
   "source": [
    "incidents.repeat_ppts_rate(params=params, incident_table=\"falls\")"
   ]
  },
  {
   "cell_type": "markdown",
   "metadata": {},
   "source": [
    "### Average Number of Incidents of Ppts with an Incident in the Period\n",
    "Average number of incidents for participants who have had an incident in the period."
   ]
  },
  {
   "cell_type": "code",
   "execution_count": null,
   "metadata": {},
   "outputs": [],
   "source": [
    "incidents.incident_avg_value(params=params, incident_table=\"falls\")"
   ]
  },
  {
   "cell_type": "markdown",
   "metadata": {},
   "source": [
    "### Ppts with more Incidents than the Average During the Period\n",
    "Ppts with more incidents during the period than the calculated average during the period."
   ]
  },
  {
   "cell_type": "code",
   "execution_count": null,
   "metadata": {},
   "outputs": [],
   "source": [
    "incidents.ppts_above_avg(params=params, incident_table=\"falls\")"
   ]
  },
  {
   "cell_type": "markdown",
   "metadata": {},
   "source": [
    "### Rate of Ppts with an Above Average Incident Count out of Ppts with an Incident\n",
    "`ppts_above_avg` divided by `ppts_w_incident`."
   ]
  },
  {
   "cell_type": "code",
   "execution_count": null,
   "metadata": {},
   "outputs": [],
   "source": [
    "incidents.percent_of_ppts_over_avg(params=params, incident_table=\"falls\")"
   ]
  },
  {
   "cell_type": "markdown",
   "metadata": {},
   "source": [
    "### List of Ppts with More Than 1 Incident (Member Id, Incident Count)\n",
    "Creates a list of member_id and incident count tuples for ppts with more than 1 incident in the period."
   ]
  },
  {
   "cell_type": "code",
   "execution_count": null,
   "metadata": {},
   "outputs": [],
   "source": [
    "incidents.ppts_w_multiple_incidents(params=params, incident_table=\"falls\")"
   ]
  },
  {
   "cell_type": "markdown",
   "metadata": {},
   "source": [
    "### Adjusted Incident Count (Falls/Med Errors/Wounds/Burns/Infections)\n",
    "Count of incidents during period minus any incidents by ppts with an incidents count greater than the mean plus 3 standard deviations."
   ]
  },
  {
   "cell_type": "code",
   "execution_count": null,
   "metadata": {},
   "outputs": [],
   "source": [
    "incidents.adjusted_incident_count(params=params, incident_table=\"falls\")"
   ]
  },
  {
   "cell_type": "markdown",
   "metadata": {},
   "source": [
    "### Percent of Ppts without an Incident Ever\n",
    "Count of ppts enrolled during period who do not have an incident divided by `census_during_period`."
   ]
  },
  {
   "cell_type": "code",
   "execution_count": null,
   "metadata": {},
   "outputs": [],
   "source": [
    "incidents.percent_without_incident_overall(params=params, incident_table=\"falls\")"
   ]
  },
  {
   "cell_type": "markdown",
   "metadata": {},
   "source": [
    "### Percent of Ppts without an Incident in the Period\n",
    "Count of ppts enrolled during period who do not have an incident during the period divided by `census_during_period`."
   ]
  },
  {
   "cell_type": "code",
   "execution_count": null,
   "metadata": {},
   "outputs": [],
   "source": [
    "incidents.percent_without_incident_in_period(params=params, incident_table=\"falls\")"
   ]
  },
  {
   "cell_type": "markdown",
   "metadata": {},
   "source": [
    "### Number of Wounds Above Stage 1\n",
    "Count of wounds with a date_time_occured during the period and an ulcer stage of Stage 2, Stage 3, Stage 4, or Unstageable."
   ]
  },
  {
   "cell_type": "code",
   "execution_count": null,
   "metadata": {},
   "outputs": [],
   "source": [
    "incidents.wounds_above_stage1(params=params)"
   ]
  },
  {
   "cell_type": "markdown",
   "metadata": {},
   "source": [
    "### Number of Wounds that are Unstageable\n",
    "Count of wounds with a date_time_occured during the period and an ulcer stage of Unstageable."
   ]
  },
  {
   "cell_type": "code",
   "execution_count": null,
   "metadata": {},
   "outputs": [],
   "source": [
    "incidents.unstageable_wounds_count(params=params)"
   ]
  },
  {
   "cell_type": "markdown",
   "metadata": {},
   "source": [
    "### Number of Pressure Ulcers\n",
    "Count of wounds with a date_time_occured during the period and a wound_type of Pressure Ulcer."
   ]
  },
  {
   "cell_type": "code",
   "execution_count": null,
   "metadata": {},
   "outputs": [],
   "source": [
    "incidents.pressure_ulcer_count(params=params)"
   ]
  },
  {
   "cell_type": "markdown",
   "metadata": {},
   "source": [
    "### Pressure Ulcers per 100 Member Months\n",
    "`pressure_ulcer_count` divided by `member_months` multiplied by 100."
   ]
  },
  {
   "cell_type": "code",
   "execution_count": null,
   "metadata": {},
   "outputs": [],
   "source": [
    "incidents.pressure_ulcer_per_100(params=params)"
   ]
  },
  {
   "cell_type": "markdown",
   "metadata": {},
   "source": [
    "### Average Wound Healing Time\n",
    "Average of the difference between the date_healed and the date_time_occured for wounds with a date_healed during the period."
   ]
  },
  {
   "cell_type": "code",
   "execution_count": null,
   "metadata": {},
   "outputs": [],
   "source": [
    "incidents.avg_wound_healing_time(params=params)"
   ]
  },
  {
   "cell_type": "markdown",
   "metadata": {},
   "source": [
    "### Number of UTIs\n",
    "Counts of infections during the period with an infection_type of UTI, URI, or Sepsis-Urinary."
   ]
  },
  {
   "cell_type": "code",
   "execution_count": null,
   "metadata": {},
   "outputs": [],
   "source": [
    "incidents.uti_count(params=params)"
   ]
  },
  {
   "cell_type": "markdown",
   "metadata": {},
   "source": [
    "### UTIs per 100 Member Months\n",
    "`uti_count` divided by `member_months` multiplied by 100."
   ]
  },
  {
   "cell_type": "code",
   "execution_count": null,
   "metadata": {},
   "outputs": [],
   "source": [
    "incidents.uti_per_100(params=params)"
   ]
  },
  {
   "cell_type": "markdown",
   "metadata": {},
   "source": [
    "### Number of Sepsis Infections\n",
    "Count of infections during the period where 'sepsis' is in the infection_type."
   ]
  },
  {
   "cell_type": "code",
   "execution_count": null,
   "metadata": {},
   "outputs": [],
   "source": [
    "incidents.sepsis_count(params=params)"
   ]
  },
  {
   "cell_type": "markdown",
   "metadata": {},
   "source": [
    "### Sepsis Infection per 100 Member Months\n",
    "`sepsis_count` divided by `member_months` multiplied by 100."
   ]
  },
  {
   "cell_type": "code",
   "execution_count": null,
   "metadata": {},
   "outputs": [],
   "source": [
    "incidents.sepsis_per_100(params=params)"
   ]
  },
  {
   "cell_type": "markdown",
   "metadata": {},
   "source": [
    "### Number of Burns with Degree 3rd Degree of Higher\n",
    "Count of burns during period with a burn_degree of Third or Fourth."
   ]
  },
  {
   "cell_type": "code",
   "execution_count": null,
   "metadata": {},
   "outputs": [],
   "source": [
    "incidents.third_degree_burn_count(params=params)"
   ]
  },
  {
   "cell_type": "markdown",
   "metadata": {},
   "source": [
    "### Count of Burns Grouped by Degree\n",
    "Count of burns during period grouped by degree."
   ]
  },
  {
   "cell_type": "code",
   "execution_count": null,
   "metadata": {},
   "outputs": [],
   "source": [
    "incidents.burn_degree_counts(params=params)"
   ]
  },
  {
   "cell_type": "markdown",
   "metadata": {},
   "source": [
    "### Number of Incidents with Major Harm or Death (Falls/Med Errors)\n",
    "Count of incidents during period where the severity is equal to Major Harm or Death."
   ]
  },
  {
   "cell_type": "code",
   "execution_count": null,
   "metadata": {},
   "outputs": [],
   "source": [
    "incidents.major_harm_or_death_count(params=params, incident_table=\"falls\")"
   ]
  },
  {
   "cell_type": "markdown",
   "metadata": {},
   "source": [
    "### Count of Med Error Responsibility by Type\n",
    "The sum of each of the responsibility columns (responsibility_pharmacy, responsibility _clinic, responsibility _home_care, responsibility _facility) in the med_errors table for med_errors occurring during the period. Returns a pandas dataframe with the columns `responsibility` and `count`."
   ]
  },
  {
   "cell_type": "code",
   "execution_count": null,
   "metadata": {},
   "outputs": [],
   "source": [
    "incidents.med_errors_responsibility_counts(params=params)"
   ]
  },
  {
   "cell_type": "markdown",
   "metadata": {},
   "source": [
    "### Most Common Med Error Responsibility Type\n",
    "Creates the `med_errors_responsibility_counts` table and returns the first row as a tuple."
   ]
  },
  {
   "cell_type": "code",
   "execution_count": null,
   "metadata": {},
   "outputs": [],
   "source": [
    "incidents.most_common_med_errors_responsibility(params=params)"
   ]
  },
  {
   "cell_type": "markdown",
   "metadata": {},
   "source": [
    "### Number of Burns with an RN Assessment as a Follow Up\n",
    "Sum of the assessment_rn column from burns for burns occurring during the period."
   ]
  },
  {
   "cell_type": "code",
   "execution_count": null,
   "metadata": {},
   "outputs": [],
   "source": [
    "incidents.rn_assessment_following_burn_count(params=params)"
   ]
  },
  {
   "cell_type": "markdown",
   "metadata": {},
   "source": [
    "### Number of Med Errors Related to a High Risk Medication\n",
    "Finds descriptions that contain a high risk medication."
   ]
  },
  {
   "cell_type": "code",
   "execution_count": null,
   "metadata": {},
   "outputs": [],
   "source": [
    "incidents.high_risk_med_error_count(params=params)"
   ]
  },
  {
   "cell_type": "markdown",
   "metadata": {},
   "source": [
    "### Percent of Incidents Resulting in Major Harm or Death (Falls/Med Errors)\n",
    "`major_harm_or_death_count` divided by `num_incident` multiplied by 100."
   ]
  },
  {
   "cell_type": "code",
   "execution_count": null,
   "metadata": {},
   "outputs": [],
   "source": [
    "incidents.major_harm_percent(params=params, incident_table=\"falls\")"
   ]
  },
  {
   "cell_type": "markdown",
   "metadata": {},
   "source": [
    "### Adjusted Incidents per 100 Member Months (Falls/Med Errors/Wounds/Burns/Infections)\n",
    "`adjusted_incident_count` divided by `member_months` "
   ]
  },
  {
   "cell_type": "code",
   "execution_count": null,
   "metadata": {},
   "outputs": [],
   "source": [
    "incidents.adjusted_per_100MM(params=params, incident_table=\"falls\")"
   ]
  },
  {
   "cell_type": "markdown",
   "metadata": {},
   "source": [
    "### Percent of Wound that are Unstageable\n",
    "`unstageable_wounds_count` divided by `total_incidents` (with parameter of \"wounds\")"
   ]
  },
  {
   "cell_type": "code",
   "execution_count": null,
   "metadata": {},
   "outputs": [],
   "source": [
    "incidents.unstageable_wound_percent(params=params)"
   ]
  },
  {
   "cell_type": "markdown",
   "metadata": {},
   "source": [
    "### Percent of Burns with Degree 3rd Degree of Higher\n",
    "`third_degree_burn_count` divided by `total_incidents` (with parameter of \"burns\")"
   ]
  },
  {
   "cell_type": "code",
   "execution_count": null,
   "metadata": {},
   "outputs": [],
   "source": [
    "incidents.third_degree_burn_rate(params=params)"
   ]
  },
  {
   "cell_type": "markdown",
   "metadata": {},
   "source": [
    "### Percent of Burns that have an RN Assessment as Follow Up\n",
    "`rn_assessment_following_burn_count` divided by `total_incidents` (with parameter of \"burns\")"
   ]
  },
  {
   "cell_type": "code",
   "execution_count": null,
   "metadata": {},
   "outputs": [],
   "source": [
    "incidents.rn_assessment_following_burn_percent(params=params)"
   ]
  },
  {
   "cell_type": "markdown",
   "metadata": {},
   "source": [
    "## Utilization\n",
    "\n",
    "There are two utilization tables (inpatient and er_only). There are also 6 views of the inpatient table;\n",
    "+ acute\n",
    "+ psych\n",
    "+ nursing_home\n",
    "+ skilled\n",
    "+ respite\n",
    "+ custodial\n",
    "\n",
    "Some methods in the Utilization class require a utilization_table parameter to specify which type of utilization the statistic is being calculated for."
   ]
  },
  {
   "cell_type": "code",
   "execution_count": null,
   "metadata": {},
   "outputs": [],
   "source": [
    "utilization = pu.Utilization()"
   ]
  },
  {
   "cell_type": "markdown",
   "metadata": {},
   "source": [
    "### Admissions (Acute/Psych/Nursing Home/Custodial/Respite/Skilled)\n",
    "Count of admissions with an admission_date in the period."
   ]
  },
  {
   "cell_type": "code",
   "execution_count": null,
   "metadata": {},
   "outputs": [],
   "source": [
    "utilization.admissions_count(params=params, utilization_table=\"acute\")"
   ]
  },
  {
   "cell_type": "markdown",
   "metadata": {},
   "source": [
    "### Discharges (Acute/Psych/Nursing Home/Custodial/Respite/Skilled)\n",
    "Count of admissions with a discharge_date in the period."
   ]
  },
  {
   "cell_type": "code",
   "execution_count": null,
   "metadata": {},
   "outputs": [],
   "source": [
    "utilization.discharges_count(params=params, utilization_table=\"acute\")"
   ]
  },
  {
   "cell_type": "markdown",
   "metadata": {},
   "source": [
    "### Average Length of Stay  (Acute/Psych/Nursing Home/Custodial/Respite/Skilled)\n",
    "Average los (length of stay) for admissions with a discharge_date in the period."
   ]
  },
  {
   "cell_type": "code",
   "execution_count": null,
   "metadata": {},
   "outputs": [],
   "source": [
    "utilization.alos(params=params, utilization_table=\"acute\")"
   ]
  },
  {
   "cell_type": "markdown",
   "metadata": {},
   "source": [
    "### ER to Acute Admission Rate\n",
    "Sum of the er column from the acute view divided by the sum of that value and the count of er_only admissions during the period."
   ]
  },
  {
   "cell_type": "code",
   "execution_count": null,
   "metadata": {},
   "outputs": [],
   "source": [
    "utilization.er_to_inp_rate(params=params)"
   ]
  },
  {
   "cell_type": "markdown",
   "metadata": {},
   "source": [
    "### Average Length of Stay for Acute Admissions from the ER\n",
    "Average los for admissions in the acute with an er value of 1 and an admission_date during the period."
   ]
  },
  {
   "cell_type": "code",
   "execution_count": null,
   "metadata": {},
   "outputs": [],
   "source": [
    "utilization.alos_for_er_admissions(params=params)"
   ]
  },
  {
   "cell_type": "markdown",
   "metadata": {},
   "source": [
    "### Length of Stay per 100 Member Months\n",
    "Sum of los for admissions with an admission_date during the period divided by the sum of the first of the month census for each month during the period multiplied by 100."
   ]
  },
  {
   "cell_type": "code",
   "execution_count": null,
   "metadata": {},
   "outputs": [],
   "source": [
    "utilization.los_per_100mm(params=params, utilization_table=\"acute\")"
   ]
  },
  {
   "cell_type": "markdown",
   "metadata": {},
   "source": [
    "### Number of 30 Day Readmits\n",
    "Count of admissions during the period with a day_since_last_admission value below 30."
   ]
  },
  {
   "cell_type": "code",
   "execution_count": null,
   "metadata": {},
   "outputs": [],
   "source": [
    "utilization.readmits_30day(params=params, utilization_table=\"acute\")"
   ]
  },
  {
   "cell_type": "markdown",
   "metadata": {},
   "source": [
    "### 30 Day Readmit Rate\n",
    "`readmits_30_day` divided by `admissions_count`"
   ]
  },
  {
   "cell_type": "code",
   "execution_count": null,
   "metadata": {},
   "outputs": [],
   "source": [
    "utilization.readmits_30day_rate(params=params, utilization_table=\"acute\")"
   ]
  },
  {
   "cell_type": "markdown",
   "metadata": {},
   "source": [
    "### Number of Ppts in a Utilization Type During the Period (Acute/Psych/Nursing Home/Custodial/Respite/Skilled)\n",
    "Count of admissions with a discharge date that is null or greater than the start date and an admission_date less than the end date."
   ]
  },
  {
   "cell_type": "code",
   "execution_count": null,
   "metadata": {},
   "outputs": [],
   "source": [
    "utilization.ppts_in_utl(params=params, utilization_table=\"acute\")"
   ]
  },
  {
   "cell_type": "markdown",
   "metadata": {},
   "source": [
    "### Ppts in Utilization Type per 100 Member Months  (Acute/Psych/Nursing Home/Custodial/Respite/Skilled)\n",
    "`ppts_in_utl` divided by `member_months` multiplied by 100. "
   ]
  },
  {
   "cell_type": "code",
   "execution_count": null,
   "metadata": {},
   "outputs": [],
   "source": [
    "utilization.ppts_in_utl_per_100MM(params=params, utilization_table=\"acute\")"
   ]
  },
  {
   "cell_type": "markdown",
   "metadata": {},
   "source": [
    "### Percent of Ppts in a Utilization Type\n",
    "`ppts_in_utl` divided by `census_during_period`."
   ]
  },
  {
   "cell_type": "code",
   "execution_count": null,
   "metadata": {},
   "outputs": [],
   "source": [
    "utilization.ppts_in_utl_percent(params=params, utilization_table=\"acute\")"
   ]
  },
  {
   "cell_type": "markdown",
   "metadata": {},
   "source": [
    "### Discharge 30 Days or Less before Death\n",
    "Checks for an admission with a discharge date between the decease_date and the date 30 days prior, returns 1 if an admission exists, 0 otherwise."
   ]
  },
  {
   "cell_type": "code",
   "execution_count": null,
   "metadata": {},
   "outputs": [],
   "source": [
    "utilization.check_for_admission_30days_before_death(member_id=100122, deceased_date=\"2007-03-26\")"
   ]
  },
  {
   "cell_type": "markdown",
   "metadata": {},
   "source": [
    "### Utilization Related to Condition or Diagnosis\n",
    "Searches through the acute, er_only, admitting_claims, and claims_detail tables for any dx where the condition or condition_abr appear. Returns a pandas dataframe."
   ]
  },
  {
   "cell_type": "code",
   "execution_count": null,
   "metadata": {},
   "outputs": [],
   "source": [
    "utilization.utilization_related_to_condition(params=params,\n",
    "                                             condition=\"Chronic Obstructive Pulmonary Disease\",\n",
    "                                             condition_abr=\"COPD\")"
   ]
  },
  {
   "cell_type": "markdown",
   "metadata": {},
   "source": [
    "### LOS Over X During Period DataFrame\n",
    "Finds admissions with a discharge_date during the period and a los values above the provided *x*."
   ]
  },
  {
   "cell_type": "code",
   "execution_count": null,
   "metadata": {},
   "outputs": [],
   "source": [
    "utilization.los_over_x_df(params=params, x=7, utilization_table=\"acute\").head()"
   ]
  },
  {
   "cell_type": "markdown",
   "metadata": {},
   "source": [
    "### Number of Admissions with a LOS Over X During Period\n",
    "Count of admissions with a discharge_date during the period and a los values above the provided *x*."
   ]
  },
  {
   "cell_type": "code",
   "execution_count": null,
   "metadata": {},
   "outputs": [],
   "source": [
    "utilization.los_over_x_count(params=params, x=7, utilization_table=\"acute\")"
   ]
  },
  {
   "cell_type": "markdown",
   "metadata": {},
   "source": [
    "### Days Over X During Period DataFrame\n",
    "Days are calculated by subtracting the admission date from either the discharge date or the end date. This function then returns the admissions during the period with days above *x*."
   ]
  },
  {
   "cell_type": "code",
   "execution_count": null,
   "metadata": {},
   "outputs": [],
   "source": [
    "utilization.days_over_x_df(params=params, x=7, utilization_table=\"acute\").head()"
   ]
  },
  {
   "cell_type": "markdown",
   "metadata": {},
   "source": [
    "### Number of Days for Utilization Type in Period\n",
    "First the days for admissions that occur during the params is calculated. Next the days for admissions occurring before the period are calculated using the start date of the period as the admissions date. The sum of these two values are returned as the total utilization days during a given period."
   ]
  },
  {
   "cell_type": "code",
   "execution_count": null,
   "metadata": {},
   "outputs": [],
   "source": [
    "utilization.utilization_days(params=params, utilization_table=\"acute\")"
   ]
  },
  {
   "cell_type": "markdown",
   "metadata": {},
   "source": [
    "### Days for Utilization Type per 100 Member Months\n",
    "`utilization_days` divided by `member_months`."
   ]
  },
  {
   "cell_type": "code",
   "execution_count": null,
   "metadata": {},
   "outputs": [],
   "source": [
    "utilization.days_per_100MM(params=params, utilization_table=\"acute\")"
   ]
  },
  {
   "cell_type": "markdown",
   "metadata": {},
   "source": [
    "### Admit Reasons by LOS\n",
    "Finds admissions with a discharge_date during the period, orders them by los and then returns the *top_x* number of rows from that query as a pandas dataframe."
   ]
  },
  {
   "cell_type": "code",
   "execution_count": null,
   "metadata": {},
   "outputs": [],
   "source": [
    "utilization.top_admit_reason_by_los(params=params, top_x=10)"
   ]
  },
  {
   "cell_type": "markdown",
   "metadata": {},
   "source": [
    "### Top 10 ER Users\n",
    "Counts the numbers of visits with an admission_date during the period grouped by participants and returns the top 10 rows as a pandas dataframe."
   ]
  },
  {
   "cell_type": "code",
   "execution_count": null,
   "metadata": {},
   "outputs": [],
   "source": [
    "utilization.top_10_er_users(params=params)"
   ]
  },
  {
   "cell_type": "markdown",
   "metadata": {},
   "source": [
    "### 30 Day Readmission DataFrame\n",
    "Returns a pandas dataframe of any admissions with an admission_date during the period and a day_since_last_admission value less than or equal to 30."
   ]
  },
  {
   "cell_type": "code",
   "execution_count": null,
   "metadata": {},
   "outputs": [],
   "source": [
    "utilization.admissions_30day_readmit_df(params=params, utilization_table=\"acute\").head()"
   ]
  },
  {
   "cell_type": "markdown",
   "metadata": {},
   "source": [
    "### Admissions Resulting in a 30 Day Readmit DataFrame\n",
    "Finds the admission prior to any admissions in the `acute_admissions_30day_readmit_df`. Returns these admissions as a pandas dataframe."
   ]
  },
  {
   "cell_type": "code",
   "execution_count": null,
   "metadata": {},
   "outputs": [],
   "source": [
    "utilization.admissions_resulting_in_30day_df(params=params, utilization_table=\"acute\").head()"
   ]
  },
  {
   "cell_type": "markdown",
   "metadata": {},
   "source": [
    "### Unique Ppts with an Admission (Acute/Psych/Nursing Home/Custodial/Respite/Skilled)\n",
    "Returns a count of the distinct ppts with an admission during the period."
   ]
  },
  {
   "cell_type": "code",
   "execution_count": null,
   "metadata": {},
   "outputs": [],
   "source": [
    "utilization.unique_admissions_count(params=params, utilization_table=\"acute\")"
   ]
  },
  {
   "cell_type": "markdown",
   "metadata": {},
   "source": [
    "### Number of Weekend Admissions\n",
    "Returns a count of the admissions during the period with a dow value of 'Saturday' or 'Sunday'"
   ]
  },
  {
   "cell_type": "code",
   "execution_count": null,
   "metadata": {},
   "outputs": [],
   "source": [
    "utilization.weekend_admissions_count(params=params, utilization_table=\"acute\")"
   ]
  },
  {
   "cell_type": "markdown",
   "metadata": {},
   "source": [
    "### Percent of Admissions that Occur on the Weekend\n",
    "`weekend_admissions_count` divided by `admissions_count` multiplied by 100."
   ]
  },
  {
   "cell_type": "code",
   "execution_count": null,
   "metadata": {},
   "outputs": [],
   "source": [
    "utilization.weekend_admission_percent(params=params, utilization_table=\"acute\")"
   ]
  },
  {
   "cell_type": "markdown",
   "metadata": {},
   "source": [
    "### Admissions per 100 Member Months\n",
    "Sum of the count of admissions with an admission_date during the period divided by the sum of the first of the month census for each month during the period multiplied by 100."
   ]
  },
  {
   "cell_type": "code",
   "execution_count": null,
   "metadata": {},
   "outputs": [],
   "source": [
    "utilization.admissions_per_100MM(params=params, utilization_table=\"acute\")"
   ]
  },
  {
   "cell_type": "markdown",
   "metadata": {},
   "source": [
    "### Number of Nursing Facility Discharges to Custodial or Acute Hospital \n",
    "Finds all nursing_home admissions or discharges during the period. Merges any discharges that have a disposition of \"Nursing home or rehabilitation facility\" with all nursing_home admissions on the discharge_date matching the admission_date. Filter to only include those discharges with a non-null admission_date and a new admit_reason of \"custodial\" where a previous admit_reason was not custodial and count the discharges in this filtered group.\n",
    "\n",
    "It then sums up any discharges to \"Acute care hospital or psychiatric facility\".\n",
    "\n",
    "These two values are added together and returned. "
   ]
  },
  {
   "cell_type": "code",
   "execution_count": null,
   "metadata": {},
   "outputs": [],
   "source": [
    "utilization.nf_discharged_to_higher_loc(params=params)"
   ]
  },
  {
   "cell_type": "markdown",
   "metadata": {},
   "source": [
    "### Percent of Nursing Facility Discharges that are to Custodial or Acute Hospital\n",
    "`nf_discharged_to_higher_loc` divided by `discharges_count` for the nursing_home table multiplied by 100."
   ]
  },
  {
   "cell_type": "code",
   "execution_count": null,
   "metadata": {},
   "outputs": [],
   "source": [
    "utilization.percent_nf_discharged_to_higher_loc(params=params)"
   ]
  },
  {
   "cell_type": "markdown",
   "metadata": {},
   "source": [
    "## Quality"
   ]
  },
  {
   "cell_type": "code",
   "execution_count": null,
   "metadata": {},
   "outputs": [],
   "source": [
    "quality = pu.Quality()"
   ]
  },
  {
   "cell_type": "markdown",
   "metadata": {},
   "source": [
    "### Ppts Who Need Pneumococcal 23 Vaccination DataFrame\n",
    "Finds any ppts over 65 and enrolled during the period who does not have a record of receiving Pneumococcal 23. Returns a pandas dataframe of these ppts."
   ]
  },
  {
   "cell_type": "code",
   "execution_count": null,
   "metadata": {},
   "outputs": [],
   "source": [
    "quality.dataframe_query(\"SELECT * FROM ppts\").columns"
   ]
  },
  {
   "cell_type": "code",
   "execution_count": null,
   "metadata": {},
   "outputs": [],
   "source": [
    "quality.need_pneumo_23_df(params=params).head()"
   ]
  },
  {
   "cell_type": "markdown",
   "metadata": {},
   "source": [
    "### Ppts Who Need PCV 13 Vaccination DataFrame\n",
    "Find any ppts over 65 and enrolled during the period who does not have a record of receiving PCV 13. Returns a pandas dataframe of these ppts."
   ]
  },
  {
   "cell_type": "code",
   "execution_count": null,
   "metadata": {},
   "outputs": [],
   "source": [
    "quality.need_pcv_13_df(params=params).head()"
   ]
  },
  {
   "cell_type": "markdown",
   "metadata": {},
   "source": [
    "### Ppts Who Need ONLY Pneumococcal 23 Vaccination DataFrame\n",
    "\n",
    "Finds any ppts over 65 and enrolled during the period who does not have a record of receiving Pneumococcal 23 and has a record of receiving PCV 13. Returns a pandas dataframe of these ppts."
   ]
  },
  {
   "cell_type": "code",
   "execution_count": null,
   "metadata": {},
   "outputs": [],
   "source": [
    "quality.need_pneumo_23_only_df(params=params).head()"
   ]
  },
  {
   "cell_type": "markdown",
   "metadata": {},
   "source": [
    "### Ppts Who Need ONLY PCV 13 Vaccination DataFrame\n",
    "Finds any ppts over 65 and enrolled during the period who does not have a record of receiving PCV 13 and has a record of receiving Pneumococcal 23. Returns a pandas dataframe of these ppts."
   ]
  },
  {
   "cell_type": "code",
   "execution_count": null,
   "metadata": {},
   "outputs": [],
   "source": [
    "quality.need_pcv_13_only_df(params=params).head()"
   ]
  },
  {
   "cell_type": "markdown",
   "metadata": {},
   "source": [
    "### Ppts Who Need BOTH Pneumococcal 23 & PCV 13 Vaccination DataFrame\n",
    "\n",
    "Returns ppts who do not have either PCV 13 or Pneumococcal 23. If include_refused is True, will include participants who have previously refused the vaccination as still needing it, otherwise they are removed."
   ]
  },
  {
   "cell_type": "code",
   "execution_count": null,
   "metadata": {},
   "outputs": [],
   "source": [
    "quality.need_both_pneumo_vaccs_df(params=params).head()"
   ]
  },
  {
   "cell_type": "markdown",
   "metadata": {},
   "source": [
    "### Number of Ppts with Pneumococcal Vaccination\n",
    "Count of all enrolled ppts over the age of 65 who have at least one of the pneumo vaccinations."
   ]
  },
  {
   "cell_type": "code",
   "execution_count": null,
   "metadata": {},
   "outputs": [],
   "source": [
    "quality.has_pneumo_vacc_count(params=params)"
   ]
  },
  {
   "cell_type": "markdown",
   "metadata": {},
   "source": [
    "### Number of Ppts who Refused Pneumococcal Vaccination\n",
    "\n",
    "Count of all enrolled ppts over the age of 65 who have refused the vaccination and not received at least one of the pneumo vaccinations."
   ]
  },
  {
   "cell_type": "code",
   "execution_count": null,
   "metadata": {},
   "outputs": [],
   "source": [
    "quality.refused_pneumo_vacc_count(params=params)"
   ]
  },
  {
   "cell_type": "markdown",
   "metadata": {},
   "source": [
    "### Pneumococcal Vaccination Rate\n",
    "`has_pneumo_vacc_count` plus `refused_pneumo_vacc_count` divided by `age_above_65`."
   ]
  },
  {
   "cell_type": "code",
   "execution_count": null,
   "metadata": {},
   "outputs": [],
   "source": [
    "quality.pneumo_rate(params=params)"
   ]
  },
  {
   "cell_type": "markdown",
   "metadata": {},
   "source": [
    "### Ppts who Refused Pneumococcal Vaccination DataFrame\n",
    "\n",
    "Dataframe of all enrolled ppts over the age of 65 who have refused the vaccination and not received at least one of the pneumo vaccinations."
   ]
  },
  {
   "cell_type": "code",
   "execution_count": null,
   "metadata": {},
   "outputs": [],
   "source": [
    "quality.refused_pneumo_vacc_df(params=params).head()"
   ]
  },
  {
   "cell_type": "markdown",
   "metadata": {},
   "source": [
    "### Ppts with Pneumococcal Vaccination DataFrame\n",
    "Dataframe of all enrolled ppts over the age of 65 who have at least one of the pneumo vaccinations."
   ]
  },
  {
   "cell_type": "code",
   "execution_count": null,
   "metadata": {},
   "outputs": [],
   "source": [
    "quality.has_pneumo_vacc_df(params=params).head()"
   ]
  },
  {
   "cell_type": "markdown",
   "metadata": {},
   "source": [
    "### Influenza Related Calculations\n",
    "If the start date of the period is before April the start of the flu season is considered to be September 1st of the previous year. Other wise it will be the 1st of September in the same year as the parameter start.\n",
    "\n",
    "This means the period of April through August will always have no results."
   ]
  },
  {
   "cell_type": "markdown",
   "metadata": {},
   "source": [
    "### Ppts Who Need to be Offered the Influzenza Vaccination DataFrame\n",
    "Returns a dataframe of ppts enrolled during the period who do not have an influenza action (administer or refused) during the related flu season."
   ]
  },
  {
   "cell_type": "code",
   "execution_count": null,
   "metadata": {},
   "outputs": [],
   "source": [
    "quality.need_influenza_vacc_df(params=params).head()"
   ]
  },
  {
   "cell_type": "markdown",
   "metadata": {},
   "source": [
    "### Number of Ppts with Influzenza Vaccination\n",
    "Count of ppts who have an influenza vaccination (dose_status=1) during the related flu season."
   ]
  },
  {
   "cell_type": "code",
   "execution_count": null,
   "metadata": {},
   "outputs": [],
   "source": [
    "quality.has_influ_vacc_count(params=params)"
   ]
  },
  {
   "cell_type": "markdown",
   "metadata": {},
   "source": [
    "### Ppts with Influzenza Vaccination DataFrame\n",
    "Returns a dataframe of ppts enrolled during the period who have an influenza vaccination (dose_status=1) during the related flu season."
   ]
  },
  {
   "cell_type": "code",
   "execution_count": null,
   "metadata": {},
   "outputs": [],
   "source": [
    "quality.has_influ_vacc_df(params=params).head()"
   ]
  },
  {
   "cell_type": "markdown",
   "metadata": {},
   "source": [
    "### Number of Ppts who Refused Influenza\n",
    "Count of ppts who have refused the influenza vaccination (dose_status=0) during the related flu season and not subsequently received it."
   ]
  },
  {
   "cell_type": "code",
   "execution_count": null,
   "metadata": {},
   "outputs": [],
   "source": [
    "quality.refused_influ_vacc_count(params=params)"
   ]
  },
  {
   "cell_type": "markdown",
   "metadata": {},
   "source": [
    "### Ppts who Refused Influenza DataFrame\n",
    "Returns a dataframe of ppts enrolled during the period who have refused an influenza vaccination during the related flu season."
   ]
  },
  {
   "cell_type": "code",
   "execution_count": null,
   "metadata": {},
   "outputs": [],
   "source": [
    "quality.refused_influ_vacc_df(params=params).head()"
   ]
  },
  {
   "cell_type": "markdown",
   "metadata": {},
   "source": [
    "### Influenza Vaccination Rate\n",
    "The sum of ppts enrolled during the period who have either received or refused the influenza vaccination divided by the census during the period."
   ]
  },
  {
   "cell_type": "code",
   "execution_count": null,
   "metadata": {},
   "outputs": [],
   "source": [
    "quality.influ_rate(params=params)"
   ]
  },
  {
   "cell_type": "markdown",
   "metadata": {},
   "source": [
    "### Mortality Rate\n",
    "The number of deaths during the period divided by the census during the period."
   ]
  },
  {
   "cell_type": "code",
   "execution_count": null,
   "metadata": {},
   "outputs": [],
   "source": [
    "quality.mortality_rate(params=params)"
   ]
  },
  {
   "cell_type": "markdown",
   "metadata": {},
   "source": [
    "### Mortality within 30 Days of Discharge Rate\n",
    "The rate of deaths that occurred within 30 days of discharge from a hospital. This is deaths within 30 days of discharge divided by total deaths during the period."
   ]
  },
  {
   "cell_type": "code",
   "execution_count": null,
   "metadata": {},
   "outputs": [],
   "source": [
    "quality.mortality_within_30days_of_discharge_rate(params=params)"
   ]
  },
  {
   "cell_type": "markdown",
   "metadata": {},
   "source": [
    "### Percent of Discharges that Result in Death within 30 Days\n",
    "The rate of discharges that result in death within 30 days. This is deaths within 30 days of discharge divided by total hospital discharges during the period."
   ]
  },
  {
   "cell_type": "code",
   "execution_count": null,
   "metadata": {},
   "outputs": [],
   "source": [
    "quality.percent_of_discharges_with_mortality_in_30(params=params)"
   ]
  },
  {
   "cell_type": "markdown",
   "metadata": {},
   "source": [
    "### Percent of Ppts without Acute Admission Since Enrollment\n",
    "Percent of ppts who do not have a recorded acute hospital admissions."
   ]
  },
  {
   "cell_type": "code",
   "execution_count": null,
   "metadata": {},
   "outputs": [],
   "source": [
    "quality.no_hosp_admission_since_enrollment(params=params)"
   ]
  },
  {
   "cell_type": "markdown",
   "metadata": {},
   "source": [
    "### Percent of Ppts without Acute Admission in the Last Year\n",
    "Percent of ppts who do not have a recorded acute hospital admissions within the year prior to the provided end date."
   ]
  },
  {
   "cell_type": "code",
   "execution_count": null,
   "metadata": {},
   "outputs": [],
   "source": [
    "quality.no_hosp_admission_last_year(params=params)"
   ]
  },
  {
   "cell_type": "markdown",
   "metadata": {},
   "source": [
    "### Average Days From Enrollment to First Custodial Admission or Average Days Until Nursing Facility Admission\n",
    "The average of the difference between the first admission date to a custodial stay and the ppt enrollment date for ppts enrolled in the period."
   ]
  },
  {
   "cell_type": "code",
   "execution_count": null,
   "metadata": {},
   "outputs": [],
   "source": [
    "quality.avg_days_until_nf_admission(params=params)"
   ]
  },
  {
   "cell_type": "markdown",
   "metadata": {},
   "source": [
    "## Team\n",
    "\n",
    "Team functions take the functions listed in the modules above and create dataframe where each row is the team and the value of the function for that team."
   ]
  },
  {
   "cell_type": "code",
   "execution_count": null,
   "metadata": {},
   "outputs": [],
   "source": [
    "team = pu.Team()"
   ]
  },
  {
   "cell_type": "markdown",
   "metadata": {},
   "source": [
    "### Admissions by Team"
   ]
  },
  {
   "cell_type": "code",
   "execution_count": null,
   "metadata": {},
   "outputs": [],
   "source": [
    "team.admissions_by_team(params=params, utilization_table=\"acute\")"
   ]
  },
  {
   "cell_type": "markdown",
   "metadata": {},
   "source": [
    "### Utilization Days by Team"
   ]
  },
  {
   "cell_type": "code",
   "execution_count": null,
   "metadata": {},
   "outputs": [],
   "source": [
    "team.days_by_team(params=params, utilization_table=\"acute\")"
   ]
  },
  {
   "cell_type": "markdown",
   "metadata": {},
   "source": [
    "### Discharges by Team"
   ]
  },
  {
   "cell_type": "code",
   "execution_count": null,
   "metadata": {},
   "outputs": [],
   "source": [
    "team.discharges_by_team(params=params, utilization_table=\"acute\")"
   ]
  },
  {
   "cell_type": "markdown",
   "metadata": {},
   "source": [
    "### Average Length of Stay by Team"
   ]
  },
  {
   "cell_type": "code",
   "execution_count": null,
   "metadata": {},
   "outputs": [],
   "source": [
    "team.alos_for_discharges_by_team(params=params, utilization_table=\"acute\")"
   ]
  },
  {
   "cell_type": "markdown",
   "metadata": {},
   "source": [
    "### 30 Day Readmissions by Team"
   ]
  },
  {
   "cell_type": "code",
   "execution_count": null,
   "metadata": {},
   "outputs": [],
   "source": [
    "team.readmits_by_team(params=params, utilization_table=\"acute\")"
   ]
  },
  {
   "cell_type": "markdown",
   "metadata": {},
   "source": [
    "### Average Age by Team"
   ]
  },
  {
   "cell_type": "code",
   "execution_count": null,
   "metadata": {},
   "outputs": [],
   "source": [
    "team.avg_age_by_team(params=params)"
   ]
  },
  {
   "cell_type": "markdown",
   "metadata": {},
   "source": [
    "### Percent Non-English Primary Speakers by Team"
   ]
  },
  {
   "cell_type": "code",
   "execution_count": null,
   "metadata": {},
   "outputs": [],
   "source": [
    "team.percent_primary_non_english_by_team(params=params)"
   ]
  },
  {
   "cell_type": "markdown",
   "metadata": {},
   "source": [
    "### Average Years Enrolled in PACE by Team"
   ]
  },
  {
   "cell_type": "code",
   "execution_count": null,
   "metadata": {},
   "outputs": [],
   "source": [
    "team.avg_years_enrolled_by_team(params=params)"
   ]
  },
  {
   "cell_type": "markdown",
   "metadata": {},
   "source": [
    "### Number of Ppts in Custodial Care by Team"
   ]
  },
  {
   "cell_type": "code",
   "execution_count": null,
   "metadata": {},
   "outputs": [],
   "source": [
    "team.ppts_in_custodial_by_team(params=params)"
   ]
  },
  {
   "cell_type": "markdown",
   "metadata": {},
   "source": [
    "### Number of Ppts on Team"
   ]
  },
  {
   "cell_type": "code",
   "execution_count": null,
   "metadata": {},
   "outputs": [],
   "source": [
    "team.ppts_on_team(params=params)"
   ]
  },
  {
   "cell_type": "markdown",
   "metadata": {},
   "source": [
    "### Member Months during Period for Team"
   ]
  },
  {
   "cell_type": "code",
   "execution_count": null,
   "metadata": {},
   "outputs": [],
   "source": [
    "team.team_member_months(params=params)"
   ]
  },
  {
   "cell_type": "markdown",
   "metadata": {},
   "source": [
    "### Mortality Rate by Team"
   ]
  },
  {
   "cell_type": "code",
   "execution_count": null,
   "metadata": {},
   "outputs": [],
   "source": [
    "team.mortality_by_team(params=(\"2017-01-01\", \"2019-10-01\"))"
   ]
  },
  {
   "cell_type": "markdown",
   "metadata": {},
   "source": [
    "### Deaths by Team"
   ]
  },
  {
   "cell_type": "code",
   "execution_count": null,
   "metadata": {},
   "outputs": [],
   "source": [
    "team.mortality_by_team(params=params, total=True)"
   ]
  },
  {
   "cell_type": "markdown",
   "metadata": {},
   "source": [
    "### Mortality within 30 Days of Discharge"
   ]
  },
  {
   "cell_type": "code",
   "execution_count": null,
   "metadata": {},
   "outputs": [],
   "source": [
    "team.mortality_within_30days_of_discharge_by_team_df(params=params)"
   ]
  },
  {
   "cell_type": "markdown",
   "metadata": {},
   "source": [
    "### Percent of Discharges with a Death within 30 Days by Team"
   ]
  },
  {
   "cell_type": "code",
   "execution_count": null,
   "metadata": {},
   "outputs": [],
   "source": [
    "team.percent_of_discharges_with_mortality_in_30_by_team(params=params)"
   ]
  },
  {
   "cell_type": "markdown",
   "metadata": {},
   "source": [
    "### Mortality within 30 Days of Discharge Rate by Team"
   ]
  },
  {
   "cell_type": "code",
   "execution_count": null,
   "metadata": {},
   "outputs": [],
   "source": [
    "team.mortality_within_30days_of_discharge_rate_by_team(params=params)"
   ]
  },
  {
   "cell_type": "markdown",
   "metadata": {},
   "source": [
    "### Percent of Ppts with No Acute Admission Since Enrollment by Team"
   ]
  },
  {
   "cell_type": "code",
   "execution_count": null,
   "metadata": {},
   "outputs": [],
   "source": [
    "team.no_hosp_admission_since_enrollment_by_team(params=params)"
   ]
  },
  {
   "cell_type": "markdown",
   "metadata": {},
   "source": [
    "### Pressure Ulcer Rate by Team"
   ]
  },
  {
   "cell_type": "code",
   "execution_count": null,
   "metadata": {},
   "outputs": [],
   "source": [
    "team.pressure_ulcer_rate_by_team(params=params)"
   ]
  },
  {
   "cell_type": "markdown",
   "metadata": {},
   "source": [
    "### Incidents by Team (Falls/Med Errors/Wounds/Burns/Infections)"
   ]
  },
  {
   "cell_type": "code",
   "execution_count": null,
   "metadata": {},
   "outputs": [],
   "source": [
    "team.total_incidents_by_team(params=params, incident_table=\"falls\")"
   ]
  },
  {
   "cell_type": "markdown",
   "metadata": {},
   "source": [
    "### Incidents per Member by Team (Falls/Med Errors/Wounds/Burns/Infections)"
   ]
  },
  {
   "cell_type": "code",
   "execution_count": null,
   "metadata": {},
   "outputs": [],
   "source": [
    "team.incidents_per_member_by_team(params=params, incident_table=\"falls\")"
   ]
  },
  {
   "cell_type": "markdown",
   "metadata": {},
   "source": [
    "### Number of Ppts with an Incident by Team (Falls/Med Errors/Wounds/Burns/Infections)"
   ]
  },
  {
   "cell_type": "code",
   "execution_count": null,
   "metadata": {},
   "outputs": [],
   "source": [
    "team.ppts_w_incident_by_team(params=params, incident_table=\"falls\")"
   ]
  },
  {
   "cell_type": "markdown",
   "metadata": {},
   "source": [
    "### Create a Time/Value DataFrame for Plotting"
   ]
  },
  {
   "cell_type": "code",
   "execution_count": null,
   "metadata": {},
   "outputs": [],
   "source": [
    "team.loop_plot_team_df(team.ppts_on_team, params=params, freq=\"MS\", col_suffix=\"_census\")"
   ]
  },
  {
   "cell_type": "markdown",
   "metadata": {},
   "source": [
    "### Create a Time/Value DataFrame for Plotting"
   ]
  },
  {
   "cell_type": "code",
   "execution_count": null,
   "metadata": {},
   "outputs": [],
   "source": [
    "team.loop_plot_team_df(team.ppts_w_incident_by_team,\n",
    "                       params=params,\n",
    "                       freq=\"QS\",\n",
    "                       additional_func_args = [\"falls\"],\n",
    "                       col_suffix=\"_census\")"
   ]
  },
  {
   "cell_type": "markdown",
   "metadata": {},
   "source": [
    "## Agg\n",
    "\n",
    "Defaults to the Agg SQLite database(V:\\Databases\\agg.db), contains a few tables with aggregate data by month or quarter. Mostly used for plotting on the dashboard\n",
    "\n",
    "Add `_q` to any table below to return the data aggregated by quarter instead of month.\n",
    "\n",
    "+ enrollment\n",
    "+ demographics\n",
    "+ falls\n",
    "+ med_errors\n",
    "+ wounds\n",
    "+ burns\n",
    "+ infections\n",
    "+ utilization\n",
    "+ quality\n",
    "+ team_utl\n",
    "+ team_info\n",
    "+ team_incidents\n",
    "+ center_enrollment"
   ]
  },
  {
   "cell_type": "code",
   "execution_count": null,
   "metadata": {},
   "outputs": [],
   "source": [
    "agg = pu.Agg()"
   ]
  },
  {
   "cell_type": "code",
   "execution_count": null,
   "metadata": {},
   "outputs": [],
   "source": [
    "agg.get_plot_df(table=\"enrollment\", col=\"census\", params=(\"2019-01-01\", \"2019-10-01\"))"
   ]
  },
  {
   "cell_type": "code",
   "execution_count": null,
   "metadata": {},
   "outputs": [],
   "source": [
    "agg.get_plot_df(table=\"enrollment_q\", col=\"census\", params=(\"2019-01-01\", \"2019-10-01\"))"
   ]
  },
  {
   "cell_type": "code",
   "execution_count": null,
   "metadata": {},
   "outputs": [],
   "source": [
    "agg.team_plot_df(table=\"team_info\", col=\"ppts\", params=(\"2019-01-01\", \"2019-10-01\"))"
   ]
  },
  {
   "cell_type": "code",
   "execution_count": null,
   "metadata": {},
   "outputs": [],
   "source": [
    "agg.team_plot_df(table=\"team_utl_q\", col=\"custodial_ppts\", params=(\"2019-01-01\", \"2019-10-01\"))"
   ]
  },
  {
   "cell_type": "markdown",
   "metadata": {},
   "source": [
    "# WIP(Beta) Classes"
   ]
  },
  {
   "cell_type": "markdown",
   "metadata": {},
   "source": [
    "## Participant"
   ]
  },
  {
   "cell_type": "code",
   "execution_count": null,
   "metadata": {},
   "outputs": [],
   "source": [
    "ppt = pu.Participant()"
   ]
  },
  {
   "cell_type": "markdown",
   "metadata": {},
   "source": [
    "### Utilization Related to Ppt in Period"
   ]
  },
  {
   "cell_type": "code",
   "execution_count": null,
   "metadata": {},
   "outputs": [],
   "source": [
    "ppt.utilization(params=(\"2018-09-01\", \"2019-09-30\"), utilization_table=\"acute\", member_id=100811)"
   ]
  },
  {
   "cell_type": "markdown",
   "metadata": {},
   "source": [
    "### Get Ppt Name from Member ID"
   ]
  },
  {
   "cell_type": "code",
   "execution_count": null,
   "metadata": {},
   "outputs": [],
   "source": [
    "ppt.name(member_id=100811)"
   ]
  },
  {
   "cell_type": "markdown",
   "metadata": {},
   "source": [
    "## Center Classes\n",
    "### CenterEnrollment & CenterDemographics\n",
    "\n",
    "Working on completing these or moving to add a \"center\" parameter to all of the functions in the classes above."
   ]
  },
  {
   "cell_type": "code",
   "execution_count": null,
   "metadata": {},
   "outputs": [],
   "source": [
    "center_enrollment = pu.CenterEnrollment()"
   ]
  },
  {
   "cell_type": "code",
   "execution_count": null,
   "metadata": {},
   "outputs": [],
   "source": [
    "center_enrollment.census_during_period(params=params, center=\"Providence\")"
   ]
  },
  {
   "cell_type": "code",
   "execution_count": null,
   "metadata": {},
   "outputs": [],
   "source": [
    "enrolled_addresses, disenrolled_addresses = center_enrollment.address_mapping_df(center=\"Providence\")\n",
    "enrolled_addresses.head()"
   ]
  },
  {
   "cell_type": "code",
   "execution_count": null,
   "metadata": {},
   "outputs": [],
   "source": [
    "center_demographics = pu.CenterDemographics()"
   ]
  },
  {
   "cell_type": "code",
   "execution_count": null,
   "metadata": {},
   "outputs": [],
   "source": [
    "print(center_demographics.percent_primary_non_english(params, center=\"Providence\"))\n",
    "print(center_demographics.percent_primary_non_english(params, center=\"Woonsocket\"))\n",
    "print(center_demographics.percent_primary_non_english(params, center=\"Westerly\"))"
   ]
  }
 ],
 "metadata": {
  "kernelspec": {
   "display_name": "Python 3",
   "language": "python",
   "name": "python3"
  },
  "language_info": {
   "codemirror_mode": {
    "name": "ipython",
    "version": 3
   },
   "file_extension": ".py",
   "mimetype": "text/x-python",
   "name": "python",
   "nbconvert_exporter": "python",
   "pygments_lexer": "ipython3",
   "version": "3.7.3"
  }
 },
 "nbformat": 4,
 "nbformat_minor": 2
}
